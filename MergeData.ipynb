{
 "cells": [
  {
   "cell_type": "code",
   "execution_count": 3,
   "id": "4a5cf64f",
   "metadata": {},
   "outputs": [
    {
     "name": "stdout",
     "output_type": "stream",
     "text": [
      "trigger predict 140867 load from ./predict/DuEE_fin/trigger/test_pred.json\n",
      "role predict 33007 load from ./predict/DuEE_fin/role/test_pred.json\n",
      "enum predict 140867 load from ./predict/DuEE_fin/enerm/test_pred.json\n",
      "schema 13 load from ./dictionary/event_schema.json\n",
      "submit data 30000 save to ./submit/DuEE_fin/test_duee_fin_erine_multilabel2.json\n"
     ]
    }
   ],
   "source": [
    "### multilabel classfication with header trick use \n",
    "\n",
    "!python duee_fin_postprocess_trick1.py --trigger_file ./predict/DuEE_fin/trigger/test_pred.json \\\n",
    "    --role_file ./predict/DuEE_fin/role/test_pred.json \\\n",
    "    --enum_file ./predict/DuEE_fin/enerm/test_pred.json --schema_file ./dictionary/event_schema.json \\\n",
    "    --save_path ./submit/DuEE_fin/test_duee_fin_erine_multilabel2.json --multilabel"
   ]
  },
  {
   "cell_type": "code",
   "execution_count": null,
   "id": "aaf365d0",
   "metadata": {},
   "outputs": [],
   "source": []
  }
 ],
 "metadata": {
  "kernelspec": {
   "display_name": "Python 3",
   "language": "python",
   "name": "python3"
  },
  "language_info": {
   "codemirror_mode": {
    "name": "ipython",
    "version": 3
   },
   "file_extension": ".py",
   "mimetype": "text/x-python",
   "name": "python",
   "nbconvert_exporter": "python",
   "pygments_lexer": "ipython3",
   "version": "3.7.4"
  }
 },
 "nbformat": 4,
 "nbformat_minor": 5
}
