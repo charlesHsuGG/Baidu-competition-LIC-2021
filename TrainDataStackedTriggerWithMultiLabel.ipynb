{
 "cells": [
  {
   "cell_type": "code",
   "execution_count": null,
   "id": "1cb2621d",
   "metadata": {},
   "outputs": [],
   "source": [
    "import json\n",
    "import random\n",
    "\n",
    "import torch\n",
    "import torch.nn as nn\n",
    "from torch.optim import AdamW\n",
    "import numpy as np\n",
    "from torch.utils.data import Dataset\n",
    "import torch.nn.functional as F\n",
    "from sklearn.metrics import f1_score, recall_score, precision_score, accuracy_score\n",
    "from torch.optim import Adam\n",
    "\n",
    "from torch.utils.data import DataLoader, Dataset, RandomSampler, SequentialSampler\n",
    "from tqdm import tqdm_notebook as tqdm\n",
    "\n",
    "from transformers import AutoTokenizer, AutoConfig, AutoModel, AutoModelForTokenClassification\n",
    "\n",
    "from crf_layer import CRFLayer\n",
    "from multiLabelTokenClassfication import MultiLabelTokenClassification\n",
    "from stackedModel import MultiLabelStackedClassification\n",
    "\n",
    "from utils import extract_result_multilabel\n",
    "\n",
    "import warnings\n",
    "warnings.filterwarnings(action='ignore',category=UserWarning,module='torch')"
   ]
  },
  {
   "cell_type": "code",
   "execution_count": null,
   "id": "63c733f7",
   "metadata": {},
   "outputs": [],
   "source": [
    "def load_dict(dict_path):\n",
    "    \"\"\"load_dict\"\"\"\n",
    "    vocab = {}\n",
    "    for line in open(dict_path, 'r', encoding='utf-8'):\n",
    "        value, key = line.strip('\\n').split('\\t')\n",
    "        vocab[key] = int(value)\n",
    "    return vocab"
   ]
  },
  {
   "cell_type": "code",
   "execution_count": null,
   "id": "0caa3944",
   "metadata": {},
   "outputs": [],
   "source": [
    "enum_role = \"环节\"\n",
    "max_seq_len = 512\n",
    "\n",
    "label_vocab = load_dict(dict_path='./dictionary/trigger_tag.dict')\n",
    "id2label = {val: key for key, val in label_vocab.items()}"
   ]
  },
  {
   "cell_type": "code",
   "execution_count": null,
   "id": "cab1a8ec",
   "metadata": {},
   "outputs": [],
   "source": [
    "def data_process(dataset):\n",
    "    \"\"\"data_process\"\"\"\n",
    "\n",
    "    def label_data(data, start, l, _type):\n",
    "        \"\"\"label_data\"\"\"\n",
    "        for i in range(start, start + l):\n",
    "            suffix = \"B-\" if i == start else \"I-\"\n",
    "            if isinstance(data[i], str):\n",
    "                data[i] = []\n",
    "            solt = \"{}{}\".format(suffix, _type)\n",
    "            if solt not in data[i]:\n",
    "                data[i].append(solt)\n",
    "        return data\n",
    "    \n",
    "    def replace_control_chars(str):\n",
    "        if str == '\\u200b' or str == '\\ufeff' or str == '\\ue601' or str == '\\u3000':\n",
    "            return '[UNK]'\n",
    "        else:\n",
    "            return str\n",
    "\n",
    "    output = []\n",
    "    for d_json in dataset:\n",
    "        _id = d_json[\"id\"]\n",
    "        text_a = [\n",
    "            \"，\" if t == \" \" or t == \"\\n\" or t == \"\\t\" else replace_control_chars(t)\n",
    "            for t in list(d_json[\"text\"].lower())\n",
    "        ]\n",
    "        labels = [\"O\"] * len(text_a)\n",
    "        if len(d_json.get(\"event_list\", [])) == 0:\n",
    "            continue\n",
    "        for event in d_json.get(\"event_list\", []):\n",
    "            event_type = event[\"event_type\"]\n",
    "            start = event[\"trigger_start_index\"]\n",
    "            trigger = event[\"trigger\"]\n",
    "            if start >= 0:\n",
    "                labels = label_data(labels, start, len(trigger), event_type)\n",
    "        output.append({\n",
    "            \"tokens\": text_a, \"labels\": labels\n",
    "        })\n",
    "    return output"
   ]
  },
  {
   "cell_type": "code",
   "execution_count": null,
   "id": "597fd28c",
   "metadata": {},
   "outputs": [],
   "source": [
    "def set_seed(seed = 42):\n",
    "    \"\"\"Set the seed for generating random numbers on all GPUs.\n",
    "\n",
    "    It's safe to call this function if CUDA is not available; in that case, it is silently ignored.\n",
    "\n",
    "    Args:\n",
    "        seed (int, optional): random numbers on all GPUs. Defaults to 42.\n",
    "    \"\"\"\n",
    "    random.seed(seed)\n",
    "    np.random.seed(seed)\n",
    "    torch.manual_seed(seed)"
   ]
  },
  {
   "cell_type": "code",
   "execution_count": null,
   "id": "18b7265a",
   "metadata": {},
   "outputs": [],
   "source": [
    "# setting device on GPU if available, else CPU\n",
    "device = torch.device('cuda:2' if torch.cuda.is_available() else 'cpu')\n",
    "print('Using device:', device)\n",
    "print()\n",
    "\n",
    "#Additional Info when using cuda\n",
    "if device.type == 'cuda':\n",
    "    n_gpu = torch.cuda.device_count()\n",
    "    print(torch.cuda.get_device_name(0))\n",
    "    \n",
    "    print('Memory Usage:')\n",
    "    print('Allocated:', torch.cuda.memory_allocated(0)/1024**3, 'GB')\n",
    "    print('Cached:   ', torch.cuda.memory_reserved(0)/1024**3, 'GB')\n",
    "    \n",
    "    print('CUDA Device Count:', n_gpu)\n",
    "    \n",
    "set_seed(seed=42)"
   ]
  },
  {
   "cell_type": "code",
   "execution_count": null,
   "id": "fec7071f",
   "metadata": {},
   "outputs": [],
   "source": [
    "model_dict = {\n",
    "    'ernie-base': AutoTokenizer.from_pretrained(\"nghuyong/ernie-1.0\"),\n",
    "    'roberta-chinese-base': AutoTokenizer.from_pretrained(\"hfl/chinese-roberta-wwm-ext\"),\n",
    "    'roberta-chinese-large': AutoTokenizer.from_pretrained(\"hfl/chinese-roberta-wwm-ext-large\"),\n",
    "}"
   ]
  },
  {
   "cell_type": "code",
   "execution_count": null,
   "id": "3948641d",
   "metadata": {},
   "outputs": [],
   "source": [
    "class BaiduEventDataset(Dataset):\n",
    "    \n",
    "    def __init__(self, dataset_path, label_dict_path):\n",
    "        self.label_vocab = load_dict(label_dict_path)\n",
    "        self.label_num = max(self.label_vocab.values()) + 1\n",
    "        self.examples = []\n",
    "        with open(dataset_path, 'r', encoding='utf-8') as f:\n",
    "            dataset = json.loads(f.read())\n",
    "            preprocess_dataset = data_process(dataset)\n",
    "            for d_json in tqdm(preprocess_dataset, total=len(preprocess_dataset)):\n",
    "                tokens = d_json['tokens']\n",
    "                b_input_ids, b_attention_masks, b_token_type_ids = [], [], []\n",
    "                for tokenizer in model_dict.values():\n",
    "                    PADDING = tokenizer.vocab[tokenizer.pad_token]\n",
    "                    SEP = tokenizer.vocab[tokenizer.sep_token]\n",
    "                    input_ids = tokenizer(tokens, is_split_into_words=True, add_special_tokens=True, max_length=max_seq_len, truncation=True)['input_ids']\n",
    "                    tokens_input = input_ids + [PADDING] * (max_seq_len - len(input_ids))\n",
    "                    attention_masks = self._get_attention_mask(input_ids, max_seq_len)\n",
    "                    token_type_ids = self._get_token_type_id(input_ids, max_seq_len, sep_token=SEP)\n",
    "                    b_input_ids.append(tokens_input)\n",
    "                    b_attention_masks.append(attention_masks)\n",
    "                    b_token_type_ids.append(token_type_ids)\n",
    "                example = {\n",
    "                    \"input_ids\": b_input_ids, \"attention_masks\": b_attention_masks, \"token_type_ids\": b_token_type_ids, \"seq_lens\": len(tokens)\n",
    "                }\n",
    "                if 'labels' in d_json:\n",
    "                    labels = d_json['labels']\n",
    "                    labels = labels[:(max_seq_len - 2)]\n",
    "                    encoded_label = [\"O\"] + labels + [\"O\"]\n",
    "                    encoded_label = self.to_one_hot_vector(encoded_label, max_seq_len - 2 - len(labels))\n",
    "                    example.update({\"encoded_label\": encoded_label})\n",
    "                self.examples.append(example)\n",
    "                \n",
    "    def to_one_hot_vector(self, labels, zero_padding_len = 0):\n",
    "        \"\"\"Convert seq to one hot.\"\"\"\n",
    "        one_hot_vectors = []\n",
    "        for label in labels:\n",
    "            one_hot_vector = np.zeros(self.label_num)\n",
    "            if isinstance(label, str):\n",
    "                one_hot_vector[self.label_vocab.get(label, 0)] = 1\n",
    "            elif isinstance(label, list):\n",
    "                for l in label:\n",
    "                    one_hot_vector[self.label_vocab.get(l, 0)] = 1\n",
    "            one_hot_vectors.append(one_hot_vector)\n",
    "        for _ in range(zero_padding_len):\n",
    "            one_hot_vector = np.zeros(self.label_num)\n",
    "            one_hot_vectors.append(one_hot_vector)\n",
    "        return np.array(one_hot_vectors)\n",
    "\n",
    "    def _get_attention_mask(self, input_ids, max_seq_len):\n",
    "        \"\"\"Mask for padding.\"\"\"\n",
    "        if len(input_ids) > max_seq_len:\n",
    "            raise IndexError(\"Token length more than max seq length!\")\n",
    "        return [1] * len(input_ids) + [0] * (max_seq_len - len(input_ids))\n",
    "\n",
    "    def _get_token_type_id(self, input_ids, max_seq_len, sep_token):\n",
    "        \"\"\"Segments: 0 for the first sequence, 1 for the second.\"\"\"\n",
    "        if len(input_ids) > max_seq_len:\n",
    "            raise IndexError(\"Token length more than max seq length!\")\n",
    "        segments = []\n",
    "        current_segment_id = 0\n",
    "        for input_id in input_ids:\n",
    "            segments.append(current_segment_id)\n",
    "            if input_id == sep_token:\n",
    "                current_segment_id = 1\n",
    "        return segments + [0] * (max_seq_len - len(input_ids))        \n",
    "    \n",
    "    def __len__(self):\n",
    "        return len(self.examples)\n",
    "    \n",
    "    def __getitem__(self, item_idx):\n",
    "        example = {\n",
    "            \"input_ids\": torch.tensor(self.examples[item_idx][\"input_ids\"]).long(),\n",
    "            \"attention_masks\": torch.tensor(self.examples[item_idx][\"attention_masks\"]),\n",
    "            \"token_type_ids\": torch.tensor(self.examples[item_idx][\"token_type_ids\"]),\n",
    "            \"seq_lens\": self.examples[item_idx][\"seq_lens\"]\n",
    "        }\n",
    "        if \"encoded_label\" in self.examples[item_idx]:\n",
    "            example.update({\"encoded_label\": torch.tensor(self.examples[item_idx][\"encoded_label\"], dtype=torch.float)})\n",
    "        return example"
   ]
  },
  {
   "cell_type": "code",
   "execution_count": null,
   "id": "fb7b93e5",
   "metadata": {},
   "outputs": [],
   "source": [
    "train_dataset = BaiduEventDataset(dataset_path='./resources/duee_fin_train_preprocess.json', label_dict_path='./dictionary/trigger_tag.dict')\n",
    "dev_dataset = BaiduEventDataset(dataset_path='./resources/duee_fin_dev_preprocess.json', label_dict_path='./dictionary/trigger_tag.dict')"
   ]
  },
  {
   "cell_type": "code",
   "execution_count": null,
   "id": "68fc6480",
   "metadata": {},
   "outputs": [],
   "source": [
    "dev_dataset[0]"
   ]
  },
  {
   "cell_type": "code",
   "execution_count": null,
   "id": "000812d0",
   "metadata": {},
   "outputs": [],
   "source": [
    "models = [\n",
    "    torch.load(f'./models/DuEE_fin/{model_name}/trigger-multilabel.bin').to(device)\n",
    "    for model_name in model_dict.keys()\n",
    "]\n",
    "stacked_model = MultiLabelStackedClassification(models=models, num_labels=len(label_vocab))"
   ]
  },
  {
   "cell_type": "code",
   "execution_count": null,
   "id": "ae8682bc",
   "metadata": {},
   "outputs": [],
   "source": [
    "@torch.no_grad()\n",
    "def evaluate(model, eval_dataloader):\n",
    "    model.eval()\n",
    "    step = 0\n",
    "    eval_acc = 0.0\n",
    "    eval_f1 = 0.0\n",
    "    eval_precision = 0.0\n",
    "    eval_recall = 0.0\n",
    "    eval_loss = 0.0\n",
    "    for batch in eval_dataloader:\n",
    "        loss, logits = model(\n",
    "            input_ids=batch['input_ids'].to(device),\n",
    "            attention_mask=batch['attention_masks'].to(device),\n",
    "            token_type_ids=batch['token_type_ids'].to(device),\n",
    "            labels=batch['encoded_label'].to(device)\n",
    "        )\n",
    "        \n",
    "#         if n_gpu > 1:\n",
    "#             loss = loss.mean()\n",
    "        \n",
    "        eval_loss += loss.item()\n",
    "        pred_Y = (torch.sigmoid(logits).data > 0.5).cpu().numpy()\n",
    "        true_Y = batch['encoded_label'].cpu().numpy()\n",
    "        batch_size = true_Y.shape[0]\n",
    "        batch_precision, batch_recall, batch_f1 = 0.0, 0.0, 0.0\n",
    "        for text, t_ids, p_ids, seq_len in zip(batch[\"text\"], true_Y, pred_Y, batch['seq_lens']):\n",
    "            true_label, pred_label = [], []\n",
    "            for pid in p_ids[1: seq_len - 1]:\n",
    "                true_indices = np.argwhere(pid).flatten()\n",
    "                pred_label.append([id2label[true_index] for true_index in true_indices])\n",
    "            p_ret = extract_result_multilabel(text, pred_label)\n",
    "            pred_event_types = set([(p[\"type\"], ''.join(p[\"text\"]), p[\"start\"]) for p in p_ret])\n",
    "            for tid in t_ids[1: seq_len - 1]:\n",
    "                true_indices = np.argwhere(tid).flatten()\n",
    "                true_label.append([id2label[true_index] for true_index in true_indices])\n",
    "            t_ret = extract_result_multilabel(text, true_label)\n",
    "            true_event_types = set([(t[\"type\"], ''.join(t[\"text\"]), t[\"start\"]) for t in t_ret])\n",
    "            count_predict = len(list(pred_event_types))\n",
    "            count_true = len(list(true_event_types))\n",
    "            count_correct = len(list(pred_event_types & true_event_types))\n",
    "            p = count_correct / max(1, count_predict)  # precision\n",
    "            r = count_correct / max(1, count_true)  # recall\n",
    "            batch_precision += p\n",
    "            batch_recall += r\n",
    "            batch_f1 += 2 * r * p / max(1e-9, r + p) # f1 score\n",
    "        eval_acc += accuracy_score(pred_Y.flatten(), true_Y.flatten())\n",
    "        eval_precision += batch_precision / batch_size\n",
    "        eval_recall += batch_recall / batch_size\n",
    "        eval_f1 += batch_f1 / batch_size\n",
    "        step += 1\n",
    "    model.train()\n",
    "    return eval_loss/step, eval_acc/step, eval_precision/step, eval_recall/step, eval_f1/step"
   ]
  },
  {
   "cell_type": "code",
   "execution_count": null,
   "id": "8d34c25b",
   "metadata": {},
   "outputs": [],
   "source": [
    "### train model\n",
    "\n",
    "def train(model, ds_train, ds_dev = None, n_epochs = 100, learning_rate = 1e-2, weight_decay = 0.01, batch_size = 1, eval_per_epoch = 1):\n",
    "    model = model.to(device)\n",
    "    \n",
    "    train_sampler = RandomSampler(ds_train)\n",
    "    train_dataloader = DataLoader(ds_train, sampler=train_sampler, batch_size=batch_size)\n",
    "    \n",
    "    eval_sampler = SequentialSampler(ds_dev)\n",
    "    eval_dataloader = DataLoader(ds_dev, sampler=eval_sampler, batch_size=batch_size)\n",
    "    \n",
    "    decay_params = [\n",
    "        p.name for n, p in model.named_parameters()\n",
    "        if not any(nd in n for nd in [\"bias\", \"norm\"])\n",
    "    ]\n",
    "\n",
    "#     if n_gpu > 1:\n",
    "#         model = torch.nn.DataParallel(model, device_ids=[0, 1, 2])\n",
    "\n",
    "    optimizer_grouped_parameters = [{\n",
    "        \"params\": model.parameters(),\n",
    "        \"lr\": learning_rate, \n",
    "        \"weight_decay\": weight_decay,\n",
    "        \"apply_decay_param_fun\": lambda x: x in decay_params\n",
    "    }]\n",
    "    optimizer = AdamW(optimizer_grouped_parameters)\n",
    "#     scheduler = ReduceLROnPlateau(optimizer, \"min\")\n",
    "    \n",
    "    f1 = 0.0\n",
    "    acc = 0.0\n",
    "    precision = 0.0\n",
    "    recall = 0.0\n",
    "    tr_loss = 0.0\n",
    "    global_step = 0\n",
    "    model.train()\n",
    "    model.zero_grad()\n",
    "    postfix = {}\n",
    "    for epoch in range(0, n_epochs):\n",
    "        eval_flag = False\n",
    "        train_iterator = tqdm(train_dataloader, desc=f\"Epoch {epoch + 1}/{n_epochs}\")\n",
    "        for batch in train_iterator:\n",
    "            loss, logits = model(\n",
    "                input_ids=batch['input_ids'].to(device),\n",
    "                attention_mask=batch['attention_masks'].to(device),\n",
    "                token_type_ids=batch['token_type_ids'].to(device),\n",
    "                labels=batch['encoded_label'].to(device)\n",
    "            )\n",
    "            \n",
    "#             if n_gpu > 1:\n",
    "#                 loss = loss.mean()\n",
    "            \n",
    "            loss.backward()\n",
    "            optimizer.step()\n",
    "            # scheduler.step(loss)\n",
    "\n",
    "            tr_loss += loss.item()\n",
    "            pred_Y = (torch.sigmoid(logits).data > 0.5).cpu().numpy()\n",
    "            true_Y = batch['encoded_label'].cpu().numpy()\n",
    "            batch_size = true_Y.shape[0]\n",
    "            batch_precision, batch_recall, batch_f1 = 0.0, 0.0, 0.0\n",
    "            for text, t_ids, p_ids, seq_len in zip(batch[\"text\"], true_Y, pred_Y, batch['seq_lens']):\n",
    "                true_label, pred_label = [], []\n",
    "                for pid in p_ids[1: seq_len - 1]:\n",
    "                    true_indices = np.argwhere(pid).flatten()\n",
    "                    pred_label.append([id2label[true_index] for true_index in true_indices])\n",
    "                p_ret = extract_result_multilabel(text, pred_label)\n",
    "                pred_event_types = set([(p[\"type\"], ''.join(p[\"text\"]), p[\"start\"]) for p in p_ret])\n",
    "                for tid in t_ids[1: seq_len - 1]:\n",
    "                    true_indices = np.argwhere(tid).flatten()\n",
    "                    true_label.append([id2label[true_index] for true_index in true_indices])\n",
    "                t_ret = extract_result_multilabel(text, true_label)\n",
    "                true_event_types = set([(t[\"type\"], ''.join(t[\"text\"]), t[\"start\"]) for t in t_ret])\n",
    "                count_predict = len(list(pred_event_types))\n",
    "                count_true = len(list(true_event_types))\n",
    "                count_correct = len(list(pred_event_types & true_event_types))\n",
    "                p = count_correct / max(1, count_predict)  # precision\n",
    "                r = count_correct / max(1, count_true)  # recall\n",
    "                batch_precision += p\n",
    "                batch_recall += r\n",
    "                batch_f1 += 2 * r * p / max(1e-9, r + p) # f1 score\n",
    "            acc += accuracy_score(pred_Y.flatten(), true_Y.flatten())\n",
    "            precision += batch_precision / batch_size\n",
    "            recall += batch_recall / batch_size\n",
    "            f1 += batch_f1 / batch_size\n",
    "            model.zero_grad()\n",
    "\n",
    "            postfix.update({\"Avg loss\": f\"{tr_loss / (global_step + 1):.5f}\", \"Avg acc score\": f\"{acc / (global_step + 1):.5f}\", \"Avg precision score\": f\"{precision / (global_step + 1):.5f}\", \"Avg recall score\": f\"{recall / (global_step + 1):.5f}\", \"Avg f1 score\": f\"{f1 / (global_step + 1):.5f}\"})\n",
    "            if (\n",
    "                not eval_flag\n",
    "                and (global_step + 1) % len(train_dataloader) == 0\n",
    "                and (epoch % eval_per_epoch) == 0\n",
    "            ):\n",
    "                if ds_dev is not None:\n",
    "                    eval_loss, eval_acc, eval_precision, eval_recall, eval_f1 = evaluate(model, eval_dataloader)\n",
    "                postfix.update({\"Avg eval loss\": f\"{eval_loss:.5f}\", \"Avg eval acc\": f\"{eval_acc:.5f}\", \"Avg eval precision\": f\"{eval_precision:.5f}\", \"Avg eval recall\": f\"{eval_recall:.5f}\", \"Avg eval f1\": f\"{eval_f1:.5f}\"})\n",
    "                eval_flag = True\n",
    "            train_iterator.set_postfix(postfix)\n",
    "            global_step += 1"
   ]
  },
  {
   "cell_type": "code",
   "execution_count": null,
   "id": "8953ba8a",
   "metadata": {},
   "outputs": [],
   "source": [
    "train(stacked_model, train_dataset, ds_dev=dev_dataset, n_epochs=30, batch_size=256)"
   ]
  },
  {
   "cell_type": "code",
   "execution_count": null,
   "id": "c8bcc235",
   "metadata": {},
   "outputs": [],
   "source": [
    "torch.save(stacked_model.state_dict(), './models/DuEE_fin/stacked/stacked_trigger-multilabel.dict')"
   ]
  },
  {
   "cell_type": "code",
   "execution_count": null,
   "id": "b7a31871",
   "metadata": {},
   "outputs": [],
   "source": [
    "torch.cuda.empty_cache()"
   ]
  },
  {
   "cell_type": "code",
   "execution_count": null,
   "id": "706cfab2",
   "metadata": {},
   "outputs": [],
   "source": []
  }
 ],
 "metadata": {
  "kernelspec": {
   "display_name": "Python 3",
   "language": "python",
   "name": "python3"
  },
  "language_info": {
   "codemirror_mode": {
    "name": "ipython",
    "version": 3
   },
   "file_extension": ".py",
   "mimetype": "text/x-python",
   "name": "python",
   "nbconvert_exporter": "python",
   "pygments_lexer": "ipython3",
   "version": "3.7.4"
  },
  "widgets": {
   "application/vnd.jupyter.widget-state+json": {
    "state": {
     "002af51533784f8f9fa9df1824ecc61d": {
      "model_module": "@jupyter-widgets/base",
      "model_module_version": "1.2.0",
      "model_name": "LayoutModel",
      "state": {}
     },
     "0034c90f12ae4cce9caf9cb031408d81": {
      "model_module": "@jupyter-widgets/base",
      "model_module_version": "1.2.0",
      "model_name": "LayoutModel",
      "state": {}
     },
     "01124bc9e7314417981bf4089491289e": {
      "model_module": "@jupyter-widgets/base",
      "model_module_version": "1.2.0",
      "model_name": "LayoutModel",
      "state": {}
     },
     "01562b9bf5dc428e8f03f5cf63a930fa": {
      "model_module": "@jupyter-widgets/controls",
      "model_module_version": "1.5.0",
      "model_name": "HTMLModel",
      "state": {
       "layout": "IPY_MODEL_27257d58acbc41b5ae46562bd053c977",
       "style": "IPY_MODEL_4a216f5e4ca54e009a1a5f4962b1b336",
       "value": " 227/227 [1:39:18&lt;00:00, 26.25s/it, Avg loss=0.01, Avg acc score=1.00, Avg precision score=0.99, Avg recall score=0.99, Avg f1 score=0.99, Avg eval loss=0.00, Avg eval acc=1.00, Avg eval precision=1.00, Avg eval recall=1.00, Avg eval f1=1.00]"
      }
     },
     "01dadbcdef024b938d56ba78509e2b3a": {
      "model_module": "@jupyter-widgets/base",
      "model_module_version": "1.2.0",
      "model_name": "LayoutModel",
      "state": {}
     },
     "02760ee9441b4e5a981da6754e2c1c0c": {
      "model_module": "@jupyter-widgets/base",
      "model_module_version": "1.2.0",
      "model_name": "LayoutModel",
      "state": {}
     },
     "0370478e83de48d78cfcdfe4265a5671": {
      "model_module": "@jupyter-widgets/base",
      "model_module_version": "1.2.0",
      "model_name": "LayoutModel",
      "state": {}
     },
     "0663a74211cc4b14ae5a56ebadcdc673": {
      "model_module": "@jupyter-widgets/controls",
      "model_module_version": "1.5.0",
      "model_name": "ProgressStyleModel",
      "state": {
       "description_width": "initial"
      }
     },
     "0b672054f5f34c3ea00bf5bc34e16eab": {
      "model_module": "@jupyter-widgets/base",
      "model_module_version": "1.2.0",
      "model_name": "LayoutModel",
      "state": {}
     },
     "0b8f3998666e48749851ef294092a251": {
      "model_module": "@jupyter-widgets/base",
      "model_module_version": "1.2.0",
      "model_name": "LayoutModel",
      "state": {}
     },
     "0bc1b3d3c3114a8f9513d1a306753792": {
      "model_module": "@jupyter-widgets/controls",
      "model_module_version": "1.5.0",
      "model_name": "DescriptionStyleModel",
      "state": {
       "description_width": ""
      }
     },
     "0c08d27c501241f0a148e2223867d79c": {
      "model_module": "@jupyter-widgets/controls",
      "model_module_version": "1.5.0",
      "model_name": "HTMLModel",
      "state": {
       "layout": "IPY_MODEL_5df35df51fb34d80b6cadc12cf150cab",
       "style": "IPY_MODEL_b7d7f5ebbe374e87ae184caef0093691",
       "value": " 227/227 [19:36&lt;00:00,  5.18s/it, Avg loss=0.03, Avg acc score=1.00, Avg precision score=0.97, Avg recall score=0.98, Avg f1 score=0.97, Avg eval loss=0.00, Avg eval acc=1.00, Avg eval precision=0.99, Avg eval recall=1.00, Avg eval f1=1.00]"
      }
     },
     "0edfe5fc60f149f680bb75c187f37e89": {
      "model_module": "@jupyter-widgets/base",
      "model_module_version": "1.2.0",
      "model_name": "LayoutModel",
      "state": {}
     },
     "0f15c7685dc64c4aa95d630c5044763b": {
      "model_module": "@jupyter-widgets/controls",
      "model_module_version": "1.5.0",
      "model_name": "ProgressStyleModel",
      "state": {
       "description_width": "initial"
      }
     },
     "11bceeddc27a4418b0dd7b90d783d81f": {
      "model_module": "@jupyter-widgets/controls",
      "model_module_version": "1.5.0",
      "model_name": "DescriptionStyleModel",
      "state": {
       "description_width": ""
      }
     },
     "143d64df81f344799738b51e2a734288": {
      "model_module": "@jupyter-widgets/base",
      "model_module_version": "1.2.0",
      "model_name": "LayoutModel",
      "state": {}
     },
     "159c9e19177444aea1f834d44839349f": {
      "model_module": "@jupyter-widgets/controls",
      "model_module_version": "1.5.0",
      "model_name": "ProgressStyleModel",
      "state": {
       "description_width": "initial"
      }
     },
     "1738a7fbd73b498992ffaa210edff7b1": {
      "model_module": "@jupyter-widgets/base",
      "model_module_version": "1.2.0",
      "model_name": "LayoutModel",
      "state": {}
     },
     "1b6c0a08ff314e3bb64fae2b1df82059": {
      "model_module": "@jupyter-widgets/controls",
      "model_module_version": "1.5.0",
      "model_name": "IntProgressModel",
      "state": {
       "bar_style": "success",
       "description": "Epoch 4/20: 100%",
       "layout": "IPY_MODEL_69c70425a7b848929c7836b72164bbe5",
       "max": 227,
       "style": "IPY_MODEL_dfa4d96cdbad4d7ba0131321bc142577",
       "value": 227
      }
     },
     "1c00a30449fd4b85bcf684219752acbd": {
      "model_module": "@jupyter-widgets/controls",
      "model_module_version": "1.5.0",
      "model_name": "IntProgressModel",
      "state": {
       "bar_style": "success",
       "description": "Epoch 8/20: 100%",
       "layout": "IPY_MODEL_002af51533784f8f9fa9df1824ecc61d",
       "max": 227,
       "style": "IPY_MODEL_68e3d0afd97f4283a5893d4a32588643",
       "value": 227
      }
     },
     "1ca29df4019542499a6447e108fe600f": {
      "model_module": "@jupyter-widgets/controls",
      "model_module_version": "1.5.0",
      "model_name": "DescriptionStyleModel",
      "state": {
       "description_width": ""
      }
     },
     "1ce46b155e8345c39249fa9930936b97": {
      "model_module": "@jupyter-widgets/controls",
      "model_module_version": "1.5.0",
      "model_name": "DescriptionStyleModel",
      "state": {
       "description_width": ""
      }
     },
     "224cc741784d4434bf4b9bff7922ee2e": {
      "model_module": "@jupyter-widgets/base",
      "model_module_version": "1.2.0",
      "model_name": "LayoutModel",
      "state": {}
     },
     "23294163f71b4af4b1a2c9be5dd6aa12": {
      "model_module": "@jupyter-widgets/controls",
      "model_module_version": "1.5.0",
      "model_name": "HBoxModel",
      "state": {
       "children": [
        "IPY_MODEL_3eec56afc7e342ad8f2d4568f48c5375",
        "IPY_MODEL_b9016a70d7264fe39f279920d411cd40"
       ],
       "layout": "IPY_MODEL_f91a4783b77c4ef388c697853f646d85"
      }
     },
     "243b78ace44e4008a335c76a46a08b57": {
      "model_module": "@jupyter-widgets/base",
      "model_module_version": "1.2.0",
      "model_name": "LayoutModel",
      "state": {}
     },
     "25edc6957cca42b9b2da0d94fe701427": {
      "model_module": "@jupyter-widgets/controls",
      "model_module_version": "1.5.0",
      "model_name": "DescriptionStyleModel",
      "state": {
       "description_width": ""
      }
     },
     "26e7d4a5378e417289570929b56f5588": {
      "model_module": "@jupyter-widgets/base",
      "model_module_version": "1.2.0",
      "model_name": "LayoutModel",
      "state": {}
     },
     "27257d58acbc41b5ae46562bd053c977": {
      "model_module": "@jupyter-widgets/base",
      "model_module_version": "1.2.0",
      "model_name": "LayoutModel",
      "state": {}
     },
     "27ac0783864347998bba8f5c6aeb605f": {
      "model_module": "@jupyter-widgets/controls",
      "model_module_version": "1.5.0",
      "model_name": "HTMLModel",
      "state": {
       "layout": "IPY_MODEL_0edfe5fc60f149f680bb75c187f37e89",
       "style": "IPY_MODEL_0bc1b3d3c3114a8f9513d1a306753792",
       "value": " 227/227 [1:26:13&lt;00:00, 22.79s/it, Avg loss=0.01, Avg acc score=1.00, Avg precision score=0.99, Avg recall score=1.00, Avg f1 score=0.99, Avg eval loss=0.00, Avg eval acc=1.00, Avg eval precision=1.00, Avg eval recall=1.00, Avg eval f1=1.00]"
      }
     },
     "27b4532e1710439a88c13f18df875c39": {
      "model_module": "@jupyter-widgets/controls",
      "model_module_version": "1.5.0",
      "model_name": "IntProgressModel",
      "state": {
       "bar_style": "success",
       "description": "Epoch 3/20: 100%",
       "layout": "IPY_MODEL_01dadbcdef024b938d56ba78509e2b3a",
       "max": 227,
       "style": "IPY_MODEL_da2fd59a75ea4c62ba0d0fd56e5b883d",
       "value": 227
      }
     },
     "2cda8bc5a50b4e1fb1d0662dbb7c5e66": {
      "model_module": "@jupyter-widgets/controls",
      "model_module_version": "1.5.0",
      "model_name": "ProgressStyleModel",
      "state": {
       "description_width": "initial"
      }
     },
     "2e56828ba3974ddc8da733d1845d1d05": {
      "model_module": "@jupyter-widgets/controls",
      "model_module_version": "1.5.0",
      "model_name": "HBoxModel",
      "state": {
       "children": [
        "IPY_MODEL_4aeae32fb4bb4bbf81a68f2991f194c5",
        "IPY_MODEL_bc8949432f7b4a90b7a21914f66db290"
       ],
       "layout": "IPY_MODEL_e0dd842cb7a54bffa218aa6a182ff973"
      }
     },
     "2f8f3d0e8e044f13ad6d290134e8e14f": {
      "model_module": "@jupyter-widgets/controls",
      "model_module_version": "1.5.0",
      "model_name": "ProgressStyleModel",
      "state": {
       "description_width": "initial"
      }
     },
     "311cd4d4e34245dc8f47565a2a6a1784": {
      "model_module": "@jupyter-widgets/controls",
      "model_module_version": "1.5.0",
      "model_name": "IntProgressModel",
      "state": {
       "bar_style": "success",
       "description": "Epoch 18/20: 100%",
       "layout": "IPY_MODEL_59f65b7a948946f19af63a53992dcd18",
       "max": 227,
       "style": "IPY_MODEL_39ef71234a1240efbf9b265335a3b819",
       "value": 227
      }
     },
     "311fa69e9baa414fb4f8db84149a45ee": {
      "model_module": "@jupyter-widgets/base",
      "model_module_version": "1.2.0",
      "model_name": "LayoutModel",
      "state": {}
     },
     "34627ef3cf6d45dd886bd6c5ed1b9bc0": {
      "model_module": "@jupyter-widgets/controls",
      "model_module_version": "1.5.0",
      "model_name": "IntProgressModel",
      "state": {
       "bar_style": "success",
       "description": "Epoch 15/20: 100%",
       "layout": "IPY_MODEL_01124bc9e7314417981bf4089491289e",
       "max": 227,
       "style": "IPY_MODEL_d3bb77ffc7bd410fbf7431ebff2501af",
       "value": 227
      }
     },
     "37ce0367f9b7419c888a986e509651e2": {
      "model_module": "@jupyter-widgets/base",
      "model_module_version": "1.2.0",
      "model_name": "LayoutModel",
      "state": {}
     },
     "39ef71234a1240efbf9b265335a3b819": {
      "model_module": "@jupyter-widgets/controls",
      "model_module_version": "1.5.0",
      "model_name": "ProgressStyleModel",
      "state": {
       "description_width": "initial"
      }
     },
     "3daa1f1fa5214c629937c57eea34059c": {
      "model_module": "@jupyter-widgets/controls",
      "model_module_version": "1.5.0",
      "model_name": "HTMLModel",
      "state": {
       "layout": "IPY_MODEL_8b538577d4bc4f239101b9fe7e6a7cf9",
       "style": "IPY_MODEL_6739105b0c0c4fd993f9e34149433151",
       "value": " 227/227 [06:34&lt;00:00,  1.74s/it, Avg loss=0.01, Avg acc score=1.00, Avg precision score=0.98, Avg recall score=0.99, Avg f1 score=0.98, Avg eval loss=0.00, Avg eval acc=1.00, Avg eval precision=1.00, Avg eval recall=1.00, Avg eval f1=1.00]"
      }
     },
     "3dacca2539fe4daabd816521516ec947": {
      "model_module": "@jupyter-widgets/controls",
      "model_module_version": "1.5.0",
      "model_name": "DescriptionStyleModel",
      "state": {
       "description_width": ""
      }
     },
     "3e8437f8cb7b43a49e03dfb2947feb21": {
      "model_module": "@jupyter-widgets/base",
      "model_module_version": "1.2.0",
      "model_name": "LayoutModel",
      "state": {}
     },
     "3eec56afc7e342ad8f2d4568f48c5375": {
      "model_module": "@jupyter-widgets/controls",
      "model_module_version": "1.5.0",
      "model_name": "IntProgressModel",
      "state": {
       "bar_style": "success",
       "description": "Epoch 5/20: 100%",
       "layout": "IPY_MODEL_92a2baaba8314107b42ab555caaf8b79",
       "max": 227,
       "style": "IPY_MODEL_f71f2375b500406dbf8970ebd9d63671",
       "value": 227
      }
     },
     "3fe4c35e1ad241568b096afda9c1e085": {
      "model_module": "@jupyter-widgets/controls",
      "model_module_version": "1.5.0",
      "model_name": "HBoxModel",
      "state": {
       "children": [
        "IPY_MODEL_faeab3300dbe49a4938017940673b8d3",
        "IPY_MODEL_5ba78b696ca941968239c771e25459c7"
       ],
       "layout": "IPY_MODEL_f0902b46b8bb4c90b91495b4bacea7f1"
      }
     },
     "416fb1cea5eb46aaa8bcdb46228f4077": {
      "model_module": "@jupyter-widgets/controls",
      "model_module_version": "1.5.0",
      "model_name": "IntProgressModel",
      "state": {
       "bar_style": "success",
       "description": "Epoch 17/20: 100%",
       "layout": "IPY_MODEL_44b6acaaeda146da843fd07ab8701cf3",
       "max": 227,
       "style": "IPY_MODEL_0f15c7685dc64c4aa95d630c5044763b",
       "value": 227
      }
     },
     "43b71f7314a04515b72438198e56817b": {
      "model_module": "@jupyter-widgets/controls",
      "model_module_version": "1.5.0",
      "model_name": "ProgressStyleModel",
      "state": {
       "description_width": "initial"
      }
     },
     "44b6acaaeda146da843fd07ab8701cf3": {
      "model_module": "@jupyter-widgets/base",
      "model_module_version": "1.2.0",
      "model_name": "LayoutModel",
      "state": {}
     },
     "496b694fab694487b85996628e1553a1": {
      "model_module": "@jupyter-widgets/controls",
      "model_module_version": "1.5.0",
      "model_name": "HBoxModel",
      "state": {
       "children": [
        "IPY_MODEL_27b4532e1710439a88c13f18df875c39",
        "IPY_MODEL_89c2889f54b547058857dac8957dfb69"
       ],
       "layout": "IPY_MODEL_51ddd29588f5400cb966616175b6e8e5"
      }
     },
     "4a216f5e4ca54e009a1a5f4962b1b336": {
      "model_module": "@jupyter-widgets/controls",
      "model_module_version": "1.5.0",
      "model_name": "DescriptionStyleModel",
      "state": {
       "description_width": ""
      }
     },
     "4a4dca378edb4f89b9d0828fd0b7ea0d": {
      "model_module": "@jupyter-widgets/base",
      "model_module_version": "1.2.0",
      "model_name": "LayoutModel",
      "state": {}
     },
     "4aeae32fb4bb4bbf81a68f2991f194c5": {
      "model_module": "@jupyter-widgets/controls",
      "model_module_version": "1.5.0",
      "model_name": "IntProgressModel",
      "state": {
       "bar_style": "success",
       "description": "Epoch 13/20: 100%",
       "layout": "IPY_MODEL_0370478e83de48d78cfcdfe4265a5671",
       "max": 227,
       "style": "IPY_MODEL_eac28aeef41641efb7450fbbaf138b2d",
       "value": 227
      }
     },
     "50567240f00846f68cbf599e229690fc": {
      "model_module": "@jupyter-widgets/controls",
      "model_module_version": "1.5.0",
      "model_name": "HBoxModel",
      "state": {
       "children": [
        "IPY_MODEL_311cd4d4e34245dc8f47565a2a6a1784",
        "IPY_MODEL_e60d16790518434f9c89d9b6be17b675"
       ],
       "layout": "IPY_MODEL_783d277955814cd2bfbf372fc7be51b3"
      }
     },
     "5095355057674570a7a487ba4f28aca5": {
      "model_module": "@jupyter-widgets/controls",
      "model_module_version": "1.5.0",
      "model_name": "IntProgressModel",
      "state": {
       "bar_style": "success",
       "description": "Epoch 19/20: 100%",
       "layout": "IPY_MODEL_143d64df81f344799738b51e2a734288",
       "max": 227,
       "style": "IPY_MODEL_d1d35434a56e43dfb11be1581824f201",
       "value": 227
      }
     },
     "50fa9c37fdb04f1e98426a0870ec2731": {
      "model_module": "@jupyter-widgets/base",
      "model_module_version": "1.2.0",
      "model_name": "LayoutModel",
      "state": {}
     },
     "51ddd29588f5400cb966616175b6e8e5": {
      "model_module": "@jupyter-widgets/base",
      "model_module_version": "1.2.0",
      "model_name": "LayoutModel",
      "state": {}
     },
     "528df188be4f4e9594091d5407668fd8": {
      "model_module": "@jupyter-widgets/controls",
      "model_module_version": "1.5.0",
      "model_name": "DescriptionStyleModel",
      "state": {
       "description_width": ""
      }
     },
     "53f5f0dc37314259862dc2deab39187e": {
      "model_module": "@jupyter-widgets/controls",
      "model_module_version": "1.5.0",
      "model_name": "HBoxModel",
      "state": {
       "children": [
        "IPY_MODEL_c3c2627deb614ce7b55f723f19ce4722",
        "IPY_MODEL_01562b9bf5dc428e8f03f5cf63a930fa"
       ],
       "layout": "IPY_MODEL_f55d6899b48f485b9791f06473a0844d"
      }
     },
     "575d2fba8e95478eba50142eed73d206": {
      "model_module": "@jupyter-widgets/base",
      "model_module_version": "1.2.0",
      "model_name": "LayoutModel",
      "state": {}
     },
     "57e26247a99343d09bdf8413113ce75d": {
      "model_module": "@jupyter-widgets/base",
      "model_module_version": "1.2.0",
      "model_name": "LayoutModel",
      "state": {}
     },
     "59081da529eb49318a9303041e05ff27": {
      "model_module": "@jupyter-widgets/controls",
      "model_module_version": "1.5.0",
      "model_name": "HBoxModel",
      "state": {
       "children": [
        "IPY_MODEL_698745ca955c4c5dbc16bc8ac70dd47f",
        "IPY_MODEL_617b399ccf09427aba713446c2692763"
       ],
       "layout": "IPY_MODEL_afc4786ff6a04fca91fa70985528c388"
      }
     },
     "59a790d28d534d05a7b64fe8ee009453": {
      "model_module": "@jupyter-widgets/controls",
      "model_module_version": "1.5.0",
      "model_name": "ProgressStyleModel",
      "state": {
       "description_width": "initial"
      }
     },
     "59f65b7a948946f19af63a53992dcd18": {
      "model_module": "@jupyter-widgets/base",
      "model_module_version": "1.2.0",
      "model_name": "LayoutModel",
      "state": {}
     },
     "5b426dcffe30431692d7a90643a32fc4": {
      "model_module": "@jupyter-widgets/controls",
      "model_module_version": "1.5.0",
      "model_name": "HTMLModel",
      "state": {
       "layout": "IPY_MODEL_37ce0367f9b7419c888a986e509651e2",
       "style": "IPY_MODEL_25edc6957cca42b9b2da0d94fe701427",
       "value": " 227/227 [26:09&lt;00:00,  6.91s/it, Avg loss=0.05, Avg acc score=0.99, Avg precision score=0.94, Avg recall score=0.97, Avg f1 score=0.94, Avg eval loss=0.01, Avg eval acc=1.00, Avg eval precision=0.99, Avg eval recall=0.99, Avg eval f1=0.99]"
      }
     },
     "5ba78b696ca941968239c771e25459c7": {
      "model_module": "@jupyter-widgets/controls",
      "model_module_version": "1.5.0",
      "model_name": "HTMLModel",
      "state": {
       "layout": "IPY_MODEL_7d509692434244d68f42bf2985740975",
       "style": "IPY_MODEL_3dacca2539fe4daabd816521516ec947",
       "value": " 227/227 [06:36&lt;00:00,  1.75s/it, Avg loss=0.01, Avg acc score=1.00, Avg precision score=0.99, Avg recall score=1.00, Avg f1 score=0.99, Avg eval loss=0.00, Avg eval acc=1.00, Avg eval precision=1.00, Avg eval recall=1.00, Avg eval f1=1.00]"
      }
     },
     "5cd3b0d57b8e42bd883c04f1b1c08dc5": {
      "model_module": "@jupyter-widgets/controls",
      "model_module_version": "1.5.0",
      "model_name": "HTMLModel",
      "state": {
       "layout": "IPY_MODEL_3e8437f8cb7b43a49e03dfb2947feb21",
       "style": "IPY_MODEL_1ce46b155e8345c39249fa9930936b97",
       "value": " 227/227 [1:00:07&lt;00:00, 15.89s/it, Avg loss=0.01, Avg acc score=1.00, Avg precision score=0.99, Avg recall score=1.00, Avg f1 score=0.99, Avg eval loss=0.00, Avg eval acc=1.00, Avg eval precision=1.00, Avg eval recall=1.00, Avg eval f1=1.00]"
      }
     },
     "5df35df51fb34d80b6cadc12cf150cab": {
      "model_module": "@jupyter-widgets/base",
      "model_module_version": "1.2.0",
      "model_name": "LayoutModel",
      "state": {}
     },
     "5e44c34679c14db097d5c5113c16bb42": {
      "model_module": "@jupyter-widgets/controls",
      "model_module_version": "1.5.0",
      "model_name": "HBoxModel",
      "state": {
       "children": [
        "IPY_MODEL_34627ef3cf6d45dd886bd6c5ed1b9bc0",
        "IPY_MODEL_aeee55f957b64b85940541c3fd12ef65"
       ],
       "layout": "IPY_MODEL_4a4dca378edb4f89b9d0828fd0b7ea0d"
      }
     },
     "609c1d0f7aab408e84f04bcee5ab38a6": {
      "model_module": "@jupyter-widgets/base",
      "model_module_version": "1.2.0",
      "model_name": "LayoutModel",
      "state": {}
     },
     "617b399ccf09427aba713446c2692763": {
      "model_module": "@jupyter-widgets/controls",
      "model_module_version": "1.5.0",
      "model_name": "HTMLModel",
      "state": {
       "layout": "IPY_MODEL_6a44a1e871e9484a9776466c7a3aefb2",
       "style": "IPY_MODEL_8ee0661bb8ee42b1bc86ce281538fc2e",
       "value": " 227/227 [1:19:42&lt;00:00, 21.07s/it, Avg loss=0.01, Avg acc score=1.00, Avg precision score=0.99, Avg recall score=1.00, Avg f1 score=0.99, Avg eval loss=0.00, Avg eval acc=1.00, Avg eval precision=1.00, Avg eval recall=1.00, Avg eval f1=1.00]"
      }
     },
     "6739105b0c0c4fd993f9e34149433151": {
      "model_module": "@jupyter-widgets/controls",
      "model_module_version": "1.5.0",
      "model_name": "DescriptionStyleModel",
      "state": {
       "description_width": ""
      }
     },
     "68e3d0afd97f4283a5893d4a32588643": {
      "model_module": "@jupyter-widgets/controls",
      "model_module_version": "1.5.0",
      "model_name": "ProgressStyleModel",
      "state": {
       "description_width": "initial"
      }
     },
     "698745ca955c4c5dbc16bc8ac70dd47f": {
      "model_module": "@jupyter-widgets/controls",
      "model_module_version": "1.5.0",
      "model_name": "IntProgressModel",
      "state": {
       "bar_style": "success",
       "description": "Epoch 9/20: 100%",
       "layout": "IPY_MODEL_749d7bf543294f74807cbb88535ab904",
       "max": 227,
       "style": "IPY_MODEL_0663a74211cc4b14ae5a56ebadcdc673",
       "value": 227
      }
     },
     "69c70425a7b848929c7836b72164bbe5": {
      "model_module": "@jupyter-widgets/base",
      "model_module_version": "1.2.0",
      "model_name": "LayoutModel",
      "state": {}
     },
     "6a44a1e871e9484a9776466c7a3aefb2": {
      "model_module": "@jupyter-widgets/base",
      "model_module_version": "1.2.0",
      "model_name": "LayoutModel",
      "state": {}
     },
     "6d9712d98e2049769e89bda17ab58e6e": {
      "model_module": "@jupyter-widgets/controls",
      "model_module_version": "1.5.0",
      "model_name": "IntProgressModel",
      "state": {
       "bar_style": "success",
       "description": "Epoch 10/20: 100%",
       "layout": "IPY_MODEL_575d2fba8e95478eba50142eed73d206",
       "max": 227,
       "style": "IPY_MODEL_fbbf02fcfbb34f08949aed85c2267886",
       "value": 227
      }
     },
     "702521c6ca644874be7068be5216aac3": {
      "model_module": "@jupyter-widgets/base",
      "model_module_version": "1.2.0",
      "model_name": "LayoutModel",
      "state": {}
     },
     "71f2db701b1e4c918e997155e10d1a1a": {
      "model_module": "@jupyter-widgets/base",
      "model_module_version": "1.2.0",
      "model_name": "LayoutModel",
      "state": {}
     },
     "7331165917f9471e82b708c690f4726b": {
      "model_module": "@jupyter-widgets/base",
      "model_module_version": "1.2.0",
      "model_name": "LayoutModel",
      "state": {}
     },
     "737e911a342043e1a8967e19fdebc07f": {
      "model_module": "@jupyter-widgets/controls",
      "model_module_version": "1.5.0",
      "model_name": "HBoxModel",
      "state": {
       "children": [
        "IPY_MODEL_5095355057674570a7a487ba4f28aca5",
        "IPY_MODEL_cb8011b31f2348dbb85ee8b28ad8394e"
       ],
       "layout": "IPY_MODEL_a5c74695b8c24bff8d8de6972b75a3cf"
      }
     },
     "738d70aead0c4fb1847c76dbeed0cc93": {
      "model_module": "@jupyter-widgets/base",
      "model_module_version": "1.2.0",
      "model_name": "LayoutModel",
      "state": {}
     },
     "749d7bf543294f74807cbb88535ab904": {
      "model_module": "@jupyter-widgets/base",
      "model_module_version": "1.2.0",
      "model_name": "LayoutModel",
      "state": {}
     },
     "74a7f3b8ec5244a6927a2767e76386f9": {
      "model_module": "@jupyter-widgets/base",
      "model_module_version": "1.2.0",
      "model_name": "LayoutModel",
      "state": {}
     },
     "783d277955814cd2bfbf372fc7be51b3": {
      "model_module": "@jupyter-widgets/base",
      "model_module_version": "1.2.0",
      "model_name": "LayoutModel",
      "state": {}
     },
     "7a207ea629034d0097fe576aa11b11d5": {
      "model_module": "@jupyter-widgets/controls",
      "model_module_version": "1.5.0",
      "model_name": "IntProgressModel",
      "state": {
       "bar_style": "success",
       "description": "Epoch 16/20: 100%",
       "layout": "IPY_MODEL_1738a7fbd73b498992ffaa210edff7b1",
       "max": 227,
       "style": "IPY_MODEL_efc9079e9a0c4d1b953b60bad692bfb8",
       "value": 227
      }
     },
     "7d509692434244d68f42bf2985740975": {
      "model_module": "@jupyter-widgets/base",
      "model_module_version": "1.2.0",
      "model_name": "LayoutModel",
      "state": {}
     },
     "7dacc59b071742a196d4254dfd73fcb3": {
      "model_module": "@jupyter-widgets/base",
      "model_module_version": "1.2.0",
      "model_name": "LayoutModel",
      "state": {}
     },
     "7df121b03ed34e61bd4c938de64b1849": {
      "model_module": "@jupyter-widgets/controls",
      "model_module_version": "1.5.0",
      "model_name": "HTMLModel",
      "state": {
       "layout": "IPY_MODEL_84dc2ae6db1e4cf483ec146ba5a0eac8",
       "style": "IPY_MODEL_9bec267f656849aea600e878ee67bdaa",
       "value": " 227/227 [13:04&lt;00:00,  3.45s/it, Avg loss=0.00, Avg acc score=1.00, Avg precision score=0.99, Avg recall score=1.00, Avg f1 score=0.99, Avg eval loss=0.00, Avg eval acc=1.00, Avg eval precision=1.00, Avg eval recall=1.00, Avg eval f1=1.00]"
      }
     },
     "80d999d4d0bf4115a9a78f46b091fdac": {
      "model_module": "@jupyter-widgets/controls",
      "model_module_version": "1.5.0",
      "model_name": "ProgressStyleModel",
      "state": {
       "description_width": "initial"
      }
     },
     "84dc2ae6db1e4cf483ec146ba5a0eac8": {
      "model_module": "@jupyter-widgets/base",
      "model_module_version": "1.2.0",
      "model_name": "LayoutModel",
      "state": {}
     },
     "88b46721a602440fae177253c3a3b950": {
      "model_module": "@jupyter-widgets/base",
      "model_module_version": "1.2.0",
      "model_name": "LayoutModel",
      "state": {}
     },
     "89c2889f54b547058857dac8957dfb69": {
      "model_module": "@jupyter-widgets/controls",
      "model_module_version": "1.5.0",
      "model_name": "HTMLModel",
      "state": {
       "layout": "IPY_MODEL_50fa9c37fdb04f1e98426a0870ec2731",
       "style": "IPY_MODEL_b116d01a13f74cf0a228ba1854055c85",
       "value": " 227/227 [13:06&lt;00:00,  3.46s/it, Avg loss=0.02, Avg acc score=1.00, Avg precision score=0.98, Avg recall score=0.99, Avg f1 score=0.98, Avg eval loss=0.00, Avg eval acc=1.00, Avg eval precision=0.99, Avg eval recall=1.00, Avg eval f1=1.00]"
      }
     },
     "89c69cb41740428e92bd3d8d96cbead6": {
      "model_module": "@jupyter-widgets/base",
      "model_module_version": "1.2.0",
      "model_name": "LayoutModel",
      "state": {}
     },
     "8b089d2334ec490c985cb055fe25f0dd": {
      "model_module": "@jupyter-widgets/controls",
      "model_module_version": "1.5.0",
      "model_name": "IntProgressModel",
      "state": {
       "bar_style": "success",
       "description": "Epoch 1/20: 100%",
       "layout": "IPY_MODEL_02760ee9441b4e5a981da6754e2c1c0c",
       "max": 227,
       "style": "IPY_MODEL_2f8f3d0e8e044f13ad6d290134e8e14f",
       "value": 227
      }
     },
     "8b538577d4bc4f239101b9fe7e6a7cf9": {
      "model_module": "@jupyter-widgets/base",
      "model_module_version": "1.2.0",
      "model_name": "LayoutModel",
      "state": {}
     },
     "8e08aab368744e3b8c3343be408b67b5": {
      "model_module": "@jupyter-widgets/controls",
      "model_module_version": "1.5.0",
      "model_name": "HTMLModel",
      "state": {
       "layout": "IPY_MODEL_a7173473203b4bafa66ae803cee4ab4e",
       "style": "IPY_MODEL_528df188be4f4e9594091d5407668fd8",
       "value": " 227/227 [13:08&lt;00:00,  3.48s/it, Avg loss=0.00, Avg acc score=1.00, Avg precision score=0.99, Avg recall score=1.00, Avg f1 score=1.00, Avg eval loss=0.00, Avg eval acc=1.00, Avg eval precision=1.00, Avg eval recall=1.00, Avg eval f1=1.00]"
      }
     },
     "8ee0661bb8ee42b1bc86ce281538fc2e": {
      "model_module": "@jupyter-widgets/controls",
      "model_module_version": "1.5.0",
      "model_name": "DescriptionStyleModel",
      "state": {
       "description_width": ""
      }
     },
     "92a2baaba8314107b42ab555caaf8b79": {
      "model_module": "@jupyter-widgets/base",
      "model_module_version": "1.2.0",
      "model_name": "LayoutModel",
      "state": {}
     },
     "9603ef14a5c24b0a993946cfb7c4c7f2": {
      "model_module": "@jupyter-widgets/controls",
      "model_module_version": "1.5.0",
      "model_name": "HTMLModel",
      "state": {
       "layout": "IPY_MODEL_ad2eea12398e4c55ae8110edf76f46ea",
       "style": "IPY_MODEL_1ca29df4019542499a6447e108fe600f",
       "value": " 227/227 [1:32:46&lt;00:00, 24.52s/it, Avg loss=0.01, Avg acc score=1.00, Avg precision score=0.99, Avg recall score=0.99, Avg f1 score=0.99, Avg eval loss=0.00, Avg eval acc=1.00, Avg eval precision=1.00, Avg eval recall=1.00, Avg eval f1=1.00]"
      }
     },
     "96536e32d98d403fb8dee88777afc184": {
      "model_module": "@jupyter-widgets/controls",
      "model_module_version": "1.5.0",
      "model_name": "ProgressStyleModel",
      "state": {
       "description_width": "initial"
      }
     },
     "975b9ed5c6db4a4bb6a78fb67ae8475d": {
      "model_module": "@jupyter-widgets/controls",
      "model_module_version": "1.5.0",
      "model_name": "HBoxModel",
      "state": {
       "children": [
        "IPY_MODEL_e1aa8598090d4dec8fc4503ef0938bc1",
        "IPY_MODEL_7df121b03ed34e61bd4c938de64b1849"
       ],
       "layout": "IPY_MODEL_0b8f3998666e48749851ef294092a251"
      }
     },
     "9aaa2f9158a14989a8bc47cc767ce873": {
      "model_module": "@jupyter-widgets/controls",
      "model_module_version": "1.5.0",
      "model_name": "HBoxModel",
      "state": {
       "children": [
        "IPY_MODEL_6d9712d98e2049769e89bda17ab58e6e",
        "IPY_MODEL_aa17ca2cfdf84d16812142ad78696715"
       ],
       "layout": "IPY_MODEL_609c1d0f7aab408e84f04bcee5ab38a6"
      }
     },
     "9bec267f656849aea600e878ee67bdaa": {
      "model_module": "@jupyter-widgets/controls",
      "model_module_version": "1.5.0",
      "model_name": "DescriptionStyleModel",
      "state": {
       "description_width": ""
      }
     },
     "a0ec856106bc434fa4d816f93db09b93": {
      "model_module": "@jupyter-widgets/controls",
      "model_module_version": "1.5.0",
      "model_name": "DescriptionStyleModel",
      "state": {
       "description_width": ""
      }
     },
     "a5c74695b8c24bff8d8de6972b75a3cf": {
      "model_module": "@jupyter-widgets/base",
      "model_module_version": "1.2.0",
      "model_name": "LayoutModel",
      "state": {}
     },
     "a62edd0995094e55bca133d20770c656": {
      "model_module": "@jupyter-widgets/base",
      "model_module_version": "1.2.0",
      "model_name": "LayoutModel",
      "state": {}
     },
     "a7173473203b4bafa66ae803cee4ab4e": {
      "model_module": "@jupyter-widgets/base",
      "model_module_version": "1.2.0",
      "model_name": "LayoutModel",
      "state": {}
     },
     "aa17ca2cfdf84d16812142ad78696715": {
      "model_module": "@jupyter-widgets/controls",
      "model_module_version": "1.5.0",
      "model_name": "HTMLModel",
      "state": {
       "layout": "IPY_MODEL_bde90056155848938813e7fbf857cad0",
       "style": "IPY_MODEL_e0c3faefcb5848c19b9136c6a3d23924",
       "value": " 227/227 [13:07&lt;00:00,  3.47s/it, Avg loss=0.01, Avg acc score=1.00, Avg precision score=0.99, Avg recall score=1.00, Avg f1 score=0.99, Avg eval loss=0.00, Avg eval acc=1.00, Avg eval precision=1.00, Avg eval recall=1.00, Avg eval f1=1.00]"
      }
     },
     "ad2eea12398e4c55ae8110edf76f46ea": {
      "model_module": "@jupyter-widgets/base",
      "model_module_version": "1.2.0",
      "model_name": "LayoutModel",
      "state": {}
     },
     "aeee55f957b64b85940541c3fd12ef65": {
      "model_module": "@jupyter-widgets/controls",
      "model_module_version": "1.5.0",
      "model_name": "HTMLModel",
      "state": {
       "layout": "IPY_MODEL_57e26247a99343d09bdf8413113ce75d",
       "style": "IPY_MODEL_e1d7076d936f438c9bb42f05950b7b5c",
       "value": " 227/227 [40:31&lt;00:00, 10.71s/it, Avg loss=0.00, Avg acc score=1.00, Avg precision score=0.99, Avg recall score=1.00, Avg f1 score=0.99, Avg eval loss=0.00, Avg eval acc=1.00, Avg eval precision=1.00, Avg eval recall=1.00, Avg eval f1=1.00]"
      }
     },
     "afc4786ff6a04fca91fa70985528c388": {
      "model_module": "@jupyter-widgets/base",
      "model_module_version": "1.2.0",
      "model_name": "LayoutModel",
      "state": {}
     },
     "b116d01a13f74cf0a228ba1854055c85": {
      "model_module": "@jupyter-widgets/controls",
      "model_module_version": "1.5.0",
      "model_name": "DescriptionStyleModel",
      "state": {
       "description_width": ""
      }
     },
     "b2e8993461c04ec8a039eaecb7eecc1c": {
      "model_module": "@jupyter-widgets/controls",
      "model_module_version": "1.5.0",
      "model_name": "DescriptionStyleModel",
      "state": {
       "description_width": ""
      }
     },
     "b6241c83b02d4530a8acce5f554d30d1": {
      "model_module": "@jupyter-widgets/base",
      "model_module_version": "1.2.0",
      "model_name": "LayoutModel",
      "state": {}
     },
     "b7d7f5ebbe374e87ae184caef0093691": {
      "model_module": "@jupyter-widgets/controls",
      "model_module_version": "1.5.0",
      "model_name": "DescriptionStyleModel",
      "state": {
       "description_width": ""
      }
     },
     "b9016a70d7264fe39f279920d411cd40": {
      "model_module": "@jupyter-widgets/controls",
      "model_module_version": "1.5.0",
      "model_name": "HTMLModel",
      "state": {
       "layout": "IPY_MODEL_311fa69e9baa414fb4f8db84149a45ee",
       "style": "IPY_MODEL_d16416ca5fe14f14a2069f64b1e2944a",
       "value": " 227/227 [06:31&lt;00:00,  1.72s/it, Avg loss=0.01, Avg acc score=1.00, Avg precision score=0.98, Avg recall score=0.99, Avg f1 score=0.99, Avg eval loss=0.00, Avg eval acc=1.00, Avg eval precision=1.00, Avg eval recall=1.00, Avg eval f1=1.00]"
      }
     },
     "ba0129b453b54458aa182d859ea2dcc7": {
      "model_module": "@jupyter-widgets/base",
      "model_module_version": "1.2.0",
      "model_name": "LayoutModel",
      "state": {}
     },
     "bad98ac36eb34323a31846476bf61f2d": {
      "model_module": "@jupyter-widgets/controls",
      "model_module_version": "1.5.0",
      "model_name": "HBoxModel",
      "state": {
       "children": [
        "IPY_MODEL_c0e350c1397d4bbc82c73faf82cb4f80",
        "IPY_MODEL_f4bbcab240954d45ab8f95a178ee3d6e"
       ],
       "layout": "IPY_MODEL_f301fae8cd294f178ac9f50243b54b3b"
      }
     },
     "bb2bf417baea4363b9d08712b1a05db9": {
      "model_module": "@jupyter-widgets/controls",
      "model_module_version": "1.5.0",
      "model_name": "DescriptionStyleModel",
      "state": {
       "description_width": ""
      }
     },
     "bc8949432f7b4a90b7a21914f66db290": {
      "model_module": "@jupyter-widgets/controls",
      "model_module_version": "1.5.0",
      "model_name": "HTMLModel",
      "state": {
       "layout": "IPY_MODEL_e0accc0536454949adf669ed389b434f",
       "style": "IPY_MODEL_c9362470cc224d28ae24414af1410145",
       "value": " 227/227 [19:36&lt;00:00,  5.18s/it, Avg loss=0.00, Avg acc score=1.00, Avg precision score=0.99, Avg recall score=1.00, Avg f1 score=0.99, Avg eval loss=0.00, Avg eval acc=1.00, Avg eval precision=1.00, Avg eval recall=1.00, Avg eval f1=1.00]"
      }
     },
     "bc8ea54bd78a4aba8f33681a757464af": {
      "model_module": "@jupyter-widgets/controls",
      "model_module_version": "1.5.0",
      "model_name": "ProgressStyleModel",
      "state": {
       "description_width": "initial"
      }
     },
     "bde90056155848938813e7fbf857cad0": {
      "model_module": "@jupyter-widgets/base",
      "model_module_version": "1.2.0",
      "model_name": "LayoutModel",
      "state": {}
     },
     "bed565dad31440ac8532c71f4ceca0b6": {
      "model_module": "@jupyter-widgets/base",
      "model_module_version": "1.2.0",
      "model_name": "LayoutModel",
      "state": {}
     },
     "c0514a9376be4decbc2d6efee3808473": {
      "model_module": "@jupyter-widgets/controls",
      "model_module_version": "1.5.0",
      "model_name": "HBoxModel",
      "state": {
       "children": [
        "IPY_MODEL_1b6c0a08ff314e3bb64fae2b1df82059",
        "IPY_MODEL_3daa1f1fa5214c629937c57eea34059c"
       ],
       "layout": "IPY_MODEL_224cc741784d4434bf4b9bff7922ee2e"
      }
     },
     "c0e350c1397d4bbc82c73faf82cb4f80": {
      "model_module": "@jupyter-widgets/controls",
      "model_module_version": "1.5.0",
      "model_name": "IntProgressModel",
      "state": {
       "bar_style": "success",
       "description": "Epoch 20/20: 100%",
       "layout": "IPY_MODEL_74a7f3b8ec5244a6927a2767e76386f9",
       "max": 227,
       "style": "IPY_MODEL_159c9e19177444aea1f834d44839349f",
       "value": 227
      }
     },
     "c3c2627deb614ce7b55f723f19ce4722": {
      "model_module": "@jupyter-widgets/controls",
      "model_module_version": "1.5.0",
      "model_name": "IntProgressModel",
      "state": {
       "bar_style": "success",
       "description": "Epoch 6/20: 100%",
       "layout": "IPY_MODEL_26e7d4a5378e417289570929b56f5588",
       "max": 227,
       "style": "IPY_MODEL_59a790d28d534d05a7b64fe8ee009453",
       "value": 227
      }
     },
     "c9362470cc224d28ae24414af1410145": {
      "model_module": "@jupyter-widgets/controls",
      "model_module_version": "1.5.0",
      "model_name": "DescriptionStyleModel",
      "state": {
       "description_width": ""
      }
     },
     "cb8011b31f2348dbb85ee8b28ad8394e": {
      "model_module": "@jupyter-widgets/controls",
      "model_module_version": "1.5.0",
      "model_name": "HTMLModel",
      "state": {
       "layout": "IPY_MODEL_243b78ace44e4008a335c76a46a08b57",
       "style": "IPY_MODEL_11bceeddc27a4418b0dd7b90d783d81f",
       "value": " 227/227 [14:21&lt;00:00,  3.80s/it, Avg loss=0.00, Avg acc score=1.00, Avg precision score=1.00, Avg recall score=1.00, Avg f1 score=1.00, Avg eval loss=0.00, Avg eval acc=1.00, Avg eval precision=1.00, Avg eval recall=1.00, Avg eval f1=1.00]"
      }
     },
     "ccfd7c26b9a84b369f6c4f737b7ecd07": {
      "model_module": "@jupyter-widgets/controls",
      "model_module_version": "1.5.0",
      "model_name": "HBoxModel",
      "state": {
       "children": [
        "IPY_MODEL_fc5b52beee6c4a17945fea45f9b32bba",
        "IPY_MODEL_5cd3b0d57b8e42bd883c04f1b1c08dc5"
       ],
       "layout": "IPY_MODEL_89c69cb41740428e92bd3d8d96cbead6"
      }
     },
     "d16416ca5fe14f14a2069f64b1e2944a": {
      "model_module": "@jupyter-widgets/controls",
      "model_module_version": "1.5.0",
      "model_name": "DescriptionStyleModel",
      "state": {
       "description_width": ""
      }
     },
     "d1d35434a56e43dfb11be1581824f201": {
      "model_module": "@jupyter-widgets/controls",
      "model_module_version": "1.5.0",
      "model_name": "ProgressStyleModel",
      "state": {
       "description_width": "initial"
      }
     },
     "d3132ed72d2e46e8a2a8fd236e244f78": {
      "model_module": "@jupyter-widgets/base",
      "model_module_version": "1.2.0",
      "model_name": "LayoutModel",
      "state": {}
     },
     "d3bb77ffc7bd410fbf7431ebff2501af": {
      "model_module": "@jupyter-widgets/controls",
      "model_module_version": "1.5.0",
      "model_name": "ProgressStyleModel",
      "state": {
       "description_width": "initial"
      }
     },
     "d86a592bd087463d8d22a01e731452a6": {
      "model_module": "@jupyter-widgets/controls",
      "model_module_version": "1.5.0",
      "model_name": "IntProgressModel",
      "state": {
       "bar_style": "success",
       "description": "Epoch 7/20: 100%",
       "layout": "IPY_MODEL_0034c90f12ae4cce9caf9cb031408d81",
       "max": 227,
       "style": "IPY_MODEL_bc8ea54bd78a4aba8f33681a757464af",
       "value": 227
      }
     },
     "da2fd59a75ea4c62ba0d0fd56e5b883d": {
      "model_module": "@jupyter-widgets/controls",
      "model_module_version": "1.5.0",
      "model_name": "ProgressStyleModel",
      "state": {
       "description_width": "initial"
      }
     },
     "dfa4d96cdbad4d7ba0131321bc142577": {
      "model_module": "@jupyter-widgets/controls",
      "model_module_version": "1.5.0",
      "model_name": "ProgressStyleModel",
      "state": {
       "description_width": "initial"
      }
     },
     "e0accc0536454949adf669ed389b434f": {
      "model_module": "@jupyter-widgets/base",
      "model_module_version": "1.2.0",
      "model_name": "LayoutModel",
      "state": {}
     },
     "e0c3faefcb5848c19b9136c6a3d23924": {
      "model_module": "@jupyter-widgets/controls",
      "model_module_version": "1.5.0",
      "model_name": "DescriptionStyleModel",
      "state": {
       "description_width": ""
      }
     },
     "e0dd842cb7a54bffa218aa6a182ff973": {
      "model_module": "@jupyter-widgets/base",
      "model_module_version": "1.2.0",
      "model_name": "LayoutModel",
      "state": {}
     },
     "e1aa8598090d4dec8fc4503ef0938bc1": {
      "model_module": "@jupyter-widgets/controls",
      "model_module_version": "1.5.0",
      "model_name": "IntProgressModel",
      "state": {
       "bar_style": "success",
       "description": "Epoch 14/20: 100%",
       "layout": "IPY_MODEL_7331165917f9471e82b708c690f4726b",
       "max": 227,
       "style": "IPY_MODEL_80d999d4d0bf4115a9a78f46b091fdac",
       "value": 227
      }
     },
     "e1d7076d936f438c9bb42f05950b7b5c": {
      "model_module": "@jupyter-widgets/controls",
      "model_module_version": "1.5.0",
      "model_name": "DescriptionStyleModel",
      "state": {
       "description_width": ""
      }
     },
     "e2088361bcc04c5c82d1d76772ceab1b": {
      "model_module": "@jupyter-widgets/controls",
      "model_module_version": "1.5.0",
      "model_name": "HBoxModel",
      "state": {
       "children": [
        "IPY_MODEL_d86a592bd087463d8d22a01e731452a6",
        "IPY_MODEL_9603ef14a5c24b0a993946cfb7c4c7f2"
       ],
       "layout": "IPY_MODEL_a62edd0995094e55bca133d20770c656"
      }
     },
     "e60d16790518434f9c89d9b6be17b675": {
      "model_module": "@jupyter-widgets/controls",
      "model_module_version": "1.5.0",
      "model_name": "HTMLModel",
      "state": {
       "layout": "IPY_MODEL_702521c6ca644874be7068be5216aac3",
       "style": "IPY_MODEL_bb2bf417baea4363b9d08712b1a05db9",
       "value": " 227/227 [06:36&lt;00:00,  1.75s/it, Avg loss=0.00, Avg acc score=1.00, Avg precision score=0.99, Avg recall score=1.00, Avg f1 score=1.00, Avg eval loss=0.00, Avg eval acc=1.00, Avg eval precision=1.00, Avg eval recall=1.00, Avg eval f1=1.00]"
      }
     },
     "e93b8c8d345846fb91d5ff3136456114": {
      "model_module": "@jupyter-widgets/controls",
      "model_module_version": "1.5.0",
      "model_name": "HTMLModel",
      "state": {
       "layout": "IPY_MODEL_88b46721a602440fae177253c3a3b950",
       "style": "IPY_MODEL_a0ec856106bc434fa4d816f93db09b93",
       "value": " 227/227 [33:59&lt;00:00,  8.99s/it, Avg loss=0.00, Avg acc score=1.00, Avg precision score=0.99, Avg recall score=1.00, Avg f1 score=0.99, Avg eval loss=0.00, Avg eval acc=1.00, Avg eval precision=1.00, Avg eval recall=1.00, Avg eval f1=1.00]"
      }
     },
     "ea3ed15f1fc74d1d94b4ad9d71802576": {
      "model_module": "@jupyter-widgets/base",
      "model_module_version": "1.2.0",
      "model_name": "LayoutModel",
      "state": {}
     },
     "eaa832f5ef8b463dbb49b444936570fa": {
      "model_module": "@jupyter-widgets/controls",
      "model_module_version": "1.5.0",
      "model_name": "HBoxModel",
      "state": {
       "children": [
        "IPY_MODEL_416fb1cea5eb46aaa8bcdb46228f4077",
        "IPY_MODEL_8e08aab368744e3b8c3343be408b67b5"
       ],
       "layout": "IPY_MODEL_7dacc59b071742a196d4254dfd73fcb3"
      }
     },
     "eac28aeef41641efb7450fbbaf138b2d": {
      "model_module": "@jupyter-widgets/controls",
      "model_module_version": "1.5.0",
      "model_name": "ProgressStyleModel",
      "state": {
       "description_width": "initial"
      }
     },
     "ed18f857daee4b7787ebcb2d02b1a130": {
      "model_module": "@jupyter-widgets/controls",
      "model_module_version": "1.5.0",
      "model_name": "HBoxModel",
      "state": {
       "children": [
        "IPY_MODEL_7a207ea629034d0097fe576aa11b11d5",
        "IPY_MODEL_e93b8c8d345846fb91d5ff3136456114"
       ],
       "layout": "IPY_MODEL_d3132ed72d2e46e8a2a8fd236e244f78"
      }
     },
     "efc9079e9a0c4d1b953b60bad692bfb8": {
      "model_module": "@jupyter-widgets/controls",
      "model_module_version": "1.5.0",
      "model_name": "ProgressStyleModel",
      "state": {
       "description_width": "initial"
      }
     },
     "f0902b46b8bb4c90b91495b4bacea7f1": {
      "model_module": "@jupyter-widgets/base",
      "model_module_version": "1.2.0",
      "model_name": "LayoutModel",
      "state": {}
     },
     "f1c2a97ceb884d8e89a6ab1b80245e88": {
      "model_module": "@jupyter-widgets/controls",
      "model_module_version": "1.5.0",
      "model_name": "HBoxModel",
      "state": {
       "children": [
        "IPY_MODEL_8b089d2334ec490c985cb055fe25f0dd",
        "IPY_MODEL_5b426dcffe30431692d7a90643a32fc4"
       ],
       "layout": "IPY_MODEL_bed565dad31440ac8532c71f4ceca0b6"
      }
     },
     "f301fae8cd294f178ac9f50243b54b3b": {
      "model_module": "@jupyter-widgets/base",
      "model_module_version": "1.2.0",
      "model_name": "LayoutModel",
      "state": {}
     },
     "f496c1b365a248fa9dc857f71a36ec59": {
      "model_module": "@jupyter-widgets/controls",
      "model_module_version": "1.5.0",
      "model_name": "IntProgressModel",
      "state": {
       "bar_style": "success",
       "description": "Epoch 2/20: 100%",
       "layout": "IPY_MODEL_71f2db701b1e4c918e997155e10d1a1a",
       "max": 227,
       "style": "IPY_MODEL_96536e32d98d403fb8dee88777afc184",
       "value": 227
      }
     },
     "f4bbcab240954d45ab8f95a178ee3d6e": {
      "model_module": "@jupyter-widgets/controls",
      "model_module_version": "1.5.0",
      "model_name": "HTMLModel",
      "state": {
       "layout": "IPY_MODEL_0b672054f5f34c3ea00bf5bc34e16eab",
       "style": "IPY_MODEL_b2e8993461c04ec8a039eaecb7eecc1c",
       "value": " 227/227 [07:48&lt;00:00,  2.07s/it, Avg loss=0.00, Avg acc score=1.00, Avg precision score=1.00, Avg recall score=1.00, Avg f1 score=1.00, Avg eval loss=0.00, Avg eval acc=1.00, Avg eval precision=1.00, Avg eval recall=1.00, Avg eval f1=1.00]"
      }
     },
     "f55d6899b48f485b9791f06473a0844d": {
      "model_module": "@jupyter-widgets/base",
      "model_module_version": "1.2.0",
      "model_name": "LayoutModel",
      "state": {}
     },
     "f71f2375b500406dbf8970ebd9d63671": {
      "model_module": "@jupyter-widgets/controls",
      "model_module_version": "1.5.0",
      "model_name": "ProgressStyleModel",
      "state": {
       "description_width": "initial"
      }
     },
     "f7d88929a92646c5835d6d6791c92b9b": {
      "model_module": "@jupyter-widgets/controls",
      "model_module_version": "1.5.0",
      "model_name": "HBoxModel",
      "state": {
       "children": [
        "IPY_MODEL_1c00a30449fd4b85bcf684219752acbd",
        "IPY_MODEL_27ac0783864347998bba8f5c6aeb605f"
       ],
       "layout": "IPY_MODEL_738d70aead0c4fb1847c76dbeed0cc93"
      }
     },
     "f91a4783b77c4ef388c697853f646d85": {
      "model_module": "@jupyter-widgets/base",
      "model_module_version": "1.2.0",
      "model_name": "LayoutModel",
      "state": {}
     },
     "faeab3300dbe49a4938017940673b8d3": {
      "model_module": "@jupyter-widgets/controls",
      "model_module_version": "1.5.0",
      "model_name": "IntProgressModel",
      "state": {
       "bar_style": "success",
       "description": "Epoch 11/20: 100%",
       "layout": "IPY_MODEL_b6241c83b02d4530a8acce5f554d30d1",
       "max": 227,
       "style": "IPY_MODEL_2cda8bc5a50b4e1fb1d0662dbb7c5e66",
       "value": 227
      }
     },
     "fbbf02fcfbb34f08949aed85c2267886": {
      "model_module": "@jupyter-widgets/controls",
      "model_module_version": "1.5.0",
      "model_name": "ProgressStyleModel",
      "state": {
       "description_width": "initial"
      }
     },
     "fc5b52beee6c4a17945fea45f9b32bba": {
      "model_module": "@jupyter-widgets/controls",
      "model_module_version": "1.5.0",
      "model_name": "IntProgressModel",
      "state": {
       "bar_style": "success",
       "description": "Epoch 12/20: 100%",
       "layout": "IPY_MODEL_ba0129b453b54458aa182d859ea2dcc7",
       "max": 227,
       "style": "IPY_MODEL_43b71f7314a04515b72438198e56817b",
       "value": 227
      }
     },
     "fffb1bec0c3743c1b99594992c9d70b4": {
      "model_module": "@jupyter-widgets/controls",
      "model_module_version": "1.5.0",
      "model_name": "HBoxModel",
      "state": {
       "children": [
        "IPY_MODEL_f496c1b365a248fa9dc857f71a36ec59",
        "IPY_MODEL_0c08d27c501241f0a148e2223867d79c"
       ],
       "layout": "IPY_MODEL_ea3ed15f1fc74d1d94b4ad9d71802576"
      }
     }
    },
    "version_major": 2,
    "version_minor": 0
   }
  }
 },
 "nbformat": 4,
 "nbformat_minor": 5
}
