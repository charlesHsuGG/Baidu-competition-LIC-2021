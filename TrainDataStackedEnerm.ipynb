{
 "cells": [
  {
   "cell_type": "code",
   "execution_count": 1,
   "id": "872489ce",
   "metadata": {},
   "outputs": [],
   "source": [
    "import json\n",
    "import random\n",
    "\n",
    "import torch\n",
    "import torch.nn as nn\n",
    "from torch.optim import AdamW\n",
    "import numpy as np\n",
    "from torch.utils.data import Dataset\n",
    "import torch.nn.functional as F\n",
    "from sklearn.metrics import f1_score, recall_score, precision_score, accuracy_score\n",
    "from torch.optim import Adam\n",
    "\n",
    "from torch.optim.lr_scheduler import ReduceLROnPlateau\n",
    "from torch.utils.data import DataLoader, Dataset, RandomSampler, SequentialSampler\n",
    "from tqdm import tqdm_notebook as tqdm\n",
    "\n",
    "from transformers import AutoTokenizer, AutoConfig, AutoModel, AutoModelForSequenceClassification\n",
    "\n",
    "from crf_layer import CRFLayer\n",
    "from stackedModel import MultiLabelStackedClassification\n",
    "\n",
    "import warnings\n",
    "warnings.filterwarnings(action='ignore',category=UserWarning,module='torch')"
   ]
  },
  {
   "cell_type": "code",
   "execution_count": 2,
   "id": "49a07906",
   "metadata": {},
   "outputs": [],
   "source": [
    "def load_dict(dict_path):\n",
    "    \"\"\"load_dict\"\"\"\n",
    "    vocab = {}\n",
    "    for line in open(dict_path, 'r', encoding='utf-8'):\n",
    "        value, key = line.strip('\\n').split('\\t')\n",
    "        vocab[key] = int(value)\n",
    "    return vocab"
   ]
  },
  {
   "cell_type": "code",
   "execution_count": 3,
   "id": "59bdd02e",
   "metadata": {},
   "outputs": [],
   "source": [
    "enum_role = \"环节\"\n",
    "max_seq_len = 512\n",
    "\n",
    "label_vocab = load_dict(dict_path='./dictionary/enum_tag.dict')"
   ]
  },
  {
   "cell_type": "code",
   "execution_count": 4,
   "id": "97c96684",
   "metadata": {},
   "outputs": [],
   "source": [
    "def enum_data_process(dataset):\n",
    "    \"\"\"enum_data_process\"\"\"\n",
    "    output = []\n",
    "    for d_json in dataset:\n",
    "        text = d_json[\"text\"].lower().replace(\"\\t\", \" \")\n",
    "#         if len(d_json.get(\"event_list\", [])) == 0:\n",
    "#             continue\n",
    "        labels = []\n",
    "        for event in d_json.get(\"event_list\", []):\n",
    "            if event[\"event_type\"] != \"公司上市\":\n",
    "                continue\n",
    "            for argument in event[\"arguments\"]:\n",
    "                role_type = argument[\"role\"]\n",
    "                if role_type == enum_role and argument[\"argument\"] not in labels:\n",
    "                    labels.append(argument[\"argument\"])\n",
    "        if labels:\n",
    "            output.append({\n",
    "               \"id\": d_json['id'], \"text\": text, \"labels\": labels\n",
    "            })\n",
    "    return output"
   ]
  },
  {
   "cell_type": "code",
   "execution_count": 5,
   "id": "c9c1a10e",
   "metadata": {},
   "outputs": [],
   "source": [
    "def set_seed(seed = 42):\n",
    "    \"\"\"Set the seed for generating random numbers on all GPUs.\n",
    "\n",
    "    It's safe to call this function if CUDA is not available; in that case, it is silently ignored.\n",
    "\n",
    "    Args:\n",
    "        seed (int, optional): random numbers on all GPUs. Defaults to 42.\n",
    "    \"\"\"\n",
    "    random.seed(seed)\n",
    "    np.random.seed(seed)\n",
    "    torch.manual_seed(seed)"
   ]
  },
  {
   "cell_type": "code",
   "execution_count": 6,
   "id": "4c252355",
   "metadata": {},
   "outputs": [
    {
     "name": "stdout",
     "output_type": "stream",
     "text": [
      "Using device: cuda\n",
      "\n",
      "Tesla V100-PCIE-32GB\n",
      "Memory Usage:\n",
      "Allocated: 0.0 GB\n",
      "Cached:    0.0 GB\n",
      "CUDA Device Count: 3\n"
     ]
    }
   ],
   "source": [
    "# setting device on GPU if available, else CPU\n",
    "device = torch.device('cuda' if torch.cuda.is_available() else 'cpu')\n",
    "print('Using device:', device)\n",
    "print()\n",
    "\n",
    "#Additional Info when using cuda\n",
    "if device.type == 'cuda':\n",
    "    n_gpu = torch.cuda.device_count()\n",
    "    print(torch.cuda.get_device_name(0))\n",
    "    \n",
    "    print('Memory Usage:')\n",
    "    print('Allocated:', torch.cuda.memory_allocated(0)/1024**3, 'GB')\n",
    "    print('Cached:   ', torch.cuda.memory_reserved(0)/1024**3, 'GB')\n",
    "    \n",
    "    print('CUDA Device Count:', n_gpu)\n",
    "    \n",
    "set_seed(seed=42)"
   ]
  },
  {
   "cell_type": "code",
   "execution_count": 7,
   "id": "3124acb2",
   "metadata": {},
   "outputs": [],
   "source": [
    "model_dict = {\n",
    "    'ernie-base': AutoTokenizer.from_pretrained(\"nghuyong/ernie-1.0\"),\n",
    "    'roberta-chinese-base': AutoTokenizer.from_pretrained(\"hfl/chinese-roberta-wwm-ext\"),\n",
    "    'roberta-chinese-large': AutoTokenizer.from_pretrained(\"hfl/chinese-roberta-wwm-ext-large\"),\n",
    "}"
   ]
  },
  {
   "cell_type": "code",
   "execution_count": 8,
   "id": "806fc592",
   "metadata": {},
   "outputs": [],
   "source": [
    "class BaiduEnermDataset(Dataset):\n",
    "    \n",
    "    def __init__(self, dataset_path, label_dict_path):\n",
    "        self.label_vocab = load_dict(label_dict_path)\n",
    "        self.label_num = max(self.label_vocab.values()) + 1\n",
    "        self.examples = []\n",
    "        with open(dataset_path, 'r', encoding='utf-8') as f:\n",
    "            dataset = json.loads(f.read())\n",
    "            preprocess_dataset = enum_data_process(dataset)\n",
    "            for d_json in tqdm(preprocess_dataset, total=len(preprocess_dataset)):\n",
    "                text = d_json['text']\n",
    "                b_input_ids, b_attention_masks, b_token_type_ids = [], [], []\n",
    "                for tokenizer in model_dict.values():\n",
    "                    PADDING = tokenizer.vocab[tokenizer.pad_token]\n",
    "                    SEP = tokenizer.vocab[tokenizer.sep_token]\n",
    "                    input_ids = tokenizer(text, is_split_into_words=False, add_special_tokens=True, max_length=max_seq_len, truncation=True)['input_ids']\n",
    "                    tokens_input = input_ids + [PADDING] * (max_seq_len - len(input_ids))\n",
    "                    attention_masks = self._get_attention_mask(input_ids, max_seq_len)\n",
    "                    token_type_ids = self._get_token_type_id(input_ids, max_seq_len, sep_token=SEP)\n",
    "                    b_input_ids.append(tokens_input)\n",
    "                    b_attention_masks.append(attention_masks)\n",
    "                    b_token_type_ids.append(token_type_ids)\n",
    "                example = {\n",
    "                    \"input_ids\": b_input_ids, \"attention_masks\": b_attention_masks, \"token_type_ids\": b_token_type_ids\n",
    "                }\n",
    "                if 'labels' in d_json:\n",
    "                    labels = self.to_one_hot_vector(d_json['labels'])\n",
    "                    example.update({\"encoded_label\": labels})\n",
    "                self.examples.append(example)\n",
    "                \n",
    "    def to_one_hot_vector(self, labels):\n",
    "        \"\"\"Convert seq to one hot.\"\"\"\n",
    "        one_hot_vector = np.zeros(self.label_num)\n",
    "        for label in labels:\n",
    "            one_hot_vector[self.label_vocab[label]] = 1\n",
    "        return one_hot_vector\n",
    "                \n",
    "    def __len__(self):\n",
    "        return len(self.examples)\n",
    "    \n",
    "    def __getitem__(self, item_idx):\n",
    "        example = {\n",
    "            \"input_ids\": torch.tensor(self.examples[item_idx][\"input_ids\"]).long(),\n",
    "            \"attention_masks\": torch.tensor(self.examples[item_idx][\"attention_masks\"]),\n",
    "            \"token_type_ids\": torch.tensor(self.examples[item_idx][\"token_type_ids\"]),\n",
    "        }\n",
    "        if \"encoded_label\" in self.examples[item_idx]:\n",
    "            example.update({\"encoded_label\": torch.tensor(self.examples[item_idx][\"encoded_label\"], dtype=torch.float)})\n",
    "        return example\n",
    "\n",
    "    def _get_attention_mask(self, input_ids, max_seq_len):\n",
    "        \"\"\"Mask for padding.\"\"\"\n",
    "        if len(input_ids) > max_seq_len:\n",
    "            raise IndexError(\"Token length more than max seq length!\")\n",
    "        return [1] * len(input_ids) + [0] * (max_seq_len - len(input_ids))\n",
    "\n",
    "    def _get_token_type_id(self, input_ids, max_seq_len, sep_token):\n",
    "        \"\"\"Segments: 0 for the first sequence, 1 for the second.\"\"\"\n",
    "        if len(input_ids) > max_seq_len:\n",
    "            raise IndexError(\"Token length more than max seq length!\")\n",
    "        segments = []\n",
    "        current_segment_id = 0\n",
    "        for input_id in input_ids:\n",
    "            segments.append(current_segment_id)\n",
    "            if input_id == sep_token:\n",
    "                current_segment_id = 1\n",
    "        return segments + [0] * (max_seq_len - len(input_ids)) "
   ]
  },
  {
   "cell_type": "code",
   "execution_count": 9,
   "id": "cc3ed5c0",
   "metadata": {},
   "outputs": [
    {
     "data": {
      "application/vnd.jupyter.widget-view+json": {
       "model_id": "fb618a705e1a46c796aaade8c5d967ee",
       "version_major": 2,
       "version_minor": 0
      },
      "text/plain": [
       "HBox(children=(IntProgress(value=0, max=426), HTML(value='')))"
      ]
     },
     "metadata": {},
     "output_type": "display_data"
    },
    {
     "name": "stdout",
     "output_type": "stream",
     "text": [
      "\n"
     ]
    },
    {
     "data": {
      "application/vnd.jupyter.widget-view+json": {
       "model_id": "edb1aaf0e175485f9f0e0231d9e62f27",
       "version_major": 2,
       "version_minor": 0
      },
      "text/plain": [
       "HBox(children=(IntProgress(value=0, max=66), HTML(value='')))"
      ]
     },
     "metadata": {},
     "output_type": "display_data"
    },
    {
     "name": "stdout",
     "output_type": "stream",
     "text": [
      "\n"
     ]
    }
   ],
   "source": [
    "train_dataset = BaiduEnermDataset(dataset_path='./resources/duee_fin_train_preprocess.json', label_dict_path='./dictionary/enum_tag.dict')\n",
    "dev_dataset = BaiduEnermDataset(dataset_path='./resources/duee_fin_dev_preprocess.json', label_dict_path='./dictionary/enum_tag.dict')"
   ]
  },
  {
   "cell_type": "code",
   "execution_count": 10,
   "id": "9ba3bd11",
   "metadata": {},
   "outputs": [
    {
     "data": {
      "text/plain": [
       "{'input_ids': tensor([[   1,  252,  560,  ...,    0,    0,    0],\n",
       "         [ 101, 1266,  776,  ...,    0,    0,    0],\n",
       "         [ 101, 1266,  776,  ...,    0,    0,    0]]),\n",
       " 'attention_masks': tensor([[1, 1, 1,  ..., 0, 0, 0],\n",
       "         [1, 1, 1,  ..., 0, 0, 0],\n",
       "         [1, 1, 1,  ..., 0, 0, 0]]),\n",
       " 'token_type_ids': tensor([[0, 0, 0,  ..., 0, 0, 0],\n",
       "         [0, 0, 0,  ..., 0, 0, 0],\n",
       "         [0, 0, 0,  ..., 0, 0, 0]]),\n",
       " 'encoded_label': tensor([0., 0., 1., 0.])}"
      ]
     },
     "execution_count": 10,
     "metadata": {},
     "output_type": "execute_result"
    }
   ],
   "source": [
    "train_dataset[0]"
   ]
  },
  {
   "cell_type": "code",
   "execution_count": 11,
   "id": "c918cd7f",
   "metadata": {},
   "outputs": [],
   "source": [
    "models = [\n",
    "    torch.load(f'./models/DuEE_fin/{model_name}/enum.bin').to(device)\n",
    "    for model_name in model_dict.keys()\n",
    "]\n",
    "stacked_model = MultiLabelStackedClassification(models=models, num_labels=len(label_vocab))"
   ]
  },
  {
   "cell_type": "code",
   "execution_count": 12,
   "id": "0aa0b105",
   "metadata": {},
   "outputs": [],
   "source": [
    "@torch.no_grad()\n",
    "def evaluate(model, eval_dataloader):\n",
    "    model.eval()\n",
    "    step = 0\n",
    "    eval_acc = 0.0\n",
    "    eval_precision = 0.0\n",
    "    eval_recall = 0.0\n",
    "    eval_f1 = 0.0\n",
    "    eval_loss = 0.0\n",
    "    for batch in eval_dataloader:\n",
    "        loss, logits = model(\n",
    "            input_ids=batch['input_ids'].to(device),\n",
    "            attention_mask=batch['attention_masks'].to(device),\n",
    "            token_type_ids=batch['token_type_ids'].to(device),\n",
    "            labels=batch['encoded_label'].to(device)\n",
    "        )\n",
    "        \n",
    "        if n_gpu > 1:\n",
    "            loss = loss.mean()\n",
    "\n",
    "        eval_loss += loss.item()\n",
    "        pred_Y = (torch.sigmoid(logits).data > 0.5).cpu().numpy().flatten()\n",
    "        true_Y = batch['encoded_label'].cpu().numpy().flatten()\n",
    "        eval_acc += accuracy_score(pred_Y, true_Y)\n",
    "        eval_precision += precision_score(pred_Y, true_Y, average=\"macro\", zero_division=1)\n",
    "        eval_recall += recall_score(pred_Y, true_Y, average=\"macro\", zero_division=1)\n",
    "        eval_f1 += f1_score(pred_Y, true_Y, average=\"macro\")\n",
    "        step += 1\n",
    "    model.train()\n",
    "    return eval_loss/step, eval_acc/step, eval_precision/step, eval_recall/step, eval_f1/step"
   ]
  },
  {
   "cell_type": "code",
   "execution_count": 13,
   "id": "455682c5",
   "metadata": {},
   "outputs": [],
   "source": [
    "### train model\n",
    "\n",
    "def train(model, ds_train, ds_dev = None, n_epochs = 100, learning_rate = 1e-2, weight_decay = 0.01, batch_size = 1, eval_per_epoch = 1):\n",
    "    model = model.to(device)\n",
    "    \n",
    "    train_sampler = RandomSampler(ds_train)\n",
    "    train_dataloader = DataLoader(ds_train, sampler=train_sampler, batch_size=batch_size)\n",
    "    \n",
    "    eval_sampler = SequentialSampler(ds_dev)\n",
    "    eval_dataloader = DataLoader(ds_dev, sampler=eval_sampler, batch_size=batch_size)\n",
    "\n",
    "    if n_gpu > 1:\n",
    "        model = torch.nn.DataParallel(model, device_ids=[0, 1])\n",
    "\n",
    "    optimizer_grouped_parameters = [{\"params\": model.parameters(), \"lr\": learning_rate, \"weight_decay\": weight_decay}]\n",
    "    optimizer = AdamW(optimizer_grouped_parameters)\n",
    "#     scheduler = ReduceLROnPlateau(optimizer, \"min\")\n",
    "    \n",
    "    f1 = 0.0\n",
    "    acc = 0.0\n",
    "    precision = 0.0\n",
    "    recall = 0.0\n",
    "    tr_loss = 0.0\n",
    "    global_step = 0\n",
    "    model.train()\n",
    "    model.zero_grad()\n",
    "    postfix = {}\n",
    "    for epoch in range(0, n_epochs):\n",
    "        eval_flag = False\n",
    "        train_iterator = tqdm(train_dataloader, desc=f\"Epoch {epoch + 1}/{n_epochs}\")\n",
    "        for batch in train_iterator:\n",
    "            loss, logits = model(\n",
    "                input_ids=batch['input_ids'].to(device),\n",
    "                attention_mask=batch['attention_masks'].to(device),\n",
    "                token_type_ids=batch['token_type_ids'].to(device),\n",
    "                labels=batch['encoded_label'].to(device)\n",
    "            )\n",
    "            \n",
    "            if n_gpu > 1:\n",
    "                loss = loss.mean()\n",
    "            \n",
    "            loss.backward()\n",
    "            optimizer.step()\n",
    "#             scheduler.step(loss)\n",
    "\n",
    "            tr_loss += loss.item()\n",
    "            pred_Y = (torch.sigmoid(logits).data > 0.5).cpu().numpy().flatten()\n",
    "            true_Y = batch['encoded_label'].cpu().numpy().flatten()\n",
    "            acc += accuracy_score(pred_Y, true_Y)\n",
    "            precision += precision_score(pred_Y, true_Y, average=\"macro\", zero_division=1)\n",
    "            recall += recall_score(pred_Y, true_Y, average=\"macro\", zero_division=1)\n",
    "            f1 += f1_score(pred_Y, true_Y, average='macro', zero_division=1)\n",
    "            model.zero_grad()\n",
    "\n",
    "            postfix.update({\"Avg loss\": f\"{tr_loss / (global_step + 1):.2f}\", \"Avg acc score\": f\"{acc / (global_step + 1):.2f}\", \"Avg precision score\": f\"{precision / (global_step + 1):.2f}\", \"Avg recall score\": f\"{recall / (global_step + 1):.2f}\", \"Avg f1 score\": f\"{f1 / (global_step + 1):.2f}\"})\n",
    "            if (\n",
    "                not eval_flag\n",
    "                and (global_step + 1) % len(train_dataloader) == 0\n",
    "                and (epoch % eval_per_epoch) == 0\n",
    "            ):\n",
    "                if ds_dev is not None:\n",
    "                    eval_loss, eval_acc, eval_precision, eval_recall, eval_f1 = evaluate(model, eval_dataloader)\n",
    "                postfix.update({\"Avg eval loss\": f\"{eval_loss:.2f}\", \"Avg eval acc\": f\"{eval_acc:.2f}\", \"Avg eval precision\": f\"{eval_precision:.2f}\", \"Avg eval recall\": f\"{eval_recall:.2f}\", \"Avg eval f1\": f\"{eval_f1:.2f}\"})\n",
    "                eval_flag = True\n",
    "            train_iterator.set_postfix(postfix)\n",
    "            global_step += 1"
   ]
  },
  {
   "cell_type": "code",
   "execution_count": 14,
   "id": "39b831f9",
   "metadata": {},
   "outputs": [
    {
     "data": {
      "application/vnd.jupyter.widget-view+json": {
       "model_id": "1f5974f41443428bafafbed39f8aea4d",
       "version_major": 2,
       "version_minor": 0
      },
      "text/plain": [
       "HBox(children=(IntProgress(value=0, description='Epoch 1/100', max=1, style=ProgressStyle(description_width='i…"
      ]
     },
     "metadata": {},
     "output_type": "display_data"
    },
    {
     "name": "stdout",
     "output_type": "stream",
     "text": [
      "\n"
     ]
    },
    {
     "data": {
      "application/vnd.jupyter.widget-view+json": {
       "model_id": "399a7705ba3e4ed1989cb546f7100eb5",
       "version_major": 2,
       "version_minor": 0
      },
      "text/plain": [
       "HBox(children=(IntProgress(value=0, description='Epoch 2/100', max=1, style=ProgressStyle(description_width='i…"
      ]
     },
     "metadata": {},
     "output_type": "display_data"
    },
    {
     "name": "stdout",
     "output_type": "stream",
     "text": [
      "\n"
     ]
    },
    {
     "data": {
      "application/vnd.jupyter.widget-view+json": {
       "model_id": "26c14e60034c4c5ab90483316a487f78",
       "version_major": 2,
       "version_minor": 0
      },
      "text/plain": [
       "HBox(children=(IntProgress(value=0, description='Epoch 3/100', max=1, style=ProgressStyle(description_width='i…"
      ]
     },
     "metadata": {},
     "output_type": "display_data"
    },
    {
     "name": "stdout",
     "output_type": "stream",
     "text": [
      "\n"
     ]
    },
    {
     "data": {
      "application/vnd.jupyter.widget-view+json": {
       "model_id": "34a450a9e0354f4e93987439965168f5",
       "version_major": 2,
       "version_minor": 0
      },
      "text/plain": [
       "HBox(children=(IntProgress(value=0, description='Epoch 4/100', max=1, style=ProgressStyle(description_width='i…"
      ]
     },
     "metadata": {},
     "output_type": "display_data"
    },
    {
     "name": "stdout",
     "output_type": "stream",
     "text": [
      "\n"
     ]
    },
    {
     "data": {
      "application/vnd.jupyter.widget-view+json": {
       "model_id": "7c75f61ac6404290ba06fe2d541b48dc",
       "version_major": 2,
       "version_minor": 0
      },
      "text/plain": [
       "HBox(children=(IntProgress(value=0, description='Epoch 5/100', max=1, style=ProgressStyle(description_width='i…"
      ]
     },
     "metadata": {},
     "output_type": "display_data"
    },
    {
     "name": "stdout",
     "output_type": "stream",
     "text": [
      "\n"
     ]
    },
    {
     "data": {
      "application/vnd.jupyter.widget-view+json": {
       "model_id": "e0ef63650cb44e91b5744a39a629b384",
       "version_major": 2,
       "version_minor": 0
      },
      "text/plain": [
       "HBox(children=(IntProgress(value=0, description='Epoch 6/100', max=1, style=ProgressStyle(description_width='i…"
      ]
     },
     "metadata": {},
     "output_type": "display_data"
    },
    {
     "name": "stdout",
     "output_type": "stream",
     "text": [
      "\n"
     ]
    },
    {
     "data": {
      "application/vnd.jupyter.widget-view+json": {
       "model_id": "d1ddeae97dee46eda6968d83b5efb8b2",
       "version_major": 2,
       "version_minor": 0
      },
      "text/plain": [
       "HBox(children=(IntProgress(value=0, description='Epoch 7/100', max=1, style=ProgressStyle(description_width='i…"
      ]
     },
     "metadata": {},
     "output_type": "display_data"
    },
    {
     "name": "stdout",
     "output_type": "stream",
     "text": [
      "\n"
     ]
    },
    {
     "data": {
      "application/vnd.jupyter.widget-view+json": {
       "model_id": "2ce75a5c62874cb78e35dda322ba06ad",
       "version_major": 2,
       "version_minor": 0
      },
      "text/plain": [
       "HBox(children=(IntProgress(value=0, description='Epoch 8/100', max=1, style=ProgressStyle(description_width='i…"
      ]
     },
     "metadata": {},
     "output_type": "display_data"
    },
    {
     "name": "stdout",
     "output_type": "stream",
     "text": [
      "\n"
     ]
    },
    {
     "data": {
      "application/vnd.jupyter.widget-view+json": {
       "model_id": "96a875a86a8b461cb2d5fe15637b04ac",
       "version_major": 2,
       "version_minor": 0
      },
      "text/plain": [
       "HBox(children=(IntProgress(value=0, description='Epoch 9/100', max=1, style=ProgressStyle(description_width='i…"
      ]
     },
     "metadata": {},
     "output_type": "display_data"
    },
    {
     "name": "stdout",
     "output_type": "stream",
     "text": [
      "\n"
     ]
    },
    {
     "data": {
      "application/vnd.jupyter.widget-view+json": {
       "model_id": "4b9493d9a5ef4ce0a72dc94c3235896f",
       "version_major": 2,
       "version_minor": 0
      },
      "text/plain": [
       "HBox(children=(IntProgress(value=0, description='Epoch 10/100', max=1, style=ProgressStyle(description_width='…"
      ]
     },
     "metadata": {},
     "output_type": "display_data"
    },
    {
     "name": "stdout",
     "output_type": "stream",
     "text": [
      "\n"
     ]
    },
    {
     "data": {
      "application/vnd.jupyter.widget-view+json": {
       "model_id": "275a15c2595f4c22a318ef43f80fe912",
       "version_major": 2,
       "version_minor": 0
      },
      "text/plain": [
       "HBox(children=(IntProgress(value=0, description='Epoch 11/100', max=1, style=ProgressStyle(description_width='…"
      ]
     },
     "metadata": {},
     "output_type": "display_data"
    },
    {
     "name": "stdout",
     "output_type": "stream",
     "text": [
      "\n"
     ]
    },
    {
     "data": {
      "application/vnd.jupyter.widget-view+json": {
       "model_id": "65b4989d12a946668f6985121cae0a49",
       "version_major": 2,
       "version_minor": 0
      },
      "text/plain": [
       "HBox(children=(IntProgress(value=0, description='Epoch 12/100', max=1, style=ProgressStyle(description_width='…"
      ]
     },
     "metadata": {},
     "output_type": "display_data"
    },
    {
     "name": "stdout",
     "output_type": "stream",
     "text": [
      "\n"
     ]
    },
    {
     "data": {
      "application/vnd.jupyter.widget-view+json": {
       "model_id": "22a883a47eaa41f480372a076cf118fc",
       "version_major": 2,
       "version_minor": 0
      },
      "text/plain": [
       "HBox(children=(IntProgress(value=0, description='Epoch 13/100', max=1, style=ProgressStyle(description_width='…"
      ]
     },
     "metadata": {},
     "output_type": "display_data"
    },
    {
     "name": "stdout",
     "output_type": "stream",
     "text": [
      "\n"
     ]
    },
    {
     "data": {
      "application/vnd.jupyter.widget-view+json": {
       "model_id": "bb90f0d7076c453984dc89d5785ba20e",
       "version_major": 2,
       "version_minor": 0
      },
      "text/plain": [
       "HBox(children=(IntProgress(value=0, description='Epoch 14/100', max=1, style=ProgressStyle(description_width='…"
      ]
     },
     "metadata": {},
     "output_type": "display_data"
    },
    {
     "name": "stdout",
     "output_type": "stream",
     "text": [
      "\n"
     ]
    },
    {
     "data": {
      "application/vnd.jupyter.widget-view+json": {
       "model_id": "4525a828fd0d4b759ba8fe7a73bc215b",
       "version_major": 2,
       "version_minor": 0
      },
      "text/plain": [
       "HBox(children=(IntProgress(value=0, description='Epoch 15/100', max=1, style=ProgressStyle(description_width='…"
      ]
     },
     "metadata": {},
     "output_type": "display_data"
    },
    {
     "name": "stdout",
     "output_type": "stream",
     "text": [
      "\n"
     ]
    },
    {
     "data": {
      "application/vnd.jupyter.widget-view+json": {
       "model_id": "1d62e723a27d457eba0fb8cf347c6bdd",
       "version_major": 2,
       "version_minor": 0
      },
      "text/plain": [
       "HBox(children=(IntProgress(value=0, description='Epoch 16/100', max=1, style=ProgressStyle(description_width='…"
      ]
     },
     "metadata": {},
     "output_type": "display_data"
    },
    {
     "name": "stdout",
     "output_type": "stream",
     "text": [
      "\n"
     ]
    },
    {
     "data": {
      "application/vnd.jupyter.widget-view+json": {
       "model_id": "a248463f33ec4f1c9b788d0d67eeddf9",
       "version_major": 2,
       "version_minor": 0
      },
      "text/plain": [
       "HBox(children=(IntProgress(value=0, description='Epoch 17/100', max=1, style=ProgressStyle(description_width='…"
      ]
     },
     "metadata": {},
     "output_type": "display_data"
    },
    {
     "name": "stdout",
     "output_type": "stream",
     "text": [
      "\n"
     ]
    },
    {
     "data": {
      "application/vnd.jupyter.widget-view+json": {
       "model_id": "e1c59a4c87b04c59ac410cf5f619c205",
       "version_major": 2,
       "version_minor": 0
      },
      "text/plain": [
       "HBox(children=(IntProgress(value=0, description='Epoch 18/100', max=1, style=ProgressStyle(description_width='…"
      ]
     },
     "metadata": {},
     "output_type": "display_data"
    },
    {
     "name": "stdout",
     "output_type": "stream",
     "text": [
      "\n"
     ]
    },
    {
     "data": {
      "application/vnd.jupyter.widget-view+json": {
       "model_id": "c0fd9a7d4c744b1bbe92c4e02078a35b",
       "version_major": 2,
       "version_minor": 0
      },
      "text/plain": [
       "HBox(children=(IntProgress(value=0, description='Epoch 19/100', max=1, style=ProgressStyle(description_width='…"
      ]
     },
     "metadata": {},
     "output_type": "display_data"
    },
    {
     "name": "stdout",
     "output_type": "stream",
     "text": [
      "\n"
     ]
    },
    {
     "data": {
      "application/vnd.jupyter.widget-view+json": {
       "model_id": "9680d97d485a4616b7028b8630dba5b5",
       "version_major": 2,
       "version_minor": 0
      },
      "text/plain": [
       "HBox(children=(IntProgress(value=0, description='Epoch 20/100', max=1, style=ProgressStyle(description_width='…"
      ]
     },
     "metadata": {},
     "output_type": "display_data"
    },
    {
     "name": "stdout",
     "output_type": "stream",
     "text": [
      "\n"
     ]
    },
    {
     "data": {
      "application/vnd.jupyter.widget-view+json": {
       "model_id": "50bf861071954d5a8b8e9a65a467d3e4",
       "version_major": 2,
       "version_minor": 0
      },
      "text/plain": [
       "HBox(children=(IntProgress(value=0, description='Epoch 21/100', max=1, style=ProgressStyle(description_width='…"
      ]
     },
     "metadata": {},
     "output_type": "display_data"
    },
    {
     "name": "stdout",
     "output_type": "stream",
     "text": [
      "\n"
     ]
    },
    {
     "data": {
      "application/vnd.jupyter.widget-view+json": {
       "model_id": "5d1533a62bd94ce28f48f68990b1bca2",
       "version_major": 2,
       "version_minor": 0
      },
      "text/plain": [
       "HBox(children=(IntProgress(value=0, description='Epoch 22/100', max=1, style=ProgressStyle(description_width='…"
      ]
     },
     "metadata": {},
     "output_type": "display_data"
    },
    {
     "name": "stdout",
     "output_type": "stream",
     "text": [
      "\n"
     ]
    },
    {
     "data": {
      "application/vnd.jupyter.widget-view+json": {
       "model_id": "64d10509aa16405199b936dc76f95776",
       "version_major": 2,
       "version_minor": 0
      },
      "text/plain": [
       "HBox(children=(IntProgress(value=0, description='Epoch 23/100', max=1, style=ProgressStyle(description_width='…"
      ]
     },
     "metadata": {},
     "output_type": "display_data"
    },
    {
     "name": "stdout",
     "output_type": "stream",
     "text": [
      "\n"
     ]
    },
    {
     "data": {
      "application/vnd.jupyter.widget-view+json": {
       "model_id": "804e578cdf4a44cc9bf21ebed195b881",
       "version_major": 2,
       "version_minor": 0
      },
      "text/plain": [
       "HBox(children=(IntProgress(value=0, description='Epoch 24/100', max=1, style=ProgressStyle(description_width='…"
      ]
     },
     "metadata": {},
     "output_type": "display_data"
    },
    {
     "name": "stdout",
     "output_type": "stream",
     "text": [
      "\n"
     ]
    },
    {
     "data": {
      "application/vnd.jupyter.widget-view+json": {
       "model_id": "5658ee7295764268af38da5b7663af7d",
       "version_major": 2,
       "version_minor": 0
      },
      "text/plain": [
       "HBox(children=(IntProgress(value=0, description='Epoch 25/100', max=1, style=ProgressStyle(description_width='…"
      ]
     },
     "metadata": {},
     "output_type": "display_data"
    },
    {
     "name": "stdout",
     "output_type": "stream",
     "text": [
      "\n"
     ]
    },
    {
     "data": {
      "application/vnd.jupyter.widget-view+json": {
       "model_id": "e2703935df9e41a48a779947af37187f",
       "version_major": 2,
       "version_minor": 0
      },
      "text/plain": [
       "HBox(children=(IntProgress(value=0, description='Epoch 26/100', max=1, style=ProgressStyle(description_width='…"
      ]
     },
     "metadata": {},
     "output_type": "display_data"
    },
    {
     "name": "stdout",
     "output_type": "stream",
     "text": [
      "\n"
     ]
    },
    {
     "data": {
      "application/vnd.jupyter.widget-view+json": {
       "model_id": "5126d52098364e9c8428d0e4e857f7e8",
       "version_major": 2,
       "version_minor": 0
      },
      "text/plain": [
       "HBox(children=(IntProgress(value=0, description='Epoch 27/100', max=1, style=ProgressStyle(description_width='…"
      ]
     },
     "metadata": {},
     "output_type": "display_data"
    },
    {
     "name": "stdout",
     "output_type": "stream",
     "text": [
      "\n"
     ]
    },
    {
     "data": {
      "application/vnd.jupyter.widget-view+json": {
       "model_id": "ec70f162ea7d4a34a14833b6b53b7fd8",
       "version_major": 2,
       "version_minor": 0
      },
      "text/plain": [
       "HBox(children=(IntProgress(value=0, description='Epoch 28/100', max=1, style=ProgressStyle(description_width='…"
      ]
     },
     "metadata": {},
     "output_type": "display_data"
    },
    {
     "name": "stdout",
     "output_type": "stream",
     "text": [
      "\n"
     ]
    },
    {
     "data": {
      "application/vnd.jupyter.widget-view+json": {
       "model_id": "7d3d502fe8d94b04862aa4d2cf6cbd1e",
       "version_major": 2,
       "version_minor": 0
      },
      "text/plain": [
       "HBox(children=(IntProgress(value=0, description='Epoch 29/100', max=1, style=ProgressStyle(description_width='…"
      ]
     },
     "metadata": {},
     "output_type": "display_data"
    },
    {
     "name": "stdout",
     "output_type": "stream",
     "text": [
      "\n"
     ]
    },
    {
     "data": {
      "application/vnd.jupyter.widget-view+json": {
       "model_id": "364c8a92552144f08cf1e54b30639483",
       "version_major": 2,
       "version_minor": 0
      },
      "text/plain": [
       "HBox(children=(IntProgress(value=0, description='Epoch 30/100', max=1, style=ProgressStyle(description_width='…"
      ]
     },
     "metadata": {},
     "output_type": "display_data"
    },
    {
     "name": "stdout",
     "output_type": "stream",
     "text": [
      "\n"
     ]
    },
    {
     "data": {
      "application/vnd.jupyter.widget-view+json": {
       "model_id": "23cd70c75a8844d59e11b1ac903d5d63",
       "version_major": 2,
       "version_minor": 0
      },
      "text/plain": [
       "HBox(children=(IntProgress(value=0, description='Epoch 31/100', max=1, style=ProgressStyle(description_width='…"
      ]
     },
     "metadata": {},
     "output_type": "display_data"
    },
    {
     "name": "stdout",
     "output_type": "stream",
     "text": [
      "\n"
     ]
    },
    {
     "data": {
      "application/vnd.jupyter.widget-view+json": {
       "model_id": "596d29d0e16a4b99bec0207bb62740b3",
       "version_major": 2,
       "version_minor": 0
      },
      "text/plain": [
       "HBox(children=(IntProgress(value=0, description='Epoch 32/100', max=1, style=ProgressStyle(description_width='…"
      ]
     },
     "metadata": {},
     "output_type": "display_data"
    },
    {
     "name": "stdout",
     "output_type": "stream",
     "text": [
      "\n"
     ]
    },
    {
     "data": {
      "application/vnd.jupyter.widget-view+json": {
       "model_id": "97210a750b1649fca6dddd646234442b",
       "version_major": 2,
       "version_minor": 0
      },
      "text/plain": [
       "HBox(children=(IntProgress(value=0, description='Epoch 33/100', max=1, style=ProgressStyle(description_width='…"
      ]
     },
     "metadata": {},
     "output_type": "display_data"
    },
    {
     "name": "stdout",
     "output_type": "stream",
     "text": [
      "\n"
     ]
    },
    {
     "data": {
      "application/vnd.jupyter.widget-view+json": {
       "model_id": "8fd7e53bed4e4873b7130563bdb82103",
       "version_major": 2,
       "version_minor": 0
      },
      "text/plain": [
       "HBox(children=(IntProgress(value=0, description='Epoch 34/100', max=1, style=ProgressStyle(description_width='…"
      ]
     },
     "metadata": {},
     "output_type": "display_data"
    },
    {
     "name": "stdout",
     "output_type": "stream",
     "text": [
      "\n"
     ]
    },
    {
     "data": {
      "application/vnd.jupyter.widget-view+json": {
       "model_id": "ef8381eae6c74c908afd0c475b3daaae",
       "version_major": 2,
       "version_minor": 0
      },
      "text/plain": [
       "HBox(children=(IntProgress(value=0, description='Epoch 35/100', max=1, style=ProgressStyle(description_width='…"
      ]
     },
     "metadata": {},
     "output_type": "display_data"
    },
    {
     "name": "stdout",
     "output_type": "stream",
     "text": [
      "\n"
     ]
    },
    {
     "data": {
      "application/vnd.jupyter.widget-view+json": {
       "model_id": "b5754ed8999e460baf7cd321e1934b2f",
       "version_major": 2,
       "version_minor": 0
      },
      "text/plain": [
       "HBox(children=(IntProgress(value=0, description='Epoch 36/100', max=1, style=ProgressStyle(description_width='…"
      ]
     },
     "metadata": {},
     "output_type": "display_data"
    },
    {
     "name": "stdout",
     "output_type": "stream",
     "text": [
      "\n"
     ]
    },
    {
     "data": {
      "application/vnd.jupyter.widget-view+json": {
       "model_id": "79f36fdf3def4cff97e9ad7b5e6b3c26",
       "version_major": 2,
       "version_minor": 0
      },
      "text/plain": [
       "HBox(children=(IntProgress(value=0, description='Epoch 37/100', max=1, style=ProgressStyle(description_width='…"
      ]
     },
     "metadata": {},
     "output_type": "display_data"
    },
    {
     "name": "stdout",
     "output_type": "stream",
     "text": [
      "\n"
     ]
    },
    {
     "data": {
      "application/vnd.jupyter.widget-view+json": {
       "model_id": "aed00e33642f4a57af4d54d5430057f5",
       "version_major": 2,
       "version_minor": 0
      },
      "text/plain": [
       "HBox(children=(IntProgress(value=0, description='Epoch 38/100', max=1, style=ProgressStyle(description_width='…"
      ]
     },
     "metadata": {},
     "output_type": "display_data"
    },
    {
     "name": "stdout",
     "output_type": "stream",
     "text": [
      "\n"
     ]
    },
    {
     "data": {
      "application/vnd.jupyter.widget-view+json": {
       "model_id": "8994ed268357490d8dfcf0219dc01b34",
       "version_major": 2,
       "version_minor": 0
      },
      "text/plain": [
       "HBox(children=(IntProgress(value=0, description='Epoch 39/100', max=1, style=ProgressStyle(description_width='…"
      ]
     },
     "metadata": {},
     "output_type": "display_data"
    },
    {
     "name": "stdout",
     "output_type": "stream",
     "text": [
      "\n"
     ]
    },
    {
     "data": {
      "application/vnd.jupyter.widget-view+json": {
       "model_id": "39aa4803ed3041ef83b5baf8ccf6e4cc",
       "version_major": 2,
       "version_minor": 0
      },
      "text/plain": [
       "HBox(children=(IntProgress(value=0, description='Epoch 40/100', max=1, style=ProgressStyle(description_width='…"
      ]
     },
     "metadata": {},
     "output_type": "display_data"
    },
    {
     "name": "stdout",
     "output_type": "stream",
     "text": [
      "\n"
     ]
    },
    {
     "data": {
      "application/vnd.jupyter.widget-view+json": {
       "model_id": "e010c3afb3f14634ba46dda2c6ffef93",
       "version_major": 2,
       "version_minor": 0
      },
      "text/plain": [
       "HBox(children=(IntProgress(value=0, description='Epoch 41/100', max=1, style=ProgressStyle(description_width='…"
      ]
     },
     "metadata": {},
     "output_type": "display_data"
    },
    {
     "name": "stdout",
     "output_type": "stream",
     "text": [
      "\n"
     ]
    },
    {
     "data": {
      "application/vnd.jupyter.widget-view+json": {
       "model_id": "147db8b5354249e6917545400dd9d175",
       "version_major": 2,
       "version_minor": 0
      },
      "text/plain": [
       "HBox(children=(IntProgress(value=0, description='Epoch 42/100', max=1, style=ProgressStyle(description_width='…"
      ]
     },
     "metadata": {},
     "output_type": "display_data"
    },
    {
     "name": "stdout",
     "output_type": "stream",
     "text": [
      "\n"
     ]
    },
    {
     "data": {
      "application/vnd.jupyter.widget-view+json": {
       "model_id": "593f30611caa4ee9a9ba68feeb1fab49",
       "version_major": 2,
       "version_minor": 0
      },
      "text/plain": [
       "HBox(children=(IntProgress(value=0, description='Epoch 43/100', max=1, style=ProgressStyle(description_width='…"
      ]
     },
     "metadata": {},
     "output_type": "display_data"
    },
    {
     "name": "stdout",
     "output_type": "stream",
     "text": [
      "\n"
     ]
    },
    {
     "data": {
      "application/vnd.jupyter.widget-view+json": {
       "model_id": "cf52c4ee7fe74f24ae9747349b684be1",
       "version_major": 2,
       "version_minor": 0
      },
      "text/plain": [
       "HBox(children=(IntProgress(value=0, description='Epoch 44/100', max=1, style=ProgressStyle(description_width='…"
      ]
     },
     "metadata": {},
     "output_type": "display_data"
    },
    {
     "name": "stdout",
     "output_type": "stream",
     "text": [
      "\n"
     ]
    },
    {
     "data": {
      "application/vnd.jupyter.widget-view+json": {
       "model_id": "992e24398adc4ac4a6139d142c9f3b51",
       "version_major": 2,
       "version_minor": 0
      },
      "text/plain": [
       "HBox(children=(IntProgress(value=0, description='Epoch 45/100', max=1, style=ProgressStyle(description_width='…"
      ]
     },
     "metadata": {},
     "output_type": "display_data"
    },
    {
     "name": "stdout",
     "output_type": "stream",
     "text": [
      "\n"
     ]
    },
    {
     "data": {
      "application/vnd.jupyter.widget-view+json": {
       "model_id": "9d2eec7265814e2c8c36f0884c65b08a",
       "version_major": 2,
       "version_minor": 0
      },
      "text/plain": [
       "HBox(children=(IntProgress(value=0, description='Epoch 46/100', max=1, style=ProgressStyle(description_width='…"
      ]
     },
     "metadata": {},
     "output_type": "display_data"
    },
    {
     "name": "stdout",
     "output_type": "stream",
     "text": [
      "\n"
     ]
    },
    {
     "data": {
      "application/vnd.jupyter.widget-view+json": {
       "model_id": "94b6ab6ce0204ce4bc189d0b7b7f14b6",
       "version_major": 2,
       "version_minor": 0
      },
      "text/plain": [
       "HBox(children=(IntProgress(value=0, description='Epoch 47/100', max=1, style=ProgressStyle(description_width='…"
      ]
     },
     "metadata": {},
     "output_type": "display_data"
    },
    {
     "name": "stdout",
     "output_type": "stream",
     "text": [
      "\n"
     ]
    },
    {
     "data": {
      "application/vnd.jupyter.widget-view+json": {
       "model_id": "7fba03f0cf4b4873b8ff6035dabd511b",
       "version_major": 2,
       "version_minor": 0
      },
      "text/plain": [
       "HBox(children=(IntProgress(value=0, description='Epoch 48/100', max=1, style=ProgressStyle(description_width='…"
      ]
     },
     "metadata": {},
     "output_type": "display_data"
    },
    {
     "name": "stdout",
     "output_type": "stream",
     "text": [
      "\n"
     ]
    },
    {
     "data": {
      "application/vnd.jupyter.widget-view+json": {
       "model_id": "2e1ee3bda7894bf9996343dce7e95a74",
       "version_major": 2,
       "version_minor": 0
      },
      "text/plain": [
       "HBox(children=(IntProgress(value=0, description='Epoch 49/100', max=1, style=ProgressStyle(description_width='…"
      ]
     },
     "metadata": {},
     "output_type": "display_data"
    },
    {
     "name": "stdout",
     "output_type": "stream",
     "text": [
      "\n"
     ]
    },
    {
     "data": {
      "application/vnd.jupyter.widget-view+json": {
       "model_id": "77fbfb8a121d4e92a1e8d40fceec888e",
       "version_major": 2,
       "version_minor": 0
      },
      "text/plain": [
       "HBox(children=(IntProgress(value=0, description='Epoch 50/100', max=1, style=ProgressStyle(description_width='…"
      ]
     },
     "metadata": {},
     "output_type": "display_data"
    },
    {
     "name": "stdout",
     "output_type": "stream",
     "text": [
      "\n"
     ]
    },
    {
     "data": {
      "application/vnd.jupyter.widget-view+json": {
       "model_id": "1264f06abda847a6bcdec195c71b5755",
       "version_major": 2,
       "version_minor": 0
      },
      "text/plain": [
       "HBox(children=(IntProgress(value=0, description='Epoch 51/100', max=1, style=ProgressStyle(description_width='…"
      ]
     },
     "metadata": {},
     "output_type": "display_data"
    },
    {
     "name": "stdout",
     "output_type": "stream",
     "text": [
      "\n"
     ]
    },
    {
     "data": {
      "application/vnd.jupyter.widget-view+json": {
       "model_id": "3185a0a1888b44c987cc33f13d3568e6",
       "version_major": 2,
       "version_minor": 0
      },
      "text/plain": [
       "HBox(children=(IntProgress(value=0, description='Epoch 52/100', max=1, style=ProgressStyle(description_width='…"
      ]
     },
     "metadata": {},
     "output_type": "display_data"
    },
    {
     "name": "stdout",
     "output_type": "stream",
     "text": [
      "\n"
     ]
    },
    {
     "data": {
      "application/vnd.jupyter.widget-view+json": {
       "model_id": "a82d8391682044b2bd61ac470cd66bea",
       "version_major": 2,
       "version_minor": 0
      },
      "text/plain": [
       "HBox(children=(IntProgress(value=0, description='Epoch 53/100', max=1, style=ProgressStyle(description_width='…"
      ]
     },
     "metadata": {},
     "output_type": "display_data"
    },
    {
     "name": "stdout",
     "output_type": "stream",
     "text": [
      "\n"
     ]
    },
    {
     "data": {
      "application/vnd.jupyter.widget-view+json": {
       "model_id": "1aa8a2961cab44c9823ffe3560958652",
       "version_major": 2,
       "version_minor": 0
      },
      "text/plain": [
       "HBox(children=(IntProgress(value=0, description='Epoch 54/100', max=1, style=ProgressStyle(description_width='…"
      ]
     },
     "metadata": {},
     "output_type": "display_data"
    },
    {
     "name": "stdout",
     "output_type": "stream",
     "text": [
      "\n"
     ]
    },
    {
     "data": {
      "application/vnd.jupyter.widget-view+json": {
       "model_id": "fa8f78c2cca545d3b1e0a0d7179a6977",
       "version_major": 2,
       "version_minor": 0
      },
      "text/plain": [
       "HBox(children=(IntProgress(value=0, description='Epoch 55/100', max=1, style=ProgressStyle(description_width='…"
      ]
     },
     "metadata": {},
     "output_type": "display_data"
    },
    {
     "name": "stdout",
     "output_type": "stream",
     "text": [
      "\n"
     ]
    },
    {
     "data": {
      "application/vnd.jupyter.widget-view+json": {
       "model_id": "76078fe45c214edca96223292010fcdd",
       "version_major": 2,
       "version_minor": 0
      },
      "text/plain": [
       "HBox(children=(IntProgress(value=0, description='Epoch 56/100', max=1, style=ProgressStyle(description_width='…"
      ]
     },
     "metadata": {},
     "output_type": "display_data"
    },
    {
     "name": "stdout",
     "output_type": "stream",
     "text": [
      "\n"
     ]
    },
    {
     "data": {
      "application/vnd.jupyter.widget-view+json": {
       "model_id": "db90de26339643f8bb81a62801ad8013",
       "version_major": 2,
       "version_minor": 0
      },
      "text/plain": [
       "HBox(children=(IntProgress(value=0, description='Epoch 57/100', max=1, style=ProgressStyle(description_width='…"
      ]
     },
     "metadata": {},
     "output_type": "display_data"
    },
    {
     "name": "stdout",
     "output_type": "stream",
     "text": [
      "\n"
     ]
    },
    {
     "data": {
      "application/vnd.jupyter.widget-view+json": {
       "model_id": "654375f4399b420db9134880efcb9fe5",
       "version_major": 2,
       "version_minor": 0
      },
      "text/plain": [
       "HBox(children=(IntProgress(value=0, description='Epoch 58/100', max=1, style=ProgressStyle(description_width='…"
      ]
     },
     "metadata": {},
     "output_type": "display_data"
    },
    {
     "name": "stdout",
     "output_type": "stream",
     "text": [
      "\n"
     ]
    },
    {
     "data": {
      "application/vnd.jupyter.widget-view+json": {
       "model_id": "804d4e521af046839a60f5c908b9bc58",
       "version_major": 2,
       "version_minor": 0
      },
      "text/plain": [
       "HBox(children=(IntProgress(value=0, description='Epoch 59/100', max=1, style=ProgressStyle(description_width='…"
      ]
     },
     "metadata": {},
     "output_type": "display_data"
    },
    {
     "name": "stdout",
     "output_type": "stream",
     "text": [
      "\n"
     ]
    },
    {
     "data": {
      "application/vnd.jupyter.widget-view+json": {
       "model_id": "e2a6bd110734445f8b5c5d4174f9887c",
       "version_major": 2,
       "version_minor": 0
      },
      "text/plain": [
       "HBox(children=(IntProgress(value=0, description='Epoch 60/100', max=1, style=ProgressStyle(description_width='…"
      ]
     },
     "metadata": {},
     "output_type": "display_data"
    },
    {
     "name": "stdout",
     "output_type": "stream",
     "text": [
      "\n"
     ]
    },
    {
     "data": {
      "application/vnd.jupyter.widget-view+json": {
       "model_id": "6df84a3bcdd4497eb118aa413cfcf60f",
       "version_major": 2,
       "version_minor": 0
      },
      "text/plain": [
       "HBox(children=(IntProgress(value=0, description='Epoch 61/100', max=1, style=ProgressStyle(description_width='…"
      ]
     },
     "metadata": {},
     "output_type": "display_data"
    },
    {
     "name": "stdout",
     "output_type": "stream",
     "text": [
      "\n"
     ]
    },
    {
     "data": {
      "application/vnd.jupyter.widget-view+json": {
       "model_id": "3fa0b0e1175c4d209b17bbbcf46592ff",
       "version_major": 2,
       "version_minor": 0
      },
      "text/plain": [
       "HBox(children=(IntProgress(value=0, description='Epoch 62/100', max=1, style=ProgressStyle(description_width='…"
      ]
     },
     "metadata": {},
     "output_type": "display_data"
    },
    {
     "name": "stdout",
     "output_type": "stream",
     "text": [
      "\n"
     ]
    },
    {
     "data": {
      "application/vnd.jupyter.widget-view+json": {
       "model_id": "d8a4f766740d401b817ae2911629693d",
       "version_major": 2,
       "version_minor": 0
      },
      "text/plain": [
       "HBox(children=(IntProgress(value=0, description='Epoch 63/100', max=1, style=ProgressStyle(description_width='…"
      ]
     },
     "metadata": {},
     "output_type": "display_data"
    },
    {
     "name": "stdout",
     "output_type": "stream",
     "text": [
      "\n"
     ]
    },
    {
     "data": {
      "application/vnd.jupyter.widget-view+json": {
       "model_id": "c9e8f15162324d6eb49eee2a3ac85a0f",
       "version_major": 2,
       "version_minor": 0
      },
      "text/plain": [
       "HBox(children=(IntProgress(value=0, description='Epoch 64/100', max=1, style=ProgressStyle(description_width='…"
      ]
     },
     "metadata": {},
     "output_type": "display_data"
    },
    {
     "name": "stdout",
     "output_type": "stream",
     "text": [
      "\n"
     ]
    },
    {
     "data": {
      "application/vnd.jupyter.widget-view+json": {
       "model_id": "c90cba7988cc475cbefbcf4b4e58e032",
       "version_major": 2,
       "version_minor": 0
      },
      "text/plain": [
       "HBox(children=(IntProgress(value=0, description='Epoch 65/100', max=1, style=ProgressStyle(description_width='…"
      ]
     },
     "metadata": {},
     "output_type": "display_data"
    },
    {
     "name": "stdout",
     "output_type": "stream",
     "text": [
      "\n"
     ]
    },
    {
     "data": {
      "application/vnd.jupyter.widget-view+json": {
       "model_id": "73419ad85f3c48f4b9e83a7c4baa7780",
       "version_major": 2,
       "version_minor": 0
      },
      "text/plain": [
       "HBox(children=(IntProgress(value=0, description='Epoch 66/100', max=1, style=ProgressStyle(description_width='…"
      ]
     },
     "metadata": {},
     "output_type": "display_data"
    },
    {
     "name": "stdout",
     "output_type": "stream",
     "text": [
      "\n"
     ]
    },
    {
     "data": {
      "application/vnd.jupyter.widget-view+json": {
       "model_id": "ddfc4ec5b33d42848ed8dbaa5f2c6db7",
       "version_major": 2,
       "version_minor": 0
      },
      "text/plain": [
       "HBox(children=(IntProgress(value=0, description='Epoch 67/100', max=1, style=ProgressStyle(description_width='…"
      ]
     },
     "metadata": {},
     "output_type": "display_data"
    },
    {
     "name": "stdout",
     "output_type": "stream",
     "text": [
      "\n"
     ]
    },
    {
     "data": {
      "application/vnd.jupyter.widget-view+json": {
       "model_id": "3428f029397942acac192cd5422a094f",
       "version_major": 2,
       "version_minor": 0
      },
      "text/plain": [
       "HBox(children=(IntProgress(value=0, description='Epoch 68/100', max=1, style=ProgressStyle(description_width='…"
      ]
     },
     "metadata": {},
     "output_type": "display_data"
    },
    {
     "name": "stdout",
     "output_type": "stream",
     "text": [
      "\n"
     ]
    },
    {
     "data": {
      "application/vnd.jupyter.widget-view+json": {
       "model_id": "c080bec5afd34efb910893c2f5c1cabf",
       "version_major": 2,
       "version_minor": 0
      },
      "text/plain": [
       "HBox(children=(IntProgress(value=0, description='Epoch 69/100', max=1, style=ProgressStyle(description_width='…"
      ]
     },
     "metadata": {},
     "output_type": "display_data"
    },
    {
     "name": "stdout",
     "output_type": "stream",
     "text": [
      "\n"
     ]
    },
    {
     "data": {
      "application/vnd.jupyter.widget-view+json": {
       "model_id": "904952b7e3f64fd6b02b86b08a0aeabd",
       "version_major": 2,
       "version_minor": 0
      },
      "text/plain": [
       "HBox(children=(IntProgress(value=0, description='Epoch 70/100', max=1, style=ProgressStyle(description_width='…"
      ]
     },
     "metadata": {},
     "output_type": "display_data"
    },
    {
     "name": "stdout",
     "output_type": "stream",
     "text": [
      "\n"
     ]
    },
    {
     "data": {
      "application/vnd.jupyter.widget-view+json": {
       "model_id": "79ba350a359342f89a3399e1de1c26ba",
       "version_major": 2,
       "version_minor": 0
      },
      "text/plain": [
       "HBox(children=(IntProgress(value=0, description='Epoch 71/100', max=1, style=ProgressStyle(description_width='…"
      ]
     },
     "metadata": {},
     "output_type": "display_data"
    },
    {
     "name": "stdout",
     "output_type": "stream",
     "text": [
      "\n"
     ]
    },
    {
     "data": {
      "application/vnd.jupyter.widget-view+json": {
       "model_id": "6eaab76abbb44f0397f24170bf552942",
       "version_major": 2,
       "version_minor": 0
      },
      "text/plain": [
       "HBox(children=(IntProgress(value=0, description='Epoch 72/100', max=1, style=ProgressStyle(description_width='…"
      ]
     },
     "metadata": {},
     "output_type": "display_data"
    },
    {
     "name": "stdout",
     "output_type": "stream",
     "text": [
      "\n"
     ]
    },
    {
     "data": {
      "application/vnd.jupyter.widget-view+json": {
       "model_id": "4eb734d92be343a08f15152f6635658f",
       "version_major": 2,
       "version_minor": 0
      },
      "text/plain": [
       "HBox(children=(IntProgress(value=0, description='Epoch 73/100', max=1, style=ProgressStyle(description_width='…"
      ]
     },
     "metadata": {},
     "output_type": "display_data"
    },
    {
     "name": "stdout",
     "output_type": "stream",
     "text": [
      "\n"
     ]
    },
    {
     "data": {
      "application/vnd.jupyter.widget-view+json": {
       "model_id": "c962a2e29a4841bb956fc0e18b515e94",
       "version_major": 2,
       "version_minor": 0
      },
      "text/plain": [
       "HBox(children=(IntProgress(value=0, description='Epoch 74/100', max=1, style=ProgressStyle(description_width='…"
      ]
     },
     "metadata": {},
     "output_type": "display_data"
    },
    {
     "name": "stdout",
     "output_type": "stream",
     "text": [
      "\n"
     ]
    },
    {
     "data": {
      "application/vnd.jupyter.widget-view+json": {
       "model_id": "e5ea0828de8349748fcf01942aca1a01",
       "version_major": 2,
       "version_minor": 0
      },
      "text/plain": [
       "HBox(children=(IntProgress(value=0, description='Epoch 75/100', max=1, style=ProgressStyle(description_width='…"
      ]
     },
     "metadata": {},
     "output_type": "display_data"
    },
    {
     "name": "stdout",
     "output_type": "stream",
     "text": [
      "\n"
     ]
    },
    {
     "data": {
      "application/vnd.jupyter.widget-view+json": {
       "model_id": "2d8aa3c7769248f1abe30579a40c50fc",
       "version_major": 2,
       "version_minor": 0
      },
      "text/plain": [
       "HBox(children=(IntProgress(value=0, description='Epoch 76/100', max=1, style=ProgressStyle(description_width='…"
      ]
     },
     "metadata": {},
     "output_type": "display_data"
    },
    {
     "name": "stdout",
     "output_type": "stream",
     "text": [
      "\n"
     ]
    },
    {
     "data": {
      "application/vnd.jupyter.widget-view+json": {
       "model_id": "f528fb6aa3df4e28b5344e83c70e5a35",
       "version_major": 2,
       "version_minor": 0
      },
      "text/plain": [
       "HBox(children=(IntProgress(value=0, description='Epoch 77/100', max=1, style=ProgressStyle(description_width='…"
      ]
     },
     "metadata": {},
     "output_type": "display_data"
    },
    {
     "name": "stdout",
     "output_type": "stream",
     "text": [
      "\n"
     ]
    },
    {
     "data": {
      "application/vnd.jupyter.widget-view+json": {
       "model_id": "b216daf5d41a4eef8329b72a6f8967e3",
       "version_major": 2,
       "version_minor": 0
      },
      "text/plain": [
       "HBox(children=(IntProgress(value=0, description='Epoch 78/100', max=1, style=ProgressStyle(description_width='…"
      ]
     },
     "metadata": {},
     "output_type": "display_data"
    },
    {
     "name": "stdout",
     "output_type": "stream",
     "text": [
      "\n"
     ]
    },
    {
     "data": {
      "application/vnd.jupyter.widget-view+json": {
       "model_id": "ea9021ccdfc1473db1e6fa2ac1744ded",
       "version_major": 2,
       "version_minor": 0
      },
      "text/plain": [
       "HBox(children=(IntProgress(value=0, description='Epoch 79/100', max=1, style=ProgressStyle(description_width='…"
      ]
     },
     "metadata": {},
     "output_type": "display_data"
    },
    {
     "name": "stdout",
     "output_type": "stream",
     "text": [
      "\n"
     ]
    },
    {
     "data": {
      "application/vnd.jupyter.widget-view+json": {
       "model_id": "e49e678cca1e4352aea73061b73c1f05",
       "version_major": 2,
       "version_minor": 0
      },
      "text/plain": [
       "HBox(children=(IntProgress(value=0, description='Epoch 80/100', max=1, style=ProgressStyle(description_width='…"
      ]
     },
     "metadata": {},
     "output_type": "display_data"
    },
    {
     "name": "stdout",
     "output_type": "stream",
     "text": [
      "\n"
     ]
    },
    {
     "data": {
      "application/vnd.jupyter.widget-view+json": {
       "model_id": "f38e3f11b8994851866a0f93e9d1c030",
       "version_major": 2,
       "version_minor": 0
      },
      "text/plain": [
       "HBox(children=(IntProgress(value=0, description='Epoch 81/100', max=1, style=ProgressStyle(description_width='…"
      ]
     },
     "metadata": {},
     "output_type": "display_data"
    },
    {
     "name": "stdout",
     "output_type": "stream",
     "text": [
      "\n"
     ]
    },
    {
     "data": {
      "application/vnd.jupyter.widget-view+json": {
       "model_id": "c1cb0d7a41be413f931fe6cf841e3fc2",
       "version_major": 2,
       "version_minor": 0
      },
      "text/plain": [
       "HBox(children=(IntProgress(value=0, description='Epoch 82/100', max=1, style=ProgressStyle(description_width='…"
      ]
     },
     "metadata": {},
     "output_type": "display_data"
    },
    {
     "name": "stdout",
     "output_type": "stream",
     "text": [
      "\n"
     ]
    },
    {
     "data": {
      "application/vnd.jupyter.widget-view+json": {
       "model_id": "a1c9bccbaf664249ab583818219eb365",
       "version_major": 2,
       "version_minor": 0
      },
      "text/plain": [
       "HBox(children=(IntProgress(value=0, description='Epoch 83/100', max=1, style=ProgressStyle(description_width='…"
      ]
     },
     "metadata": {},
     "output_type": "display_data"
    },
    {
     "name": "stdout",
     "output_type": "stream",
     "text": [
      "\n"
     ]
    },
    {
     "data": {
      "application/vnd.jupyter.widget-view+json": {
       "model_id": "b719e8ced3854531a182877a57cffb37",
       "version_major": 2,
       "version_minor": 0
      },
      "text/plain": [
       "HBox(children=(IntProgress(value=0, description='Epoch 84/100', max=1, style=ProgressStyle(description_width='…"
      ]
     },
     "metadata": {},
     "output_type": "display_data"
    },
    {
     "name": "stdout",
     "output_type": "stream",
     "text": [
      "\n"
     ]
    },
    {
     "data": {
      "application/vnd.jupyter.widget-view+json": {
       "model_id": "c2187b4277aa4e52af0d2a76bcbfc46b",
       "version_major": 2,
       "version_minor": 0
      },
      "text/plain": [
       "HBox(children=(IntProgress(value=0, description='Epoch 85/100', max=1, style=ProgressStyle(description_width='…"
      ]
     },
     "metadata": {},
     "output_type": "display_data"
    },
    {
     "name": "stdout",
     "output_type": "stream",
     "text": [
      "\n"
     ]
    },
    {
     "data": {
      "application/vnd.jupyter.widget-view+json": {
       "model_id": "ed438416c31e461f81f68ddef9a8e1f0",
       "version_major": 2,
       "version_minor": 0
      },
      "text/plain": [
       "HBox(children=(IntProgress(value=0, description='Epoch 86/100', max=1, style=ProgressStyle(description_width='…"
      ]
     },
     "metadata": {},
     "output_type": "display_data"
    },
    {
     "name": "stdout",
     "output_type": "stream",
     "text": [
      "\n"
     ]
    },
    {
     "data": {
      "application/vnd.jupyter.widget-view+json": {
       "model_id": "5da1f727110c4f178552ea6dba53f076",
       "version_major": 2,
       "version_minor": 0
      },
      "text/plain": [
       "HBox(children=(IntProgress(value=0, description='Epoch 87/100', max=1, style=ProgressStyle(description_width='…"
      ]
     },
     "metadata": {},
     "output_type": "display_data"
    },
    {
     "name": "stdout",
     "output_type": "stream",
     "text": [
      "\n"
     ]
    },
    {
     "data": {
      "application/vnd.jupyter.widget-view+json": {
       "model_id": "85eb3977456b4c3ca28fd714f4d37fee",
       "version_major": 2,
       "version_minor": 0
      },
      "text/plain": [
       "HBox(children=(IntProgress(value=0, description='Epoch 88/100', max=1, style=ProgressStyle(description_width='…"
      ]
     },
     "metadata": {},
     "output_type": "display_data"
    },
    {
     "name": "stdout",
     "output_type": "stream",
     "text": [
      "\n"
     ]
    },
    {
     "data": {
      "application/vnd.jupyter.widget-view+json": {
       "model_id": "3ea1d88a28fd4b4293b103501c0c243e",
       "version_major": 2,
       "version_minor": 0
      },
      "text/plain": [
       "HBox(children=(IntProgress(value=0, description='Epoch 89/100', max=1, style=ProgressStyle(description_width='…"
      ]
     },
     "metadata": {},
     "output_type": "display_data"
    },
    {
     "name": "stdout",
     "output_type": "stream",
     "text": [
      "\n"
     ]
    },
    {
     "data": {
      "application/vnd.jupyter.widget-view+json": {
       "model_id": "784a509c5ac0480eb1102e5300313345",
       "version_major": 2,
       "version_minor": 0
      },
      "text/plain": [
       "HBox(children=(IntProgress(value=0, description='Epoch 90/100', max=1, style=ProgressStyle(description_width='…"
      ]
     },
     "metadata": {},
     "output_type": "display_data"
    },
    {
     "name": "stdout",
     "output_type": "stream",
     "text": [
      "\n"
     ]
    },
    {
     "data": {
      "application/vnd.jupyter.widget-view+json": {
       "model_id": "09ea148b3ca54d189649449b5e10ca75",
       "version_major": 2,
       "version_minor": 0
      },
      "text/plain": [
       "HBox(children=(IntProgress(value=0, description='Epoch 91/100', max=1, style=ProgressStyle(description_width='…"
      ]
     },
     "metadata": {},
     "output_type": "display_data"
    },
    {
     "name": "stdout",
     "output_type": "stream",
     "text": [
      "\n"
     ]
    },
    {
     "data": {
      "application/vnd.jupyter.widget-view+json": {
       "model_id": "5e04b3e14f084b45b085856f3332e75c",
       "version_major": 2,
       "version_minor": 0
      },
      "text/plain": [
       "HBox(children=(IntProgress(value=0, description='Epoch 92/100', max=1, style=ProgressStyle(description_width='…"
      ]
     },
     "metadata": {},
     "output_type": "display_data"
    },
    {
     "name": "stdout",
     "output_type": "stream",
     "text": [
      "\n"
     ]
    },
    {
     "data": {
      "application/vnd.jupyter.widget-view+json": {
       "model_id": "183c97c09fb8441486919a115a159704",
       "version_major": 2,
       "version_minor": 0
      },
      "text/plain": [
       "HBox(children=(IntProgress(value=0, description='Epoch 93/100', max=1, style=ProgressStyle(description_width='…"
      ]
     },
     "metadata": {},
     "output_type": "display_data"
    },
    {
     "name": "stdout",
     "output_type": "stream",
     "text": [
      "\n"
     ]
    },
    {
     "data": {
      "application/vnd.jupyter.widget-view+json": {
       "model_id": "15ea06f7a7784523ac3a9f19209c3efe",
       "version_major": 2,
       "version_minor": 0
      },
      "text/plain": [
       "HBox(children=(IntProgress(value=0, description='Epoch 94/100', max=1, style=ProgressStyle(description_width='…"
      ]
     },
     "metadata": {},
     "output_type": "display_data"
    },
    {
     "name": "stdout",
     "output_type": "stream",
     "text": [
      "\n"
     ]
    },
    {
     "data": {
      "application/vnd.jupyter.widget-view+json": {
       "model_id": "78ecd73aa37b469c9085467dbfd79e00",
       "version_major": 2,
       "version_minor": 0
      },
      "text/plain": [
       "HBox(children=(IntProgress(value=0, description='Epoch 95/100', max=1, style=ProgressStyle(description_width='…"
      ]
     },
     "metadata": {},
     "output_type": "display_data"
    },
    {
     "name": "stdout",
     "output_type": "stream",
     "text": [
      "\n"
     ]
    },
    {
     "data": {
      "application/vnd.jupyter.widget-view+json": {
       "model_id": "b5847ff86c41449a8f0aa86284db3797",
       "version_major": 2,
       "version_minor": 0
      },
      "text/plain": [
       "HBox(children=(IntProgress(value=0, description='Epoch 96/100', max=1, style=ProgressStyle(description_width='…"
      ]
     },
     "metadata": {},
     "output_type": "display_data"
    },
    {
     "name": "stdout",
     "output_type": "stream",
     "text": [
      "\n"
     ]
    },
    {
     "data": {
      "application/vnd.jupyter.widget-view+json": {
       "model_id": "a6ca7f5ec8fc4362aaa6537ae227a06d",
       "version_major": 2,
       "version_minor": 0
      },
      "text/plain": [
       "HBox(children=(IntProgress(value=0, description='Epoch 97/100', max=1, style=ProgressStyle(description_width='…"
      ]
     },
     "metadata": {},
     "output_type": "display_data"
    },
    {
     "name": "stdout",
     "output_type": "stream",
     "text": [
      "\n"
     ]
    },
    {
     "data": {
      "application/vnd.jupyter.widget-view+json": {
       "model_id": "40b035186c8e4197ada06e642f3ef347",
       "version_major": 2,
       "version_minor": 0
      },
      "text/plain": [
       "HBox(children=(IntProgress(value=0, description='Epoch 98/100', max=1, style=ProgressStyle(description_width='…"
      ]
     },
     "metadata": {},
     "output_type": "display_data"
    },
    {
     "name": "stdout",
     "output_type": "stream",
     "text": [
      "\n"
     ]
    },
    {
     "data": {
      "application/vnd.jupyter.widget-view+json": {
       "model_id": "f16390d0d17c489885ee3bb520b3f860",
       "version_major": 2,
       "version_minor": 0
      },
      "text/plain": [
       "HBox(children=(IntProgress(value=0, description='Epoch 99/100', max=1, style=ProgressStyle(description_width='…"
      ]
     },
     "metadata": {},
     "output_type": "display_data"
    },
    {
     "name": "stdout",
     "output_type": "stream",
     "text": [
      "\n"
     ]
    },
    {
     "data": {
      "application/vnd.jupyter.widget-view+json": {
       "model_id": "e2df12f407514005bba28b0a88070772",
       "version_major": 2,
       "version_minor": 0
      },
      "text/plain": [
       "HBox(children=(IntProgress(value=0, description='Epoch 100/100', max=1, style=ProgressStyle(description_width=…"
      ]
     },
     "metadata": {},
     "output_type": "display_data"
    },
    {
     "name": "stdout",
     "output_type": "stream",
     "text": [
      "\n"
     ]
    }
   ],
   "source": [
    "train(stacked_model, train_dataset, ds_dev=dev_dataset, n_epochs=100, batch_size=256*2)"
   ]
  },
  {
   "cell_type": "code",
   "execution_count": 15,
   "id": "62de0db6",
   "metadata": {},
   "outputs": [],
   "source": [
    "torch.save(stacked_model.state_dict(), './models/DuEE_fin/stacked/stacked_enum.dict')"
   ]
  },
  {
   "cell_type": "code",
   "execution_count": 16,
   "id": "d718f4bc",
   "metadata": {},
   "outputs": [],
   "source": [
    "torch.cuda.empty_cache()"
   ]
  },
  {
   "cell_type": "code",
   "execution_count": null,
   "id": "19c67f9e",
   "metadata": {},
   "outputs": [],
   "source": []
  }
 ],
 "metadata": {
  "kernelspec": {
   "display_name": "Python 3",
   "language": "python",
   "name": "python3"
  },
  "language_info": {
   "codemirror_mode": {
    "name": "ipython",
    "version": 3
   },
   "file_extension": ".py",
   "mimetype": "text/x-python",
   "name": "python",
   "nbconvert_exporter": "python",
   "pygments_lexer": "ipython3",
   "version": "3.7.4"
  },
  "widgets": {
   "application/vnd.jupyter.widget-state+json": {
    "state": {
     "0231a0ef39f74a6396289472541fcfae": {
      "model_module": "@jupyter-widgets/base",
      "model_module_version": "1.2.0",
      "model_name": "LayoutModel",
      "state": {}
     },
     "0348200e8c37408282ead924e847f98c": {
      "model_module": "@jupyter-widgets/controls",
      "model_module_version": "1.5.0",
      "model_name": "ProgressStyleModel",
      "state": {
       "description_width": "initial"
      }
     },
     "03685e49540e452e8df327cce6c92679": {
      "model_module": "@jupyter-widgets/base",
      "model_module_version": "1.2.0",
      "model_name": "LayoutModel",
      "state": {}
     },
     "03d279446db54b1eb28c4b3f9c3dca06": {
      "model_module": "@jupyter-widgets/controls",
      "model_module_version": "1.5.0",
      "model_name": "IntProgressModel",
      "state": {
       "bar_style": "success",
       "description": "Epoch 8/20: 100%",
       "layout": "IPY_MODEL_a679ce832077427998804cca2beeaa5f",
       "max": 13,
       "style": "IPY_MODEL_fbf08176928d4da39caae6df99c06266",
       "value": 13
      }
     },
     "060d50c4ed70482db710e5abb78e52c3": {
      "model_module": "@jupyter-widgets/controls",
      "model_module_version": "1.5.0",
      "model_name": "ProgressStyleModel",
      "state": {
       "description_width": "initial"
      }
     },
     "08a850b74b5e405898626db634c59b53": {
      "model_module": "@jupyter-widgets/controls",
      "model_module_version": "1.5.0",
      "model_name": "IntProgressModel",
      "state": {
       "bar_style": "success",
       "description": "Epoch 16/20: 100%",
       "layout": "IPY_MODEL_79d5c6d43e704c64885ba0c93c745c60",
       "max": 13,
       "style": "IPY_MODEL_060d50c4ed70482db710e5abb78e52c3",
       "value": 13
      }
     },
     "08d9e29e05ea47cc9636c7eb24ff8535": {
      "model_module": "@jupyter-widgets/controls",
      "model_module_version": "1.5.0",
      "model_name": "IntProgressModel",
      "state": {
       "bar_style": "success",
       "description": "Epoch 3/20: 100%",
       "layout": "IPY_MODEL_f61a10e0bf8240fd958931b2e1465751",
       "max": 13,
       "style": "IPY_MODEL_6896ed51b67846a3baf2a7fcf226fd17",
       "value": 13
      }
     },
     "09d7de875660431d9032182f7da3c39e": {
      "model_module": "@jupyter-widgets/controls",
      "model_module_version": "1.5.0",
      "model_name": "DescriptionStyleModel",
      "state": {
       "description_width": ""
      }
     },
     "0a2aab587bdd4145b3043cf80a752dcf": {
      "model_module": "@jupyter-widgets/controls",
      "model_module_version": "1.5.0",
      "model_name": "HBoxModel",
      "state": {
       "children": [
        "IPY_MODEL_e74fa3ce728f42da920129a8314c6943",
        "IPY_MODEL_ab059c0ef00841bb918cd7139a4f6f78"
       ],
       "layout": "IPY_MODEL_1cd7ab54e7da4d66b5a47d6ed2bf4f13"
      }
     },
     "0b031e99bed74baeaef83863c564cc67": {
      "model_module": "@jupyter-widgets/base",
      "model_module_version": "1.2.0",
      "model_name": "LayoutModel",
      "state": {}
     },
     "0b37ba4fc6c6489eb29d36b965747115": {
      "model_module": "@jupyter-widgets/controls",
      "model_module_version": "1.5.0",
      "model_name": "HTMLModel",
      "state": {
       "layout": "IPY_MODEL_a584727238c14733833d33b4dc32dfc3",
       "style": "IPY_MODEL_72fa7ab01b9e4a5ab9b2592ac9efe564",
       "value": " 13/13 [01:09&lt;00:00,  5.38s/it, Avg loss=0.28, Avg acc score=0.90, Avg f1 score=0.80, Avg eval loss=0.53, Avg eval acc=0.84, Avg eval f1=0.61]"
      }
     },
     "0d28e0aad5d54877bd4456f04dfed602": {
      "model_module": "@jupyter-widgets/base",
      "model_module_version": "1.2.0",
      "model_name": "LayoutModel",
      "state": {}
     },
     "0ec557dc0ffc493ebfa8d1faebf29cf3": {
      "model_module": "@jupyter-widgets/controls",
      "model_module_version": "1.5.0",
      "model_name": "ProgressStyleModel",
      "state": {
       "description_width": "initial"
      }
     },
     "113e5661e1944bde8dee2508c4923c68": {
      "model_module": "@jupyter-widgets/controls",
      "model_module_version": "1.5.0",
      "model_name": "ProgressStyleModel",
      "state": {
       "description_width": "initial"
      }
     },
     "1241f1bc23dc436898ece0e511951d31": {
      "model_module": "@jupyter-widgets/controls",
      "model_module_version": "1.5.0",
      "model_name": "HTMLModel",
      "state": {
       "layout": "IPY_MODEL_c748c8fcf12f48e78902d4fd3a2f6926",
       "style": "IPY_MODEL_1709aee3c60d4b65ac6710926dd78df2",
       "value": " 13/13 [01:10&lt;00:00,  5.39s/it, Avg loss=0.31, Avg acc score=0.88, Avg f1 score=0.88, Avg eval loss=0.42, Avg eval acc=0.85, Avg eval f1=0.85]"
      }
     },
     "133f821ef1b54a53bdcbca0bc28cdf35": {
      "model_module": "@jupyter-widgets/controls",
      "model_module_version": "1.5.0",
      "model_name": "ProgressStyleModel",
      "state": {
       "description_width": "initial"
      }
     },
     "13e3e34cb47947ffbbf515a9d5f3839a": {
      "model_module": "@jupyter-widgets/base",
      "model_module_version": "1.2.0",
      "model_name": "LayoutModel",
      "state": {}
     },
     "15f0d2db257249988e5d271742df6df9": {
      "model_module": "@jupyter-widgets/controls",
      "model_module_version": "1.5.0",
      "model_name": "DescriptionStyleModel",
      "state": {
       "description_width": ""
      }
     },
     "1629c2f2f8c442f38f998dfe63591336": {
      "model_module": "@jupyter-widgets/controls",
      "model_module_version": "1.5.0",
      "model_name": "HTMLModel",
      "state": {
       "layout": "IPY_MODEL_0231a0ef39f74a6396289472541fcfae",
       "style": "IPY_MODEL_538cb71475e046f5abc480fb05ee91d0",
       "value": " 13/13 [00:28&lt;00:00,  2.16s/it, Avg loss=0.40, Avg acc score=0.84, Avg f1 score=0.70, Avg eval loss=0.50, Avg eval acc=0.84, Avg eval f1=0.61]"
      }
     },
     "1709aee3c60d4b65ac6710926dd78df2": {
      "model_module": "@jupyter-widgets/controls",
      "model_module_version": "1.5.0",
      "model_name": "DescriptionStyleModel",
      "state": {
       "description_width": ""
      }
     },
     "184cce022b4449ce98c842c36b7d755a": {
      "model_module": "@jupyter-widgets/controls",
      "model_module_version": "1.5.0",
      "model_name": "HTMLModel",
      "state": {
       "layout": "IPY_MODEL_7f490ea4ce244e3688885c73e2c1541d",
       "style": "IPY_MODEL_cf8aa33fba4e4a49abd4a6b9cf6dc039",
       "value": " 13/13 [01:37&lt;00:00,  7.52s/it, Avg loss=0.33, Avg acc score=0.87, Avg f1 score=0.76, Avg eval loss=0.53, Avg eval acc=0.84, Avg eval f1=0.61]"
      }
     },
     "1892b4a7000444398663302372ee014f": {
      "model_module": "@jupyter-widgets/controls",
      "model_module_version": "1.5.0",
      "model_name": "ProgressStyleModel",
      "state": {
       "description_width": "initial"
      }
     },
     "1990ef15e28a4499a54911f066a5bde7": {
      "model_module": "@jupyter-widgets/base",
      "model_module_version": "1.2.0",
      "model_name": "LayoutModel",
      "state": {}
     },
     "19a466e35b324089adad6a9f7667d7a8": {
      "model_module": "@jupyter-widgets/controls",
      "model_module_version": "1.5.0",
      "model_name": "ProgressStyleModel",
      "state": {
       "description_width": "initial"
      }
     },
     "19c7556bbef8460b9811dcfbf5eb0d37": {
      "model_module": "@jupyter-widgets/controls",
      "model_module_version": "1.5.0",
      "model_name": "IntProgressModel",
      "state": {
       "bar_style": "success",
       "description": "Epoch 1/20: 100%",
       "layout": "IPY_MODEL_7d8355021f4745a49a82cb3531f8104f",
       "max": 13,
       "style": "IPY_MODEL_1892b4a7000444398663302372ee014f",
       "value": 13
      }
     },
     "1a4fefee96254ad19e60e3b6557c6785": {
      "model_module": "@jupyter-widgets/base",
      "model_module_version": "1.2.0",
      "model_name": "LayoutModel",
      "state": {}
     },
     "1aa6a8e757194747856ac51564986b5a": {
      "model_module": "@jupyter-widgets/base",
      "model_module_version": "1.2.0",
      "model_name": "LayoutModel",
      "state": {}
     },
     "1c6f3c337238424195b4c963267847f3": {
      "model_module": "@jupyter-widgets/base",
      "model_module_version": "1.2.0",
      "model_name": "LayoutModel",
      "state": {}
     },
     "1c8b84a33e914ecdadad814b8716fba8": {
      "model_module": "@jupyter-widgets/controls",
      "model_module_version": "1.5.0",
      "model_name": "HBoxModel",
      "state": {
       "children": [
        "IPY_MODEL_563cff0b9ceb408687c2e99febfaf12a",
        "IPY_MODEL_97d3aff6518b44daac0e446e4f07477a"
       ],
       "layout": "IPY_MODEL_3a09da4ac44c439eb1f5da11e9712f81"
      }
     },
     "1cbf443b8b0e40e5b291f994b2c2d7cd": {
      "model_module": "@jupyter-widgets/base",
      "model_module_version": "1.2.0",
      "model_name": "LayoutModel",
      "state": {}
     },
     "1cd7ab54e7da4d66b5a47d6ed2bf4f13": {
      "model_module": "@jupyter-widgets/base",
      "model_module_version": "1.2.0",
      "model_name": "LayoutModel",
      "state": {}
     },
     "1f762f27cfef44a8bb644dd823b5a5d2": {
      "model_module": "@jupyter-widgets/controls",
      "model_module_version": "1.5.0",
      "model_name": "HBoxModel",
      "state": {
       "children": [
        "IPY_MODEL_5742114bf71c459896aa850a39f2b4a2",
        "IPY_MODEL_8f15d669a36142ac81285b58b89052d1"
       ],
       "layout": "IPY_MODEL_b55da0aedc0a4dfb9479d498e4109c2a"
      }
     },
     "204c0373f44840c695f3a6c6f79612db": {
      "model_module": "@jupyter-widgets/controls",
      "model_module_version": "1.5.0",
      "model_name": "HTMLModel",
      "state": {
       "layout": "IPY_MODEL_83a3dfcd7f3549ceae3a66b15d1f0658",
       "style": "IPY_MODEL_5d93adf65c6549f8be1c58a87fd600cc",
       "value": " 13/13 [00:14&lt;00:00,  1.08s/it, Avg loss=0.18, Avg acc score=0.93, Avg f1 score=0.87, Avg eval loss=0.53, Avg eval acc=0.86, Avg eval f1=0.63]"
      }
     },
     "20b4f76f42d34d4699140ecf8e669d0b": {
      "model_module": "@jupyter-widgets/base",
      "model_module_version": "1.2.0",
      "model_name": "LayoutModel",
      "state": {}
     },
     "22ba7bf51ed046398ce815b8166c36d4": {
      "model_module": "@jupyter-widgets/base",
      "model_module_version": "1.2.0",
      "model_name": "LayoutModel",
      "state": {}
     },
     "2302de7f035b4a75ac9fe9cddad42138": {
      "model_module": "@jupyter-widgets/controls",
      "model_module_version": "1.5.0",
      "model_name": "IntProgressModel",
      "state": {
       "bar_style": "success",
       "description": "Epoch 19/20: 100%",
       "layout": "IPY_MODEL_bec29b20aec44023a0bf5609ebc240e5",
       "max": 13,
       "style": "IPY_MODEL_0348200e8c37408282ead924e847f98c",
       "value": 13
      }
     },
     "23d09c5bd022459ba42ee79022d875d2": {
      "model_module": "@jupyter-widgets/controls",
      "model_module_version": "1.5.0",
      "model_name": "ProgressStyleModel",
      "state": {
       "description_width": "initial"
      }
     },
     "2414e5dd4d6046afba51593d27032a42": {
      "model_module": "@jupyter-widgets/base",
      "model_module_version": "1.2.0",
      "model_name": "LayoutModel",
      "state": {}
     },
     "25156d75edb44fc8ad3931643b4f0aa1": {
      "model_module": "@jupyter-widgets/base",
      "model_module_version": "1.2.0",
      "model_name": "LayoutModel",
      "state": {}
     },
     "261e9725fbfd416492750da102b7b1ea": {
      "model_module": "@jupyter-widgets/base",
      "model_module_version": "1.2.0",
      "model_name": "LayoutModel",
      "state": {}
     },
     "26d65a583fb643fc8bcfa6dee9047a94": {
      "model_module": "@jupyter-widgets/controls",
      "model_module_version": "1.5.0",
      "model_name": "HTMLModel",
      "state": {
       "layout": "IPY_MODEL_8a83ed0cbeba425e8ef27c4b43b250b6",
       "style": "IPY_MODEL_b6caea97d48a47d1be00575b3639d214",
       "value": " 13/13 [00:21&lt;00:00,  1.62s/it, Avg loss=0.26, Avg acc score=0.90, Avg f1 score=0.81, Avg eval loss=0.53, Avg eval acc=0.84, Avg eval f1=0.61]"
      }
     },
     "26f72c050b4441d98b6ea22bf6bc9e2a": {
      "model_module": "@jupyter-widgets/controls",
      "model_module_version": "1.5.0",
      "model_name": "IntProgressModel",
      "state": {
       "bar_style": "success",
       "description": "Epoch 15/20: 100%",
       "layout": "IPY_MODEL_aa3af82834774d019c209169af03d136",
       "max": 13,
       "style": "IPY_MODEL_f8ea56bfc0044de9b29efccdd3243cd3",
       "value": 13
      }
     },
     "276d4991e8634d9b984a1dfb6676924d": {
      "model_module": "@jupyter-widgets/controls",
      "model_module_version": "1.5.0",
      "model_name": "IntProgressModel",
      "state": {
       "bar_style": "success",
       "description": "Epoch 8/20: 100%",
       "layout": "IPY_MODEL_e51ec159aaf54548a9af086e39a82325",
       "max": 13,
       "style": "IPY_MODEL_113e5661e1944bde8dee2508c4923c68",
       "value": 13
      }
     },
     "2799970ec9384cc9962c0474b5d563f8": {
      "model_module": "@jupyter-widgets/controls",
      "model_module_version": "1.5.0",
      "model_name": "HTMLModel",
      "state": {
       "layout": "IPY_MODEL_2d94a084262e4f87a804b44f15116829",
       "style": "IPY_MODEL_301c1568b2624c10bc80d4013a914e1d",
       "value": " 13/13 [00:19&lt;00:00,  1.48s/it, Avg loss=0.74, Avg acc score=0.69, Avg f1 score=0.69, Avg eval loss=0.50, Avg eval acc=0.80, Avg eval f1=0.80]"
      }
     },
     "2872f9a40b2c4c649cf2b23c185f128f": {
      "model_module": "@jupyter-widgets/controls",
      "model_module_version": "1.5.0",
      "model_name": "ProgressStyleModel",
      "state": {
       "description_width": "initial"
      }
     },
     "28abbb0f961e44bfae6f8cd368f70f5d": {
      "model_module": "@jupyter-widgets/base",
      "model_module_version": "1.2.0",
      "model_name": "LayoutModel",
      "state": {}
     },
     "294cbeec21084b46990a7762ccda00ce": {
      "model_module": "@jupyter-widgets/base",
      "model_module_version": "1.2.0",
      "model_name": "LayoutModel",
      "state": {}
     },
     "2a970562aa594458ae40335d285377ed": {
      "model_module": "@jupyter-widgets/base",
      "model_module_version": "1.2.0",
      "model_name": "LayoutModel",
      "state": {}
     },
     "2b54a43e3dec4d4c8ae34c62862476b2": {
      "model_module": "@jupyter-widgets/base",
      "model_module_version": "1.2.0",
      "model_name": "LayoutModel",
      "state": {}
     },
     "2cf4e5093f4e4912bfc0963f22799dae": {
      "model_module": "@jupyter-widgets/controls",
      "model_module_version": "1.5.0",
      "model_name": "IntProgressModel",
      "state": {
       "bar_style": "success",
       "description": "Epoch 20/20: 100%",
       "layout": "IPY_MODEL_b025d63ab75e4efcb0ca5ecccff688a1",
       "max": 13,
       "style": "IPY_MODEL_9874b95106c04d649885178adf561646",
       "value": 13
      }
     },
     "2cfb5ce6612442fb971f33bc8b74b2c8": {
      "model_module": "@jupyter-widgets/controls",
      "model_module_version": "1.5.0",
      "model_name": "DescriptionStyleModel",
      "state": {
       "description_width": ""
      }
     },
     "2d8a5062b3f34721993552fe0d6a1c69": {
      "model_module": "@jupyter-widgets/base",
      "model_module_version": "1.2.0",
      "model_name": "LayoutModel",
      "state": {}
     },
     "2d94a084262e4f87a804b44f15116829": {
      "model_module": "@jupyter-widgets/base",
      "model_module_version": "1.2.0",
      "model_name": "LayoutModel",
      "state": {}
     },
     "2e7d9101e5f84096a0cfcf1408a1eae7": {
      "model_module": "@jupyter-widgets/controls",
      "model_module_version": "1.5.0",
      "model_name": "IntProgressModel",
      "state": {
       "bar_style": "success",
       "description": "Epoch 9/20: 100%",
       "layout": "IPY_MODEL_1c6f3c337238424195b4c963267847f3",
       "max": 13,
       "style": "IPY_MODEL_7ef83cd4c65c4f9e89b1efc90294897a",
       "value": 13
      }
     },
     "2f6e5468d8864b5496b781018323d930": {
      "model_module": "@jupyter-widgets/controls",
      "model_module_version": "1.5.0",
      "model_name": "HBoxModel",
      "state": {
       "children": [
        "IPY_MODEL_cb81ee50b4b54b2788c139138efe1e51",
        "IPY_MODEL_ccc1f579fddf492b9cdd7a7f05cd64f1"
       ],
       "layout": "IPY_MODEL_cc26345a25dc4ddba3ebfe2469d0ae5b"
      }
     },
     "301c1568b2624c10bc80d4013a914e1d": {
      "model_module": "@jupyter-widgets/controls",
      "model_module_version": "1.5.0",
      "model_name": "DescriptionStyleModel",
      "state": {
       "description_width": ""
      }
     },
     "30283f4a1ac94c858e792d3c1f04edeb": {
      "model_module": "@jupyter-widgets/controls",
      "model_module_version": "1.5.0",
      "model_name": "HBoxModel",
      "state": {
       "children": [
        "IPY_MODEL_d9c0e82112d44f1782e9fd41ae233f6a",
        "IPY_MODEL_6c251c819de74a91aedeb8f327114a33"
       ],
       "layout": "IPY_MODEL_22ba7bf51ed046398ce815b8166c36d4"
      }
     },
     "3124442a5eca4085900b859d9be07d59": {
      "model_module": "@jupyter-widgets/base",
      "model_module_version": "1.2.0",
      "model_name": "LayoutModel",
      "state": {}
     },
     "329245012dff4379a1c18f634cc40d0e": {
      "model_module": "@jupyter-widgets/base",
      "model_module_version": "1.2.0",
      "model_name": "LayoutModel",
      "state": {}
     },
     "355ba3171a9f4d99b9686efd710e9f0f": {
      "model_module": "@jupyter-widgets/controls",
      "model_module_version": "1.5.0",
      "model_name": "HBoxModel",
      "state": {
       "children": [
        "IPY_MODEL_59acdd62d36a4476abf2052c85f65c79",
        "IPY_MODEL_ab6796a339974ab6b433b54da0466955"
       ],
       "layout": "IPY_MODEL_f409d908d1ad40549a41cf0aa52c63a2"
      }
     },
     "372b1402428d4efd9146c48a94d8f909": {
      "model_module": "@jupyter-widgets/controls",
      "model_module_version": "1.5.0",
      "model_name": "ProgressStyleModel",
      "state": {
       "description_width": "initial"
      }
     },
     "373235c11567476aa45631a5ac27b7d0": {
      "model_module": "@jupyter-widgets/controls",
      "model_module_version": "1.5.0",
      "model_name": "ProgressStyleModel",
      "state": {
       "description_width": "initial"
      }
     },
     "3919fa2d64de48aebe227a0e8b5c7d94": {
      "model_module": "@jupyter-widgets/controls",
      "model_module_version": "1.5.0",
      "model_name": "HBoxModel",
      "state": {
       "children": [
        "IPY_MODEL_08d9e29e05ea47cc9636c7eb24ff8535",
        "IPY_MODEL_e7c62b862a1d49eb8f78b9ed8f4c4e70"
       ],
       "layout": "IPY_MODEL_7a35a480c2e64100bfcd30b62bd1334a"
      }
     },
     "393dd9ca2b774b68bd85803dad2cde39": {
      "model_module": "@jupyter-widgets/controls",
      "model_module_version": "1.5.0",
      "model_name": "HTMLModel",
      "state": {
       "layout": "IPY_MODEL_6581977a0e9d4fbbad925be159cea3df",
       "style": "IPY_MODEL_5c14596d8db841e99701613f506910e1",
       "value": " 13/13 [01:51&lt;00:00,  8.59s/it, Avg loss=0.36, Avg acc score=0.86, Avg f1 score=0.73, Avg eval loss=0.53, Avg eval acc=0.84, Avg eval f1=0.61]"
      }
     },
     "3a085ecaf3ee4d75a622bec554dc7114": {
      "model_module": "@jupyter-widgets/controls",
      "model_module_version": "1.5.0",
      "model_name": "IntProgressModel",
      "state": {
       "bar_style": "success",
       "description": "Epoch 10/20: 100%",
       "layout": "IPY_MODEL_ca6bdf93bd5a45b08bc02a2ddd3958ad",
       "max": 13,
       "style": "IPY_MODEL_d02344646f2a43c8aaaa6cbbd7779df7",
       "value": 13
      }
     },
     "3a09da4ac44c439eb1f5da11e9712f81": {
      "model_module": "@jupyter-widgets/base",
      "model_module_version": "1.2.0",
      "model_name": "LayoutModel",
      "state": {}
     },
     "3ac349914bae4bcb9d8ca608496c3b03": {
      "model_module": "@jupyter-widgets/controls",
      "model_module_version": "1.5.0",
      "model_name": "ProgressStyleModel",
      "state": {
       "description_width": "initial"
      }
     },
     "3c0bae93b6634117b6a289fa0e563ff0": {
      "model_module": "@jupyter-widgets/base",
      "model_module_version": "1.2.0",
      "model_name": "LayoutModel",
      "state": {}
     },
     "3c6d30b987594032b6805b55dab0506e": {
      "model_module": "@jupyter-widgets/controls",
      "model_module_version": "1.5.0",
      "model_name": "HBoxModel",
      "state": {
       "children": [
        "IPY_MODEL_cecd2453c0b54295a474d7878667d7b6",
        "IPY_MODEL_b386dd68c27b4c5894aa239c76adfc75"
       ],
       "layout": "IPY_MODEL_ca1ff77ef69546f89fa8c22a0f4c18d5"
      }
     },
     "3d15e7fad408400a9cc2523cd94d02a0": {
      "model_module": "@jupyter-widgets/controls",
      "model_module_version": "1.5.0",
      "model_name": "IntProgressModel",
      "state": {
       "bar_style": "success",
       "description": "Epoch 16/20: 100%",
       "layout": "IPY_MODEL_70d048a6120a4b87983f1eef41b8623e",
       "max": 13,
       "style": "IPY_MODEL_9840b6d9ebda45938b2c653abdf41631",
       "value": 13
      }
     },
     "3d179be24b3b4a099c7d4d1f57d36e4d": {
      "model_module": "@jupyter-widgets/controls",
      "model_module_version": "1.5.0",
      "model_name": "ProgressStyleModel",
      "state": {
       "description_width": "initial"
      }
     },
     "3ef863ba72c443d5a82f0821b5edba64": {
      "model_module": "@jupyter-widgets/base",
      "model_module_version": "1.2.0",
      "model_name": "LayoutModel",
      "state": {}
     },
     "3fc35dcacbab48d887e6d4801296c0ca": {
      "model_module": "@jupyter-widgets/controls",
      "model_module_version": "1.5.0",
      "model_name": "HBoxModel",
      "state": {
       "children": [
        "IPY_MODEL_276d4991e8634d9b984a1dfb6676924d",
        "IPY_MODEL_1629c2f2f8c442f38f998dfe63591336"
       ],
       "layout": "IPY_MODEL_6c6619eb59c54184baea8c0cd44d0dad"
      }
     },
     "406dbe355f9d4752ad0e198cd700ce50": {
      "model_module": "@jupyter-widgets/base",
      "model_module_version": "1.2.0",
      "model_name": "LayoutModel",
      "state": {}
     },
     "416fdeec2f8d4833afcf43f6e2fff315": {
      "model_module": "@jupyter-widgets/controls",
      "model_module_version": "1.5.0",
      "model_name": "IntProgressModel",
      "state": {
       "bar_style": "success",
       "description": "Epoch 5/20: 100%",
       "layout": "IPY_MODEL_be5a31c54dd34eb999736adc1b0782d0",
       "max": 13,
       "style": "IPY_MODEL_d3078e0e1e4c40638eb9749a851c8f51",
       "value": 13
      }
     },
     "43970b31e5224e44802e908038cba736": {
      "model_module": "@jupyter-widgets/base",
      "model_module_version": "1.2.0",
      "model_name": "LayoutModel",
      "state": {}
     },
     "43baf1ebb5fe47d98a6b17ce0146e4c0": {
      "model_module": "@jupyter-widgets/controls",
      "model_module_version": "1.5.0",
      "model_name": "DescriptionStyleModel",
      "state": {
       "description_width": ""
      }
     },
     "441246b440cc4e30a81028b4bab09bc4": {
      "model_module": "@jupyter-widgets/base",
      "model_module_version": "1.2.0",
      "model_name": "LayoutModel",
      "state": {}
     },
     "44a394bc4e8249df8d0616f6c1dbc000": {
      "model_module": "@jupyter-widgets/base",
      "model_module_version": "1.2.0",
      "model_name": "LayoutModel",
      "state": {}
     },
     "44b10b4991fa4a2694ba6b756cd4fc98": {
      "model_module": "@jupyter-widgets/controls",
      "model_module_version": "1.5.0",
      "model_name": "IntProgressModel",
      "state": {
       "bar_style": "success",
       "description": "Epoch 14/20: 100%",
       "layout": "IPY_MODEL_1cbf443b8b0e40e5b291f994b2c2d7cd",
       "max": 13,
       "style": "IPY_MODEL_23d09c5bd022459ba42ee79022d875d2",
       "value": 13
      }
     },
     "45d46250435e466ca67562c7223e02b4": {
      "model_module": "@jupyter-widgets/controls",
      "model_module_version": "1.5.0",
      "model_name": "HBoxModel",
      "state": {
       "children": [
        "IPY_MODEL_d0d51761bbe942209f9821ce3da98141",
        "IPY_MODEL_688e5fbaba8b48cca00a632c849d47cf"
       ],
       "layout": "IPY_MODEL_1aa6a8e757194747856ac51564986b5a"
      }
     },
     "4778c9ccf90146f796235d570c804166": {
      "model_module": "@jupyter-widgets/controls",
      "model_module_version": "1.5.0",
      "model_name": "DescriptionStyleModel",
      "state": {
       "description_width": ""
      }
     },
     "47c23bdfc7e04564990172ae3125d683": {
      "model_module": "@jupyter-widgets/base",
      "model_module_version": "1.2.0",
      "model_name": "LayoutModel",
      "state": {}
     },
     "489f44bb4f134254bcbff8958bfd8370": {
      "model_module": "@jupyter-widgets/base",
      "model_module_version": "1.2.0",
      "model_name": "LayoutModel",
      "state": {}
     },
     "4b2a2d40ec094b06b25f3a5e111cee21": {
      "model_module": "@jupyter-widgets/controls",
      "model_module_version": "1.5.0",
      "model_name": "IntProgressModel",
      "state": {
       "bar_style": "success",
       "description": "Epoch 13/20: 100%",
       "layout": "IPY_MODEL_599d079d13784eb58c5637fe7b710553",
       "max": 13,
       "style": "IPY_MODEL_c9f38e02b87246e0936ac6e5d0909d52",
       "value": 13
      }
     },
     "4b5b6119859b4e4f9cd0acf4bf8b8405": {
      "model_module": "@jupyter-widgets/base",
      "model_module_version": "1.2.0",
      "model_name": "LayoutModel",
      "state": {}
     },
     "4c6aa35a3e4f4e89bd756b4c5cb0e153": {
      "model_module": "@jupyter-widgets/controls",
      "model_module_version": "1.5.0",
      "model_name": "DescriptionStyleModel",
      "state": {
       "description_width": ""
      }
     },
     "4cc0a5269e4044d3900096d2064b94b0": {
      "model_module": "@jupyter-widgets/controls",
      "model_module_version": "1.5.0",
      "model_name": "HBoxModel",
      "state": {
       "children": [
        "IPY_MODEL_a576daec1aa04f31a232972be203c56e",
        "IPY_MODEL_bebad81aa94a42afaa61219c9a3a9cec"
       ],
       "layout": "IPY_MODEL_d99ea57e9b59444b96a643c6f1721ee7"
      }
     },
     "4cd5df2dfe444128b0b1d19658204d54": {
      "model_module": "@jupyter-widgets/controls",
      "model_module_version": "1.5.0",
      "model_name": "DescriptionStyleModel",
      "state": {
       "description_width": ""
      }
     },
     "4d7efbd9f50340b485b61d3f3d417f16": {
      "model_module": "@jupyter-widgets/controls",
      "model_module_version": "1.5.0",
      "model_name": "ProgressStyleModel",
      "state": {
       "description_width": "initial"
      }
     },
     "4e824c7225fe41f2a952be9738be8dbf": {
      "model_module": "@jupyter-widgets/controls",
      "model_module_version": "1.5.0",
      "model_name": "ProgressStyleModel",
      "state": {
       "description_width": "initial"
      }
     },
     "50d19bd380ae44739fabc406eb20e645": {
      "model_module": "@jupyter-widgets/controls",
      "model_module_version": "1.5.0",
      "model_name": "HTMLModel",
      "state": {
       "layout": "IPY_MODEL_28abbb0f961e44bfae6f8cd368f70f5d",
       "style": "IPY_MODEL_97cf112c2deb4fc491e36da3aeb899ff",
       "value": " 13/13 [00:14&lt;00:00,  1.08s/it, Avg loss=0.95, Avg acc score=0.58, Avg f1 score=0.30, Avg eval loss=0.78, Avg eval acc=0.71, Avg eval f1=0.37]"
      }
     },
     "5172abffa3254ecf85636f98b8665572": {
      "model_module": "@jupyter-widgets/controls",
      "model_module_version": "1.5.0",
      "model_name": "HTMLModel",
      "state": {
       "layout": "IPY_MODEL_68ebb980db004d1ab0a7142dd5ea778f",
       "style": "IPY_MODEL_83d809e876f24fc6aed37ee2321faf3f",
       "value": " 13/13 [02:47&lt;00:00, 12.89s/it, Avg loss=0.60, Avg acc score=0.76, Avg f1 score=0.53, Avg eval loss=0.53, Avg eval acc=0.84, Avg eval f1=0.62]"
      }
     },
     "52a5af7252e04b4fba5f21043ab6cd0e": {
      "model_module": "@jupyter-widgets/controls",
      "model_module_version": "1.5.0",
      "model_name": "IntProgressModel",
      "state": {
       "bar_style": "success",
       "description": "Epoch 7/20: 100%",
       "layout": "IPY_MODEL_3124442a5eca4085900b859d9be07d59",
       "max": 13,
       "style": "IPY_MODEL_4e824c7225fe41f2a952be9738be8dbf",
       "value": 13
      }
     },
     "538cb71475e046f5abc480fb05ee91d0": {
      "model_module": "@jupyter-widgets/controls",
      "model_module_version": "1.5.0",
      "model_name": "DescriptionStyleModel",
      "state": {
       "description_width": ""
      }
     },
     "53f54f0f8d664803b84ae2395dff4691": {
      "model_module": "@jupyter-widgets/controls",
      "model_module_version": "1.5.0",
      "model_name": "DescriptionStyleModel",
      "state": {
       "description_width": ""
      }
     },
     "543338953f2d4466b36a0f2646453f1e": {
      "model_module": "@jupyter-widgets/controls",
      "model_module_version": "1.5.0",
      "model_name": "ProgressStyleModel",
      "state": {
       "description_width": "initial"
      }
     },
     "555847b64e8749488c1018f6bf3f778b": {
      "model_module": "@jupyter-widgets/base",
      "model_module_version": "1.2.0",
      "model_name": "LayoutModel",
      "state": {}
     },
     "5564ad0fe34244e3a5722c5bbbda82ac": {
      "model_module": "@jupyter-widgets/controls",
      "model_module_version": "1.5.0",
      "model_name": "HBoxModel",
      "state": {
       "children": [
        "IPY_MODEL_8083cd2ed1834dffbc04db9113a73639",
        "IPY_MODEL_50d19bd380ae44739fabc406eb20e645"
       ],
       "layout": "IPY_MODEL_b5bc6157d145434bbd2347e2cadc9b13"
      }
     },
     "55b48936d3d14f7a98eb0d0d45b83474": {
      "model_module": "@jupyter-widgets/base",
      "model_module_version": "1.2.0",
      "model_name": "LayoutModel",
      "state": {}
     },
     "55cd2bdee0034c4ab9140a052e235096": {
      "model_module": "@jupyter-widgets/base",
      "model_module_version": "1.2.0",
      "model_name": "LayoutModel",
      "state": {}
     },
     "560a0276f2c943e7a951125f6ba6fbc3": {
      "model_module": "@jupyter-widgets/controls",
      "model_module_version": "1.5.0",
      "model_name": "DescriptionStyleModel",
      "state": {
       "description_width": ""
      }
     },
     "563cff0b9ceb408687c2e99febfaf12a": {
      "model_module": "@jupyter-widgets/controls",
      "model_module_version": "1.5.0",
      "model_name": "IntProgressModel",
      "state": {
       "bar_style": "success",
       "description": "Epoch 10/20: 100%",
       "layout": "IPY_MODEL_9a5f6847a26d438580e6d43280cab67c",
       "max": 13,
       "style": "IPY_MODEL_4d7efbd9f50340b485b61d3f3d417f16",
       "value": 13
      }
     },
     "573ba5df97de4607a5efb367b6364e41": {
      "model_module": "@jupyter-widgets/controls",
      "model_module_version": "1.5.0",
      "model_name": "HTMLModel",
      "state": {
       "layout": "IPY_MODEL_6c6944f8680048d6a9ac6e33724aaa36",
       "style": "IPY_MODEL_43baf1ebb5fe47d98a6b17ce0146e4c0",
       "value": " 13/13 [12:03&lt;00:00, 55.66s/it, Avg loss=0.25, Avg acc score=0.91, Avg f1 score=0.91, Avg eval loss=0.42, Avg eval acc=0.85, Avg eval f1=0.85]"
      }
     },
     "5742114bf71c459896aa850a39f2b4a2": {
      "model_module": "@jupyter-widgets/controls",
      "model_module_version": "1.5.0",
      "model_name": "IntProgressModel",
      "state": {
       "bar_style": "success",
       "description": "Epoch 6/20: 100%",
       "layout": "IPY_MODEL_ef11b258c3c8418d89e8ebdf03ba898b",
       "max": 13,
       "style": "IPY_MODEL_8ed265d793e54ef0a9c49dbaa4f5c057",
       "value": 13
      }
     },
     "58f18c21afdb4945b941916f49422023": {
      "model_module": "@jupyter-widgets/controls",
      "model_module_version": "1.5.0",
      "model_name": "DescriptionStyleModel",
      "state": {
       "description_width": ""
      }
     },
     "58fc008b163f4b3d96a288690d085366": {
      "model_module": "@jupyter-widgets/base",
      "model_module_version": "1.2.0",
      "model_name": "LayoutModel",
      "state": {}
     },
     "590ad126541244e3b5c97941f9a40b58": {
      "model_module": "@jupyter-widgets/base",
      "model_module_version": "1.2.0",
      "model_name": "LayoutModel",
      "state": {}
     },
     "594d786049fe4ff8a2d398fb8e37aaad": {
      "model_module": "@jupyter-widgets/controls",
      "model_module_version": "1.5.0",
      "model_name": "DescriptionStyleModel",
      "state": {
       "description_width": ""
      }
     },
     "599d079d13784eb58c5637fe7b710553": {
      "model_module": "@jupyter-widgets/base",
      "model_module_version": "1.2.0",
      "model_name": "LayoutModel",
      "state": {}
     },
     "59acdd62d36a4476abf2052c85f65c79": {
      "model_module": "@jupyter-widgets/controls",
      "model_module_version": "1.5.0",
      "model_name": "IntProgressModel",
      "state": {
       "bar_style": "success",
       "description": "Epoch 13/20: 100%",
       "layout": "IPY_MODEL_cf1f0ab8d4d94683b4e836f372b64fb2",
       "max": 13,
       "style": "IPY_MODEL_3d179be24b3b4a099c7d4d1f57d36e4d",
       "value": 13
      }
     },
     "59fd68951e8d40f6b72fb09558dba6ce": {
      "model_module": "@jupyter-widgets/controls",
      "model_module_version": "1.5.0",
      "model_name": "HTMLModel",
      "state": {
       "layout": "IPY_MODEL_2d8a5062b3f34721993552fe0d6a1c69",
       "style": "IPY_MODEL_09d7de875660431d9032182f7da3c39e",
       "value": " 13/13 [00:15&lt;00:00,  1.17s/it, Avg loss=0.99, Avg acc score=0.55, Avg f1 score=0.55, Avg eval loss=0.87, Avg eval acc=0.60, Avg eval f1=0.60]"
      }
     },
     "5af2dd9586e34930a00bee060614c1d8": {
      "model_module": "@jupyter-widgets/controls",
      "model_module_version": "1.5.0",
      "model_name": "DescriptionStyleModel",
      "state": {
       "description_width": ""
      }
     },
     "5c14596d8db841e99701613f506910e1": {
      "model_module": "@jupyter-widgets/controls",
      "model_module_version": "1.5.0",
      "model_name": "DescriptionStyleModel",
      "state": {
       "description_width": ""
      }
     },
     "5d5e3b887b6348cbad19a758631a6a85": {
      "model_module": "@jupyter-widgets/controls",
      "model_module_version": "1.5.0",
      "model_name": "IntProgressModel",
      "state": {
       "bar_style": "success",
       "description": "Epoch 4/20: 100%",
       "layout": "IPY_MODEL_74edbd999843487dae4cfc0483a8fcde",
       "max": 13,
       "style": "IPY_MODEL_543338953f2d4466b36a0f2646453f1e",
       "value": 13
      }
     },
     "5d93adf65c6549f8be1c58a87fd600cc": {
      "model_module": "@jupyter-widgets/controls",
      "model_module_version": "1.5.0",
      "model_name": "DescriptionStyleModel",
      "state": {
       "description_width": ""
      }
     },
     "605c319ea8f04960af74ac1ea6b5bd87": {
      "model_module": "@jupyter-widgets/controls",
      "model_module_version": "1.5.0",
      "model_name": "IntProgressModel",
      "state": {
       "bar_style": "success",
       "description": "Epoch 17/20: 100%",
       "layout": "IPY_MODEL_3ef863ba72c443d5a82f0821b5edba64",
       "max": 13,
       "style": "IPY_MODEL_ed34e721edb747568975ccf59faef5b6",
       "value": 13
      }
     },
     "60612493eae340318e0afccb363c70d1": {
      "model_module": "@jupyter-widgets/controls",
      "model_module_version": "1.5.0",
      "model_name": "DescriptionStyleModel",
      "state": {
       "description_width": ""
      }
     },
     "60643f356768435e92594f645155617e": {
      "model_module": "@jupyter-widgets/base",
      "model_module_version": "1.2.0",
      "model_name": "LayoutModel",
      "state": {}
     },
     "6089e56bcef9492fbf936223ae317a3a": {
      "model_module": "@jupyter-widgets/controls",
      "model_module_version": "1.5.0",
      "model_name": "IntProgressModel",
      "state": {
       "bar_style": "success",
       "description": "Epoch 9/20: 100%",
       "layout": "IPY_MODEL_3c0bae93b6634117b6a289fa0e563ff0",
       "max": 13,
       "style": "IPY_MODEL_19a466e35b324089adad6a9f7667d7a8",
       "value": 13
      }
     },
     "616089f0e4674b5da91622ca45d94884": {
      "model_module": "@jupyter-widgets/controls",
      "model_module_version": "1.5.0",
      "model_name": "DescriptionStyleModel",
      "state": {
       "description_width": ""
      }
     },
     "62c9c8263e534c7e904c60d677648e43": {
      "model_module": "@jupyter-widgets/controls",
      "model_module_version": "1.5.0",
      "model_name": "HBoxModel",
      "state": {
       "children": [
        "IPY_MODEL_19c7556bbef8460b9811dcfbf5eb0d37",
        "IPY_MODEL_dd17accfdca848049df6b5a47a299c2c"
       ],
       "layout": "IPY_MODEL_c33ef940610d46a7928e50f7d98e1eb6"
      }
     },
     "6306825ae29f4078a924d1f2145c9e47": {
      "model_module": "@jupyter-widgets/controls",
      "model_module_version": "1.5.0",
      "model_name": "ProgressStyleModel",
      "state": {
       "description_width": "initial"
      }
     },
     "635065fa131c4c27bf932b77a1f29bc2": {
      "model_module": "@jupyter-widgets/controls",
      "model_module_version": "1.5.0",
      "model_name": "HBoxModel",
      "state": {
       "children": [
        "IPY_MODEL_2302de7f035b4a75ac9fe9cddad42138",
        "IPY_MODEL_204c0373f44840c695f3a6c6f79612db"
       ],
       "layout": "IPY_MODEL_1a4fefee96254ad19e60e3b6557c6785"
      }
     },
     "6581977a0e9d4fbbad925be159cea3df": {
      "model_module": "@jupyter-widgets/base",
      "model_module_version": "1.2.0",
      "model_name": "LayoutModel",
      "state": {}
     },
     "6635ece0b9ff4988aaf96e91f6cb1505": {
      "model_module": "@jupyter-widgets/base",
      "model_module_version": "1.2.0",
      "model_name": "LayoutModel",
      "state": {}
     },
     "66b041fc478a4f97b1c1b5b7f3e302d7": {
      "model_module": "@jupyter-widgets/controls",
      "model_module_version": "1.5.0",
      "model_name": "HTMLModel",
      "state": {
       "layout": "IPY_MODEL_87b5131fbf914042b659a69fc8314293",
       "style": "IPY_MODEL_594d786049fe4ff8a2d398fb8e37aaad",
       "value": " 13/13 [03:44&lt;00:00, 17.28s/it, Avg loss=1.06, Avg acc score=0.49, Avg f1 score=0.49, Avg eval loss=1.02, Avg eval acc=0.56, Avg eval f1=0.56]"
      }
     },
     "67addaa9414e46f0b55f0864fc591cd1": {
      "model_module": "@jupyter-widgets/controls",
      "model_module_version": "1.5.0",
      "model_name": "ProgressStyleModel",
      "state": {
       "description_width": "initial"
      }
     },
     "67bd5329f34941538e9235a4e694e711": {
      "model_module": "@jupyter-widgets/base",
      "model_module_version": "1.2.0",
      "model_name": "LayoutModel",
      "state": {}
     },
     "688e5fbaba8b48cca00a632c849d47cf": {
      "model_module": "@jupyter-widgets/controls",
      "model_module_version": "1.5.0",
      "model_name": "HTMLModel",
      "state": {
       "layout": "IPY_MODEL_441246b440cc4e30a81028b4bab09bc4",
       "style": "IPY_MODEL_a193fb50fb7a4980905781be2920cfc1",
       "value": " 13/13 [00:41&lt;00:00,  3.23s/it, Avg loss=0.24, Avg acc score=0.91, Avg f1 score=0.83, Avg eval loss=0.53, Avg eval acc=0.84, Avg eval f1=0.61]"
      }
     },
     "6896ed51b67846a3baf2a7fcf226fd17": {
      "model_module": "@jupyter-widgets/controls",
      "model_module_version": "1.5.0",
      "model_name": "ProgressStyleModel",
      "state": {
       "description_width": "initial"
      }
     },
     "68ebb980db004d1ab0a7142dd5ea778f": {
      "model_module": "@jupyter-widgets/base",
      "model_module_version": "1.2.0",
      "model_name": "LayoutModel",
      "state": {}
     },
     "6ac8378f4f1b40ac9e19e9cc932a459f": {
      "model_module": "@jupyter-widgets/controls",
      "model_module_version": "1.5.0",
      "model_name": "IntProgressModel",
      "state": {
       "bar_style": "success",
       "description": "Epoch 17/20: 100%",
       "layout": "IPY_MODEL_e4a3a436bf154fbb8c9b33f602e6f8f9",
       "max": 13,
       "style": "IPY_MODEL_0ec557dc0ffc493ebfa8d1faebf29cf3",
       "value": 13
      }
     },
     "6c251c819de74a91aedeb8f327114a33": {
      "model_module": "@jupyter-widgets/controls",
      "model_module_version": "1.5.0",
      "model_name": "HTMLModel",
      "state": {
       "layout": "IPY_MODEL_55b48936d3d14f7a98eb0d0d45b83474",
       "style": "IPY_MODEL_4c6aa35a3e4f4e89bd756b4c5cb0e153",
       "value": " 13/13 [00:27&lt;00:00,  2.09s/it, Avg loss=0.56, Avg acc score=0.78, Avg f1 score=0.78, Avg eval loss=0.44, Avg eval acc=0.82, Avg eval f1=0.82]"
      }
     },
     "6c6619eb59c54184baea8c0cd44d0dad": {
      "model_module": "@jupyter-widgets/base",
      "model_module_version": "1.2.0",
      "model_name": "LayoutModel",
      "state": {}
     },
     "6c6944f8680048d6a9ac6e33724aaa36": {
      "model_module": "@jupyter-widgets/base",
      "model_module_version": "1.2.0",
      "model_name": "LayoutModel",
      "state": {}
     },
     "6dfe08a5524d48fab71bea1f48e1875b": {
      "model_module": "@jupyter-widgets/controls",
      "model_module_version": "1.5.0",
      "model_name": "IntProgressModel",
      "state": {
       "bar_style": "success",
       "description": "Epoch 12/20: 100%",
       "layout": "IPY_MODEL_d09b8fbb7a374c9e95cc34a45e8b9121",
       "max": 13,
       "style": "IPY_MODEL_133f821ef1b54a53bdcbca0bc28cdf35",
       "value": 13
      }
     },
     "6e7c41bdddc04e8aadc640d5ba8ab91f": {
      "model_module": "@jupyter-widgets/controls",
      "model_module_version": "1.5.0",
      "model_name": "HTMLModel",
      "state": {
       "layout": "IPY_MODEL_c5f507562ec943ebb9bcc95ab08b685b",
       "style": "IPY_MODEL_53f54f0f8d664803b84ae2395dff4691",
       "value": " 13/13 [02:48&lt;00:00, 12.94s/it, Avg loss=0.64, Avg acc score=0.74, Avg f1 score=0.74, Avg eval loss=0.43, Avg eval acc=0.87, Avg eval f1=0.87]"
      }
     },
     "6e93fd263c504015ae97c5d9ba40dcae": {
      "model_module": "@jupyter-widgets/base",
      "model_module_version": "1.2.0",
      "model_name": "LayoutModel",
      "state": {}
     },
     "70431e17abbd467695b2a67fc2013884": {
      "model_module": "@jupyter-widgets/controls",
      "model_module_version": "1.5.0",
      "model_name": "HBoxModel",
      "state": {
       "children": [
        "IPY_MODEL_4b2a2d40ec094b06b25f3a5e111cee21",
        "IPY_MODEL_26d65a583fb643fc8bcfa6dee9047a94"
       ],
       "layout": "IPY_MODEL_58fc008b163f4b3d96a288690d085366"
      }
     },
     "70d048a6120a4b87983f1eef41b8623e": {
      "model_module": "@jupyter-widgets/base",
      "model_module_version": "1.2.0",
      "model_name": "LayoutModel",
      "state": {}
     },
     "7181bddc59dc4d12b756bb410d71d1fd": {
      "model_module": "@jupyter-widgets/controls",
      "model_module_version": "1.5.0",
      "model_name": "HBoxModel",
      "state": {
       "children": [
        "IPY_MODEL_95d5af7400154d3d941e7300d45f004d",
        "IPY_MODEL_dbec04fe547d423d8e1c40be24e76930"
       ],
       "layout": "IPY_MODEL_bb5145f643bf4646acc5e418dffdd338"
      }
     },
     "72fa7ab01b9e4a5ab9b2592ac9efe564": {
      "model_module": "@jupyter-widgets/controls",
      "model_module_version": "1.5.0",
      "model_name": "DescriptionStyleModel",
      "state": {
       "description_width": ""
      }
     },
     "730e23d0ca13477b8e7bf4ffcc6fa1dd": {
      "model_module": "@jupyter-widgets/controls",
      "model_module_version": "1.5.0",
      "model_name": "HTMLModel",
      "state": {
       "layout": "IPY_MODEL_b3bb3b810e374a14bf84d98e6d47a0b0",
       "style": "IPY_MODEL_75c8827e78ab4bb3a720d5d35326b867",
       "value": " 13/13 [11:49&lt;00:00, 54.58s/it, Avg loss=0.24, Avg acc score=0.91, Avg f1 score=0.91, Avg eval loss=0.42, Avg eval acc=0.85, Avg eval f1=0.85]"
      }
     },
     "74c06313080e4a1c9ba4a6b1e46c1e57": {
      "model_module": "@jupyter-widgets/controls",
      "model_module_version": "1.5.0",
      "model_name": "IntProgressModel",
      "state": {
       "bar_style": "success",
       "description": "Epoch 5/20: 100%",
       "layout": "IPY_MODEL_8718aebd0e0f4f918287251d4458ecc7",
       "max": 13,
       "style": "IPY_MODEL_6306825ae29f4078a924d1f2145c9e47",
       "value": 13
      }
     },
     "74edbd999843487dae4cfc0483a8fcde": {
      "model_module": "@jupyter-widgets/base",
      "model_module_version": "1.2.0",
      "model_name": "LayoutModel",
      "state": {}
     },
     "7523b47e54c84aa6a040b1a8311376f1": {
      "model_module": "@jupyter-widgets/controls",
      "model_module_version": "1.5.0",
      "model_name": "HTMLModel",
      "state": {
       "layout": "IPY_MODEL_8246a93634754d918766385945ec4448",
       "style": "IPY_MODEL_8ee647d037b84fdb9489fcd52ec1cc01",
       "value": " 13/13 [02:20&lt;00:00, 10.79s/it, Avg loss=0.49, Avg acc score=0.81, Avg f1 score=0.81, Avg eval loss=0.41, Avg eval acc=0.85, Avg eval f1=0.85]"
      }
     },
     "75c8827e78ab4bb3a720d5d35326b867": {
      "model_module": "@jupyter-widgets/controls",
      "model_module_version": "1.5.0",
      "model_name": "DescriptionStyleModel",
      "state": {
       "description_width": ""
      }
     },
     "796a2aeff70745cabe0a7db81383f60e": {
      "model_module": "@jupyter-widgets/controls",
      "model_module_version": "1.5.0",
      "model_name": "HTMLModel",
      "state": {
       "layout": "IPY_MODEL_ab6330f612a8442782f803b5bbf64fed",
       "style": "IPY_MODEL_935d3d9307e345d1b4173c61e3cb373f",
       "value": " 13/13 [00:13&lt;00:00,  1.07s/it, Avg loss=0.20, Avg acc score=0.93, Avg f1 score=0.86, Avg eval loss=0.53, Avg eval acc=0.84, Avg eval f1=0.61]"
      }
     },
     "79d5c6d43e704c64885ba0c93c745c60": {
      "model_module": "@jupyter-widgets/base",
      "model_module_version": "1.2.0",
      "model_name": "LayoutModel",
      "state": {}
     },
     "79d803e3f348446eb755f44fbed1e526": {
      "model_module": "@jupyter-widgets/controls",
      "model_module_version": "1.5.0",
      "model_name": "HTMLModel",
      "state": {
       "layout": "IPY_MODEL_91c51388089f459599eb48eed43afa8c",
       "style": "IPY_MODEL_15f0d2db257249988e5d271742df6df9",
       "value": " 13/13 [00:15&lt;00:00,  1.22s/it, Avg loss=0.33, Avg acc score=0.87, Avg f1 score=0.87, Avg eval loss=0.42, Avg eval acc=0.85, Avg eval f1=0.85]"
      }
     },
     "7a35a480c2e64100bfcd30b62bd1334a": {
      "model_module": "@jupyter-widgets/base",
      "model_module_version": "1.2.0",
      "model_name": "LayoutModel",
      "state": {}
     },
     "7bc2298856114782974ebcce4cd8dd1c": {
      "model_module": "@jupyter-widgets/controls",
      "model_module_version": "1.5.0",
      "model_name": "ProgressStyleModel",
      "state": {
       "description_width": "initial"
      }
     },
     "7c597edbde91422d80f962dc7abdb483": {
      "model_module": "@jupyter-widgets/controls",
      "model_module_version": "1.5.0",
      "model_name": "HTMLModel",
      "state": {
       "layout": "IPY_MODEL_f95ac9939d014a72ac328cade323e713",
       "style": "IPY_MODEL_933475dda5204e908b9a94f80e5119fa",
       "value": " 13/13 [00:28&lt;00:00,  2.16s/it, Avg loss=0.23, Avg acc score=0.92, Avg f1 score=0.84, Avg eval loss=0.53, Avg eval acc=0.84, Avg eval f1=0.61]"
      }
     },
     "7c9748d700ab432dae2c46742d4606d2": {
      "model_module": "@jupyter-widgets/base",
      "model_module_version": "1.2.0",
      "model_name": "LayoutModel",
      "state": {}
     },
     "7ce42004b0254ffeaf22f174389f6407": {
      "model_module": "@jupyter-widgets/base",
      "model_module_version": "1.2.0",
      "model_name": "LayoutModel",
      "state": {}
     },
     "7d51089ba61f494ab5a3cf4c6a176361": {
      "model_module": "@jupyter-widgets/controls",
      "model_module_version": "1.5.0",
      "model_name": "HBoxModel",
      "state": {
       "children": [
        "IPY_MODEL_52a5af7252e04b4fba5f21043ab6cd0e",
        "IPY_MODEL_7523b47e54c84aa6a040b1a8311376f1"
       ],
       "layout": "IPY_MODEL_84735e25526a4876b8cd927b2ffce87c"
      }
     },
     "7d8355021f4745a49a82cb3531f8104f": {
      "model_module": "@jupyter-widgets/base",
      "model_module_version": "1.2.0",
      "model_name": "LayoutModel",
      "state": {}
     },
     "7e07fc37477847e1bb441f3b7048e867": {
      "model_module": "@jupyter-widgets/controls",
      "model_module_version": "1.5.0",
      "model_name": "IntProgressModel",
      "state": {
       "bar_style": "success",
       "description": "Epoch 12/20: 100%",
       "layout": "IPY_MODEL_294cbeec21084b46990a7762ccda00ce",
       "max": 13,
       "style": "IPY_MODEL_b6f22957906a4104ba0cdb88712f0528",
       "value": 13
      }
     },
     "7ef83cd4c65c4f9e89b1efc90294897a": {
      "model_module": "@jupyter-widgets/controls",
      "model_module_version": "1.5.0",
      "model_name": "ProgressStyleModel",
      "state": {
       "description_width": "initial"
      }
     },
     "7f490ea4ce244e3688885c73e2c1541d": {
      "model_module": "@jupyter-widgets/base",
      "model_module_version": "1.2.0",
      "model_name": "LayoutModel",
      "state": {}
     },
     "8083cd2ed1834dffbc04db9113a73639": {
      "model_module": "@jupyter-widgets/controls",
      "model_module_version": "1.5.0",
      "model_name": "IntProgressModel",
      "state": {
       "bar_style": "success",
       "description": "Epoch 2/20: 100%",
       "layout": "IPY_MODEL_590ad126541244e3b5c97941f9a40b58",
       "max": 13,
       "style": "IPY_MODEL_93e9c7bd153846428c90757aa9289374",
       "value": 13
      }
     },
     "8246a93634754d918766385945ec4448": {
      "model_module": "@jupyter-widgets/base",
      "model_module_version": "1.2.0",
      "model_name": "LayoutModel",
      "state": {}
     },
     "8399277953934896abcdce894472ee54": {
      "model_module": "@jupyter-widgets/controls",
      "model_module_version": "1.5.0",
      "model_name": "IntProgressModel",
      "state": {
       "bar_style": "success",
       "description": "Epoch 15/20: 100%",
       "layout": "IPY_MODEL_43970b31e5224e44802e908038cba736",
       "max": 13,
       "style": "IPY_MODEL_ccc31b356def459eb7b71286db99254d",
       "value": 13
      }
     },
     "83a3dfcd7f3549ceae3a66b15d1f0658": {
      "model_module": "@jupyter-widgets/base",
      "model_module_version": "1.2.0",
      "model_name": "LayoutModel",
      "state": {}
     },
     "83bf8dc9087c41d19c01d8b7abffb47d": {
      "model_module": "@jupyter-widgets/controls",
      "model_module_version": "1.5.0",
      "model_name": "HBoxModel",
      "state": {
       "children": [
        "IPY_MODEL_94332cac337c4ab7bd770d49e2acf698",
        "IPY_MODEL_79d803e3f348446eb755f44fbed1e526"
       ],
       "layout": "IPY_MODEL_55cd2bdee0034c4ab9140a052e235096"
      }
     },
     "83d809e876f24fc6aed37ee2321faf3f": {
      "model_module": "@jupyter-widgets/controls",
      "model_module_version": "1.5.0",
      "model_name": "DescriptionStyleModel",
      "state": {
       "description_width": ""
      }
     },
     "84345514267c42d0b4dabddf118aa2d9": {
      "model_module": "@jupyter-widgets/controls",
      "model_module_version": "1.5.0",
      "model_name": "HTMLModel",
      "state": {
       "layout": "IPY_MODEL_489f44bb4f134254bcbff8958bfd8370",
       "style": "IPY_MODEL_945a800aa60845519dcd5248899acc13",
       "value": " 13/13 [03:16&lt;00:00, 15.11s/it, Avg loss=0.86, Avg acc score=0.64, Avg f1 score=0.64, Avg eval loss=0.51, Avg eval acc=0.84, Avg eval f1=0.84]"
      }
     },
     "84735e25526a4876b8cd927b2ffce87c": {
      "model_module": "@jupyter-widgets/base",
      "model_module_version": "1.2.0",
      "model_name": "LayoutModel",
      "state": {}
     },
     "84ca367c97bb4aef9bccdeb37c09444f": {
      "model_module": "@jupyter-widgets/base",
      "model_module_version": "1.2.0",
      "model_name": "LayoutModel",
      "state": {}
     },
     "84f0a754c3e04a18a07ae86bdf7b66ff": {
      "model_module": "@jupyter-widgets/base",
      "model_module_version": "1.2.0",
      "model_name": "LayoutModel",
      "state": {}
     },
     "871454c3e7ac4ce18b1f290693085126": {
      "model_module": "@jupyter-widgets/controls",
      "model_module_version": "1.5.0",
      "model_name": "DescriptionStyleModel",
      "state": {
       "description_width": ""
      }
     },
     "8718aebd0e0f4f918287251d4458ecc7": {
      "model_module": "@jupyter-widgets/base",
      "model_module_version": "1.2.0",
      "model_name": "LayoutModel",
      "state": {}
     },
     "873bb6b0fdb14abe82828cad1667bfee": {
      "model_module": "@jupyter-widgets/controls",
      "model_module_version": "1.5.0",
      "model_name": "DescriptionStyleModel",
      "state": {
       "description_width": ""
      }
     },
     "87b5131fbf914042b659a69fc8314293": {
      "model_module": "@jupyter-widgets/base",
      "model_module_version": "1.2.0",
      "model_name": "LayoutModel",
      "state": {}
     },
     "88d425d9547245b3bdad13f585eede4b": {
      "model_module": "@jupyter-widgets/base",
      "model_module_version": "1.2.0",
      "model_name": "LayoutModel",
      "state": {}
     },
     "8a83ed0cbeba425e8ef27c4b43b250b6": {
      "model_module": "@jupyter-widgets/base",
      "model_module_version": "1.2.0",
      "model_name": "LayoutModel",
      "state": {}
     },
     "8a8b23cb8bf243268be0e0dc9408a6cc": {
      "model_module": "@jupyter-widgets/controls",
      "model_module_version": "1.5.0",
      "model_name": "HBoxModel",
      "state": {
       "children": [
        "IPY_MODEL_2e7d9101e5f84096a0cfcf1408a1eae7",
        "IPY_MODEL_393dd9ca2b774b68bd85803dad2cde39"
       ],
       "layout": "IPY_MODEL_bc0c2cf67b114660a07bc58afd827eaf"
      }
     },
     "8aa717d7b6fc40d28778497245a654ac": {
      "model_module": "@jupyter-widgets/controls",
      "model_module_version": "1.5.0",
      "model_name": "HTMLModel",
      "state": {
       "layout": "IPY_MODEL_e8d440de9094484f8ab3c7e7948cd558",
       "style": "IPY_MODEL_cd0ba73ffc234cd6ac7b9bbf7ca0f4c5",
       "value": " 13/13 [00:27&lt;00:00,  2.15s/it, Avg loss=0.26, Avg acc score=0.90, Avg f1 score=0.90, Avg eval loss=0.42, Avg eval acc=0.85, Avg eval f1=0.85]"
      }
     },
     "8ed265d793e54ef0a9c49dbaa4f5c057": {
      "model_module": "@jupyter-widgets/controls",
      "model_module_version": "1.5.0",
      "model_name": "ProgressStyleModel",
      "state": {
       "description_width": "initial"
      }
     },
     "8ee647d037b84fdb9489fcd52ec1cc01": {
      "model_module": "@jupyter-widgets/controls",
      "model_module_version": "1.5.0",
      "model_name": "DescriptionStyleModel",
      "state": {
       "description_width": ""
      }
     },
     "8f15d669a36142ac81285b58b89052d1": {
      "model_module": "@jupyter-widgets/controls",
      "model_module_version": "1.5.0",
      "model_name": "HTMLModel",
      "state": {
       "layout": "IPY_MODEL_1990ef15e28a4499a54911f066a5bde7",
       "style": "IPY_MODEL_871454c3e7ac4ce18b1f290693085126",
       "value": " 13/13 [00:25&lt;00:00,  1.93s/it, Avg loss=0.52, Avg acc score=0.80, Avg f1 score=0.60, Avg eval loss=0.55, Avg eval acc=0.80, Avg eval f1=0.60]"
      }
     },
     "91b5fb14f60e45af8a5f1a67d6928cd9": {
      "model_module": "@jupyter-widgets/base",
      "model_module_version": "1.2.0",
      "model_name": "LayoutModel",
      "state": {}
     },
     "91c51388089f459599eb48eed43afa8c": {
      "model_module": "@jupyter-widgets/base",
      "model_module_version": "1.2.0",
      "model_name": "LayoutModel",
      "state": {}
     },
     "933475dda5204e908b9a94f80e5119fa": {
      "model_module": "@jupyter-widgets/controls",
      "model_module_version": "1.5.0",
      "model_name": "DescriptionStyleModel",
      "state": {
       "description_width": ""
      }
     },
     "935d3d9307e345d1b4173c61e3cb373f": {
      "model_module": "@jupyter-widgets/controls",
      "model_module_version": "1.5.0",
      "model_name": "DescriptionStyleModel",
      "state": {
       "description_width": ""
      }
     },
     "93e9c7bd153846428c90757aa9289374": {
      "model_module": "@jupyter-widgets/controls",
      "model_module_version": "1.5.0",
      "model_name": "ProgressStyleModel",
      "state": {
       "description_width": "initial"
      }
     },
     "94332cac337c4ab7bd770d49e2acf698": {
      "model_module": "@jupyter-widgets/controls",
      "model_module_version": "1.5.0",
      "model_name": "IntProgressModel",
      "state": {
       "bar_style": "success",
       "description": "Epoch 11/20: 100%",
       "layout": "IPY_MODEL_c011c2a36b68425b90b0506b22a3f5c3",
       "max": 13,
       "style": "IPY_MODEL_7bc2298856114782974ebcce4cd8dd1c",
       "value": 13
      }
     },
     "945a800aa60845519dcd5248899acc13": {
      "model_module": "@jupyter-widgets/controls",
      "model_module_version": "1.5.0",
      "model_name": "DescriptionStyleModel",
      "state": {
       "description_width": ""
      }
     },
     "95365d20ca2d44f49e11d93252ccd5ce": {
      "model_module": "@jupyter-widgets/controls",
      "model_module_version": "1.5.0",
      "model_name": "IntProgressModel",
      "state": {
       "bar_style": "success",
       "description": "Epoch 11/20: 100%",
       "layout": "IPY_MODEL_d3a88282a3b84bccbb048e83c18f2991",
       "max": 13,
       "style": "IPY_MODEL_b2fb5283953d449488fd1ff811afae3b",
       "value": 13
      }
     },
     "95973f1da16248afb52519c1b6e94946": {
      "model_module": "@jupyter-widgets/base",
      "model_module_version": "1.2.0",
      "model_name": "LayoutModel",
      "state": {}
     },
     "95d5af7400154d3d941e7300d45f004d": {
      "model_module": "@jupyter-widgets/controls",
      "model_module_version": "1.5.0",
      "model_name": "IntProgressModel",
      "state": {
       "bar_style": "success",
       "description": "Epoch 19/20: 100%",
       "layout": "IPY_MODEL_b204299116ad410d9a086dc90479591d",
       "max": 13,
       "style": "IPY_MODEL_2872f9a40b2c4c649cf2b23c185f128f",
       "value": 13
      }
     },
     "95ed5a0903214a4ca53ed4156f874762": {
      "model_module": "@jupyter-widgets/base",
      "model_module_version": "1.2.0",
      "model_name": "LayoutModel",
      "state": {}
     },
     "97cf112c2deb4fc491e36da3aeb899ff": {
      "model_module": "@jupyter-widgets/controls",
      "model_module_version": "1.5.0",
      "model_name": "DescriptionStyleModel",
      "state": {
       "description_width": ""
      }
     },
     "97d3aff6518b44daac0e446e4f07477a": {
      "model_module": "@jupyter-widgets/controls",
      "model_module_version": "1.5.0",
      "model_name": "HTMLModel",
      "state": {
       "layout": "IPY_MODEL_aa73ddf890644e58834752d50f98866d",
       "style": "IPY_MODEL_60612493eae340318e0afccb363c70d1",
       "value": " 13/13 [01:38&lt;00:00,  7.55s/it, Avg loss=0.36, Avg acc score=0.86, Avg f1 score=0.86, Avg eval loss=0.42, Avg eval acc=0.85, Avg eval f1=0.85]"
      }
     },
     "97d8b2bbeefc46c0ace825e7338a6a41": {
      "model_module": "@jupyter-widgets/controls",
      "model_module_version": "1.5.0",
      "model_name": "HBoxModel",
      "state": {
       "children": [
        "IPY_MODEL_74c06313080e4a1c9ba4a6b1e46c1e57",
        "IPY_MODEL_5172abffa3254ecf85636f98b8665572"
       ],
       "layout": "IPY_MODEL_fad99243e10d46a48326f22ef1ee7c8b"
      }
     },
     "980e6032c80b4406b101742717399b33": {
      "model_module": "@jupyter-widgets/controls",
      "model_module_version": "1.5.0",
      "model_name": "HBoxModel",
      "state": {
       "children": [
        "IPY_MODEL_416fdeec2f8d4833afcf43f6e2fff315",
        "IPY_MODEL_6e7c41bdddc04e8aadc640d5ba8ab91f"
       ],
       "layout": "IPY_MODEL_555847b64e8749488c1018f6bf3f778b"
      }
     },
     "9840b6d9ebda45938b2c653abdf41631": {
      "model_module": "@jupyter-widgets/controls",
      "model_module_version": "1.5.0",
      "model_name": "ProgressStyleModel",
      "state": {
       "description_width": "initial"
      }
     },
     "9874b95106c04d649885178adf561646": {
      "model_module": "@jupyter-widgets/controls",
      "model_module_version": "1.5.0",
      "model_name": "ProgressStyleModel",
      "state": {
       "description_width": "initial"
      }
     },
     "98d6607f87b34c8bbf09c40ad54ac3db": {
      "model_module": "@jupyter-widgets/base",
      "model_module_version": "1.2.0",
      "model_name": "LayoutModel",
      "state": {}
     },
     "9a5f6847a26d438580e6d43280cab67c": {
      "model_module": "@jupyter-widgets/base",
      "model_module_version": "1.2.0",
      "model_name": "LayoutModel",
      "state": {}
     },
     "9f1a6282bac2429a8d3153bf3bb53841": {
      "model_module": "@jupyter-widgets/base",
      "model_module_version": "1.2.0",
      "model_name": "LayoutModel",
      "state": {}
     },
     "9fd9a13616f2463c90751542276899b1": {
      "model_module": "@jupyter-widgets/controls",
      "model_module_version": "1.5.0",
      "model_name": "HBoxModel",
      "state": {
       "children": [
        "IPY_MODEL_3a085ecaf3ee4d75a622bec554dc7114",
        "IPY_MODEL_184cce022b4449ce98c842c36b7d755a"
       ],
       "layout": "IPY_MODEL_67bd5329f34941538e9235a4e694e711"
      }
     },
     "9fdc2dea01b24224a140ff9b90ba6006": {
      "model_module": "@jupyter-widgets/controls",
      "model_module_version": "1.5.0",
      "model_name": "DescriptionStyleModel",
      "state": {
       "description_width": ""
      }
     },
     "a193fb50fb7a4980905781be2920cfc1": {
      "model_module": "@jupyter-widgets/controls",
      "model_module_version": "1.5.0",
      "model_name": "DescriptionStyleModel",
      "state": {
       "description_width": ""
      }
     },
     "a1a49049f3a54966b25589ba3f1ab9b0": {
      "model_module": "@jupyter-widgets/controls",
      "model_module_version": "1.5.0",
      "model_name": "HTMLModel",
      "state": {
       "layout": "IPY_MODEL_b76027a77f82460b98ab67d783432900",
       "style": "IPY_MODEL_9fdc2dea01b24224a140ff9b90ba6006",
       "value": " 13/13 [00:41&lt;00:00,  3.22s/it, Avg loss=0.28, Avg acc score=0.90, Avg f1 score=0.90, Avg eval loss=0.42, Avg eval acc=0.85, Avg eval f1=0.85]"
      }
     },
     "a576daec1aa04f31a232972be203c56e": {
      "model_module": "@jupyter-widgets/controls",
      "model_module_version": "1.5.0",
      "model_name": "IntProgressModel",
      "state": {
       "bar_style": "success",
       "description": "Epoch 20/20: 100%",
       "layout": "IPY_MODEL_9f1a6282bac2429a8d3153bf3bb53841",
       "max": 13,
       "style": "IPY_MODEL_eb8b69989a1a45e8b201975fc52f0413",
       "value": 13
      }
     },
     "a584727238c14733833d33b4dc32dfc3": {
      "model_module": "@jupyter-widgets/base",
      "model_module_version": "1.2.0",
      "model_name": "LayoutModel",
      "state": {}
     },
     "a617cf1f353a4f2fad7943813b3b7ebc": {
      "model_module": "@jupyter-widgets/base",
      "model_module_version": "1.2.0",
      "model_name": "LayoutModel",
      "state": {}
     },
     "a679ce832077427998804cca2beeaa5f": {
      "model_module": "@jupyter-widgets/base",
      "model_module_version": "1.2.0",
      "model_name": "LayoutModel",
      "state": {}
     },
     "a6845e246e444762b71721fd2c79cb11": {
      "model_module": "@jupyter-widgets/controls",
      "model_module_version": "1.5.0",
      "model_name": "HBoxModel",
      "state": {
       "children": [
        "IPY_MODEL_6ac8378f4f1b40ac9e19e9cc932a459f",
        "IPY_MODEL_796a2aeff70745cabe0a7db81383f60e"
       ],
       "layout": "IPY_MODEL_2b54a43e3dec4d4c8ae34c62862476b2"
      }
     },
     "aa3af82834774d019c209169af03d136": {
      "model_module": "@jupyter-widgets/base",
      "model_module_version": "1.2.0",
      "model_name": "LayoutModel",
      "state": {}
     },
     "aa5e15128a98462f9083d1e9ec055cb8": {
      "model_module": "@jupyter-widgets/controls",
      "model_module_version": "1.5.0",
      "model_name": "HBoxModel",
      "state": {
       "children": [
        "IPY_MODEL_03d279446db54b1eb28c4b3f9c3dca06",
        "IPY_MODEL_abeb5ebeafff4a329606434af91adede"
       ],
       "layout": "IPY_MODEL_cd694cbc9a37479e9c4eadd236f4a9ce"
      }
     },
     "aa73ddf890644e58834752d50f98866d": {
      "model_module": "@jupyter-widgets/base",
      "model_module_version": "1.2.0",
      "model_name": "LayoutModel",
      "state": {}
     },
     "aaabfabc57294e1bb006da04797c738c": {
      "model_module": "@jupyter-widgets/controls",
      "model_module_version": "1.5.0",
      "model_name": "HTMLModel",
      "state": {
       "layout": "IPY_MODEL_91b5fb14f60e45af8a5f1a67d6928cd9",
       "style": "IPY_MODEL_ce788488ae10496ebdb8c90934758313",
       "value": " 13/13 [00:20&lt;00:00,  1.55s/it, Avg loss=0.23, Avg acc score=0.92, Avg f1 score=0.92, Avg eval loss=0.42, Avg eval acc=0.85, Avg eval f1=0.85]"
      }
     },
     "ab059c0ef00841bb918cd7139a4f6f78": {
      "model_module": "@jupyter-widgets/controls",
      "model_module_version": "1.5.0",
      "model_name": "HTMLModel",
      "state": {
       "layout": "IPY_MODEL_ef1118463b8f404eb3ef0a0d16e66c61",
       "style": "IPY_MODEL_ca098efe91b64be1930e8f8ad05413fc",
       "value": " 13/13 [00:19&lt;00:00,  1.47s/it, Avg loss=0.19, Avg acc score=0.93, Avg f1 score=0.87, Avg eval loss=0.53, Avg eval acc=0.84, Avg eval f1=0.61]"
      }
     },
     "ab6330f612a8442782f803b5bbf64fed": {
      "model_module": "@jupyter-widgets/base",
      "model_module_version": "1.2.0",
      "model_name": "LayoutModel",
      "state": {}
     },
     "ab6796a339974ab6b433b54da0466955": {
      "model_module": "@jupyter-widgets/controls",
      "model_module_version": "1.5.0",
      "model_name": "HTMLModel",
      "state": {
       "layout": "IPY_MODEL_7c9748d700ab432dae2c46742d4606d2",
       "style": "IPY_MODEL_2cfb5ce6612442fb971f33bc8b74b2c8",
       "value": " 13/13 [00:21&lt;00:00,  1.63s/it, Avg loss=0.29, Avg acc score=0.89, Avg f1 score=0.89, Avg eval loss=0.42, Avg eval acc=0.85, Avg eval f1=0.85]"
      }
     },
     "abcff510582f41f6b90d28b85313a87c": {
      "model_module": "@jupyter-widgets/base",
      "model_module_version": "1.2.0",
      "model_name": "LayoutModel",
      "state": {}
     },
     "abeb5ebeafff4a329606434af91adede": {
      "model_module": "@jupyter-widgets/controls",
      "model_module_version": "1.5.0",
      "model_name": "HTMLModel",
      "state": {
       "layout": "IPY_MODEL_0b031e99bed74baeaef83863c564cc67",
       "style": "IPY_MODEL_873bb6b0fdb14abe82828cad1667bfee",
       "value": " 13/13 [00:28&lt;00:00,  2.16s/it, Avg loss=0.44, Avg acc score=0.83, Avg f1 score=0.83, Avg eval loss=0.41, Avg eval acc=0.85, Avg eval f1=0.85]"
      }
     },
     "adf4b79ca61e4ae5b853db6178e8c044": {
      "model_module": "@jupyter-widgets/controls",
      "model_module_version": "1.5.0",
      "model_name": "HBoxModel",
      "state": {
       "children": [
        "IPY_MODEL_95365d20ca2d44f49e11d93252ccd5ce",
        "IPY_MODEL_d058580aba3947379c4f3fdb668e6fff"
       ],
       "layout": "IPY_MODEL_d245744f740f473b8c941beec95fc477"
      }
     },
     "ae5b6d9429244b83b23c2d15a68eaa9e": {
      "model_module": "@jupyter-widgets/controls",
      "model_module_version": "1.5.0",
      "model_name": "HBoxModel",
      "state": {
       "children": [
        "IPY_MODEL_605c319ea8f04960af74ac1ea6b5bd87",
        "IPY_MODEL_730e23d0ca13477b8e7bf4ffcc6fa1dd"
       ],
       "layout": "IPY_MODEL_abcff510582f41f6b90d28b85313a87c"
      }
     },
     "aebf0036158e49f9a6e678fd82336785": {
      "model_module": "@jupyter-widgets/controls",
      "model_module_version": "1.5.0",
      "model_name": "HBoxModel",
      "state": {
       "children": [
        "IPY_MODEL_6dfe08a5524d48fab71bea1f48e1875b",
        "IPY_MODEL_0b37ba4fc6c6489eb29d36b965747115"
       ],
       "layout": "IPY_MODEL_20b4f76f42d34d4699140ecf8e669d0b"
      }
     },
     "afdb00cafc074401a7f73a8501ff8d27": {
      "model_module": "@jupyter-widgets/controls",
      "model_module_version": "1.5.0",
      "model_name": "HBoxModel",
      "state": {
       "children": [
        "IPY_MODEL_7e07fc37477847e1bb441f3b7048e867",
        "IPY_MODEL_1241f1bc23dc436898ece0e511951d31"
       ],
       "layout": "IPY_MODEL_98d6607f87b34c8bbf09c40ad54ac3db"
      }
     },
     "b025d63ab75e4efcb0ca5ecccff688a1": {
      "model_module": "@jupyter-widgets/base",
      "model_module_version": "1.2.0",
      "model_name": "LayoutModel",
      "state": {}
     },
     "b06908bb7fad4053a1aadf1d4993d1cb": {
      "model_module": "@jupyter-widgets/controls",
      "model_module_version": "1.5.0",
      "model_name": "HTMLModel",
      "state": {
       "layout": "IPY_MODEL_2a970562aa594458ae40335d285377ed",
       "style": "IPY_MODEL_616089f0e4674b5da91622ca45d94884",
       "value": " 13/13 [00:14&lt;00:00,  1.08s/it, Avg loss=0.21, Avg acc score=0.92, Avg f1 score=0.85, Avg eval loss=0.53, Avg eval acc=0.84, Avg eval f1=0.61]"
      }
     },
     "b0a1660ad379401c831ffe959883cb8b": {
      "model_module": "@jupyter-widgets/controls",
      "model_module_version": "1.5.0",
      "model_name": "HBoxModel",
      "state": {
       "children": [
        "IPY_MODEL_2cf4e5093f4e4912bfc0963f22799dae",
        "IPY_MODEL_d79e04f405714ea5b4d14b826efc651a"
       ],
       "layout": "IPY_MODEL_be19113329e04fd4bc149d799a275a36"
      }
     },
     "b101d6557417428c9dd2490bfb5b110e": {
      "model_module": "@jupyter-widgets/controls",
      "model_module_version": "1.5.0",
      "model_name": "HBoxModel",
      "state": {
       "children": [
        "IPY_MODEL_eb95f9b7657b4e3dbf2c6f5b36a0ddf0",
        "IPY_MODEL_59fd68951e8d40f6b72fb09558dba6ce"
       ],
       "layout": "IPY_MODEL_88d425d9547245b3bdad13f585eede4b"
      }
     },
     "b204299116ad410d9a086dc90479591d": {
      "model_module": "@jupyter-widgets/base",
      "model_module_version": "1.2.0",
      "model_name": "LayoutModel",
      "state": {}
     },
     "b2ec4c6419284fbf86521a25b0d0c79f": {
      "model_module": "@jupyter-widgets/base",
      "model_module_version": "1.2.0",
      "model_name": "LayoutModel",
      "state": {}
     },
     "b2fb5283953d449488fd1ff811afae3b": {
      "model_module": "@jupyter-widgets/controls",
      "model_module_version": "1.5.0",
      "model_name": "ProgressStyleModel",
      "state": {
       "description_width": "initial"
      }
     },
     "b386dd68c27b4c5894aa239c76adfc75": {
      "model_module": "@jupyter-widgets/controls",
      "model_module_version": "1.5.0",
      "model_name": "HTMLModel",
      "state": {
       "layout": "IPY_MODEL_329245012dff4379a1c18f634cc40d0e",
       "style": "IPY_MODEL_4778c9ccf90146f796235d570c804166",
       "value": " 13/13 [02:19&lt;00:00, 10.74s/it, Avg loss=0.45, Avg acc score=0.82, Avg f1 score=0.66, Avg eval loss=0.44, Avg eval acc=0.87, Avg eval f1=0.63]"
      }
     },
     "b396acc243f74e70ad2d3984852e24c0": {
      "model_module": "@jupyter-widgets/controls",
      "model_module_version": "1.5.0",
      "model_name": "HBoxModel",
      "state": {
       "children": [
        "IPY_MODEL_eff93a4c165f48738669651aab31f729",
        "IPY_MODEL_84345514267c42d0b4dabddf118aa2d9"
       ],
       "layout": "IPY_MODEL_03685e49540e452e8df327cce6c92679"
      }
     },
     "b3bb3b810e374a14bf84d98e6d47a0b0": {
      "model_module": "@jupyter-widgets/base",
      "model_module_version": "1.2.0",
      "model_name": "LayoutModel",
      "state": {}
     },
     "b423125fb4c64ac98808a7eda6cd6af2": {
      "model_module": "@jupyter-widgets/controls",
      "model_module_version": "1.5.0",
      "model_name": "HBoxModel",
      "state": {
       "children": [
        "IPY_MODEL_f9e2216776064b6284d979e6e4aa7ca3",
        "IPY_MODEL_66b041fc478a4f97b1c1b5b7f3e302d7"
       ],
       "layout": "IPY_MODEL_60643f356768435e92594f645155617e"
      }
     },
     "b559bd32d3a84dc59c7cd368d2519049": {
      "model_module": "@jupyter-widgets/controls",
      "model_module_version": "1.5.0",
      "model_name": "ProgressStyleModel",
      "state": {
       "description_width": "initial"
      }
     },
     "b55beae87a254855b25db6b7f98ed9bc": {
      "model_module": "@jupyter-widgets/controls",
      "model_module_version": "1.5.0",
      "model_name": "HBoxModel",
      "state": {
       "children": [
        "IPY_MODEL_5d5e3b887b6348cbad19a758631a6a85",
        "IPY_MODEL_2799970ec9384cc9962c0474b5d563f8"
       ],
       "layout": "IPY_MODEL_6635ece0b9ff4988aaf96e91f6cb1505"
      }
     },
     "b55da0aedc0a4dfb9479d498e4109c2a": {
      "model_module": "@jupyter-widgets/base",
      "model_module_version": "1.2.0",
      "model_name": "LayoutModel",
      "state": {}
     },
     "b584ef8ca9e74d9e91ac3b302d707b51": {
      "model_module": "@jupyter-widgets/base",
      "model_module_version": "1.2.0",
      "model_name": "LayoutModel",
      "state": {}
     },
     "b5bc6157d145434bbd2347e2cadc9b13": {
      "model_module": "@jupyter-widgets/base",
      "model_module_version": "1.2.0",
      "model_name": "LayoutModel",
      "state": {}
     },
     "b6ba83cfc1724e4da03dbb739de8ac4e": {
      "model_module": "@jupyter-widgets/controls",
      "model_module_version": "1.5.0",
      "model_name": "HTMLModel",
      "state": {
       "layout": "IPY_MODEL_25156d75edb44fc8ad3931643b4f0aa1",
       "style": "IPY_MODEL_d610b29101e74127a8ea5015933feb67",
       "value": " 13/13 [01:52&lt;00:00,  8.62s/it, Avg loss=0.39, Avg acc score=0.85, Avg f1 score=0.85, Avg eval loss=0.42, Avg eval acc=0.85, Avg eval f1=0.85]"
      }
     },
     "b6caea97d48a47d1be00575b3639d214": {
      "model_module": "@jupyter-widgets/controls",
      "model_module_version": "1.5.0",
      "model_name": "DescriptionStyleModel",
      "state": {
       "description_width": ""
      }
     },
     "b6f22957906a4104ba0cdb88712f0528": {
      "model_module": "@jupyter-widgets/controls",
      "model_module_version": "1.5.0",
      "model_name": "ProgressStyleModel",
      "state": {
       "description_width": "initial"
      }
     },
     "b76027a77f82460b98ab67d783432900": {
      "model_module": "@jupyter-widgets/base",
      "model_module_version": "1.2.0",
      "model_name": "LayoutModel",
      "state": {}
     },
     "bb5145f643bf4646acc5e418dffdd338": {
      "model_module": "@jupyter-widgets/base",
      "model_module_version": "1.2.0",
      "model_name": "LayoutModel",
      "state": {}
     },
     "bbcc24eda2254f87bf215fcfae99fdd3": {
      "model_module": "@jupyter-widgets/controls",
      "model_module_version": "1.5.0",
      "model_name": "DescriptionStyleModel",
      "state": {
       "description_width": ""
      }
     },
     "bc0c2cf67b114660a07bc58afd827eaf": {
      "model_module": "@jupyter-widgets/base",
      "model_module_version": "1.2.0",
      "model_name": "LayoutModel",
      "state": {}
     },
     "be19113329e04fd4bc149d799a275a36": {
      "model_module": "@jupyter-widgets/base",
      "model_module_version": "1.2.0",
      "model_name": "LayoutModel",
      "state": {}
     },
     "be5a31c54dd34eb999736adc1b0782d0": {
      "model_module": "@jupyter-widgets/base",
      "model_module_version": "1.2.0",
      "model_name": "LayoutModel",
      "state": {}
     },
     "bebad81aa94a42afaa61219c9a3a9cec": {
      "model_module": "@jupyter-widgets/controls",
      "model_module_version": "1.5.0",
      "model_name": "HTMLModel",
      "state": {
       "layout": "IPY_MODEL_84ca367c97bb4aef9bccdeb37c09444f",
       "style": "IPY_MODEL_4cd5df2dfe444128b0b1d19658204d54",
       "value": " 13/13 [00:14&lt;00:00,  1.13s/it, Avg loss=0.18, Avg acc score=0.94, Avg f1 score=0.88, Avg eval loss=0.53, Avg eval acc=0.86, Avg eval f1=0.63]"
      }
     },
     "bec29b20aec44023a0bf5609ebc240e5": {
      "model_module": "@jupyter-widgets/base",
      "model_module_version": "1.2.0",
      "model_name": "LayoutModel",
      "state": {}
     },
     "bf883636d5e14f899995e6a2fadaea1d": {
      "model_module": "@jupyter-widgets/base",
      "model_module_version": "1.2.0",
      "model_name": "LayoutModel",
      "state": {}
     },
     "c011c2a36b68425b90b0506b22a3f5c3": {
      "model_module": "@jupyter-widgets/base",
      "model_module_version": "1.2.0",
      "model_name": "LayoutModel",
      "state": {}
     },
     "c198079516c34dadb765647e202b1609": {
      "model_module": "@jupyter-widgets/controls",
      "model_module_version": "1.5.0",
      "model_name": "ProgressStyleModel",
      "state": {
       "description_width": "initial"
      }
     },
     "c33ef940610d46a7928e50f7d98e1eb6": {
      "model_module": "@jupyter-widgets/base",
      "model_module_version": "1.2.0",
      "model_name": "LayoutModel",
      "state": {}
     },
     "c35b65397d384b809c6eb14679c0f936": {
      "model_module": "@jupyter-widgets/base",
      "model_module_version": "1.2.0",
      "model_name": "LayoutModel",
      "state": {}
     },
     "c37f4d1b76c544d7b6f29f0604bc6015": {
      "model_module": "@jupyter-widgets/controls",
      "model_module_version": "1.5.0",
      "model_name": "ProgressStyleModel",
      "state": {
       "description_width": "initial"
      }
     },
     "c5f507562ec943ebb9bcc95ab08b685b": {
      "model_module": "@jupyter-widgets/base",
      "model_module_version": "1.2.0",
      "model_name": "LayoutModel",
      "state": {}
     },
     "c748c8fcf12f48e78902d4fd3a2f6926": {
      "model_module": "@jupyter-widgets/base",
      "model_module_version": "1.2.0",
      "model_name": "LayoutModel",
      "state": {}
     },
     "c9f38e02b87246e0936ac6e5d0909d52": {
      "model_module": "@jupyter-widgets/controls",
      "model_module_version": "1.5.0",
      "model_name": "ProgressStyleModel",
      "state": {
       "description_width": "initial"
      }
     },
     "ca098efe91b64be1930e8f8ad05413fc": {
      "model_module": "@jupyter-widgets/controls",
      "model_module_version": "1.5.0",
      "model_name": "DescriptionStyleModel",
      "state": {
       "description_width": ""
      }
     },
     "ca1ff77ef69546f89fa8c22a0f4c18d5": {
      "model_module": "@jupyter-widgets/base",
      "model_module_version": "1.2.0",
      "model_name": "LayoutModel",
      "state": {}
     },
     "ca6bdf93bd5a45b08bc02a2ddd3958ad": {
      "model_module": "@jupyter-widgets/base",
      "model_module_version": "1.2.0",
      "model_name": "LayoutModel",
      "state": {}
     },
     "cb81ee50b4b54b2788c139138efe1e51": {
      "model_module": "@jupyter-widgets/controls",
      "model_module_version": "1.5.0",
      "model_name": "IntProgressModel",
      "state": {
       "bar_style": "success",
       "description": "Epoch 4/20: 100%",
       "layout": "IPY_MODEL_7ce42004b0254ffeaf22f174389f6407",
       "max": 13,
       "style": "IPY_MODEL_67addaa9414e46f0b55f0864fc591cd1",
       "value": 13
      }
     },
     "cbb862058d1d4d76bd0e1404a424433c": {
      "model_module": "@jupyter-widgets/base",
      "model_module_version": "1.2.0",
      "model_name": "LayoutModel",
      "state": {}
     },
     "cc26345a25dc4ddba3ebfe2469d0ae5b": {
      "model_module": "@jupyter-widgets/base",
      "model_module_version": "1.2.0",
      "model_name": "LayoutModel",
      "state": {}
     },
     "ccc1f579fddf492b9cdd7a7f05cd64f1": {
      "model_module": "@jupyter-widgets/controls",
      "model_module_version": "1.5.0",
      "model_name": "HTMLModel",
      "state": {
       "layout": "IPY_MODEL_261e9725fbfd416492750da102b7b1ea",
       "style": "IPY_MODEL_f5ce388556ca4bcb963722a97e307b47",
       "value": " 13/13 [00:17&lt;00:00,  1.31s/it, Avg loss=0.71, Avg acc score=0.71, Avg f1 score=0.46, Avg eval loss=0.53, Avg eval acc=0.84, Avg eval f1=0.61]"
      }
     },
     "ccc31b356def459eb7b71286db99254d": {
      "model_module": "@jupyter-widgets/controls",
      "model_module_version": "1.5.0",
      "model_name": "ProgressStyleModel",
      "state": {
       "description_width": "initial"
      }
     },
     "cd0ba73ffc234cd6ac7b9bbf7ca0f4c5": {
      "model_module": "@jupyter-widgets/controls",
      "model_module_version": "1.5.0",
      "model_name": "DescriptionStyleModel",
      "state": {
       "description_width": ""
      }
     },
     "cd694cbc9a37479e9c4eadd236f4a9ce": {
      "model_module": "@jupyter-widgets/base",
      "model_module_version": "1.2.0",
      "model_name": "LayoutModel",
      "state": {}
     },
     "ce788488ae10496ebdb8c90934758313": {
      "model_module": "@jupyter-widgets/controls",
      "model_module_version": "1.5.0",
      "model_name": "DescriptionStyleModel",
      "state": {
       "description_width": ""
      }
     },
     "cecd2453c0b54295a474d7878667d7b6": {
      "model_module": "@jupyter-widgets/controls",
      "model_module_version": "1.5.0",
      "model_name": "IntProgressModel",
      "state": {
       "bar_style": "success",
       "description": "Epoch 7/20: 100%",
       "layout": "IPY_MODEL_4b5b6119859b4e4f9cd0acf4bf8b8405",
       "max": 13,
       "style": "IPY_MODEL_c37f4d1b76c544d7b6f29f0604bc6015",
       "value": 13
      }
     },
     "cf1f0ab8d4d94683b4e836f372b64fb2": {
      "model_module": "@jupyter-widgets/base",
      "model_module_version": "1.2.0",
      "model_name": "LayoutModel",
      "state": {}
     },
     "cf8aa33fba4e4a49abd4a6b9cf6dc039": {
      "model_module": "@jupyter-widgets/controls",
      "model_module_version": "1.5.0",
      "model_name": "DescriptionStyleModel",
      "state": {
       "description_width": ""
      }
     },
     "d02344646f2a43c8aaaa6cbbd7779df7": {
      "model_module": "@jupyter-widgets/controls",
      "model_module_version": "1.5.0",
      "model_name": "ProgressStyleModel",
      "state": {
       "description_width": "initial"
      }
     },
     "d058580aba3947379c4f3fdb668e6fff": {
      "model_module": "@jupyter-widgets/controls",
      "model_module_version": "1.5.0",
      "model_name": "HTMLModel",
      "state": {
       "layout": "IPY_MODEL_b584ef8ca9e74d9e91ac3b302d707b51",
       "style": "IPY_MODEL_560a0276f2c943e7a951125f6ba6fbc3",
       "value": " 13/13 [00:16&lt;00:00,  1.23s/it, Avg loss=0.30, Avg acc score=0.89, Avg f1 score=0.78, Avg eval loss=0.53, Avg eval acc=0.84, Avg eval f1=0.61]"
      }
     },
     "d09b8fbb7a374c9e95cc34a45e8b9121": {
      "model_module": "@jupyter-widgets/base",
      "model_module_version": "1.2.0",
      "model_name": "LayoutModel",
      "state": {}
     },
     "d0d51761bbe942209f9821ce3da98141": {
      "model_module": "@jupyter-widgets/controls",
      "model_module_version": "1.5.0",
      "model_name": "IntProgressModel",
      "state": {
       "bar_style": "success",
       "description": "Epoch 14/20: 100%",
       "layout": "IPY_MODEL_a617cf1f353a4f2fad7943813b3b7ebc",
       "max": 13,
       "style": "IPY_MODEL_c198079516c34dadb765647e202b1609",
       "value": 13
      }
     },
     "d245744f740f473b8c941beec95fc477": {
      "model_module": "@jupyter-widgets/base",
      "model_module_version": "1.2.0",
      "model_name": "LayoutModel",
      "state": {}
     },
     "d3078e0e1e4c40638eb9749a851c8f51": {
      "model_module": "@jupyter-widgets/controls",
      "model_module_version": "1.5.0",
      "model_name": "ProgressStyleModel",
      "state": {
       "description_width": "initial"
      }
     },
     "d3a88282a3b84bccbb048e83c18f2991": {
      "model_module": "@jupyter-widgets/base",
      "model_module_version": "1.2.0",
      "model_name": "LayoutModel",
      "state": {}
     },
     "d610b29101e74127a8ea5015933feb67": {
      "model_module": "@jupyter-widgets/controls",
      "model_module_version": "1.5.0",
      "model_name": "DescriptionStyleModel",
      "state": {
       "description_width": ""
      }
     },
     "d73cfe585557498e80c19982384cb10d": {
      "model_module": "@jupyter-widgets/controls",
      "model_module_version": "1.5.0",
      "model_name": "DescriptionStyleModel",
      "state": {
       "description_width": ""
      }
     },
     "d7957960f95e4e2b95d6d208b3b59c14": {
      "model_module": "@jupyter-widgets/controls",
      "model_module_version": "1.5.0",
      "model_name": "HBoxModel",
      "state": {
       "children": [
        "IPY_MODEL_3d15e7fad408400a9cc2523cd94d02a0",
        "IPY_MODEL_b06908bb7fad4053a1aadf1d4993d1cb"
       ],
       "layout": "IPY_MODEL_47c23bdfc7e04564990172ae3125d683"
      }
     },
     "d79e04f405714ea5b4d14b826efc651a": {
      "model_module": "@jupyter-widgets/controls",
      "model_module_version": "1.5.0",
      "model_name": "HTMLModel",
      "state": {
       "layout": "IPY_MODEL_fe56e14270154c28bc0cbcbb2d2585df",
       "style": "IPY_MODEL_5af2dd9586e34930a00bee060614c1d8",
       "value": " 13/13 [02:39&lt;00:00, 12.26s/it, Avg loss=0.21, Avg acc score=0.93, Avg f1 score=0.93, Avg eval loss=0.42, Avg eval acc=0.85, Avg eval f1=0.85]"
      }
     },
     "d99ea57e9b59444b96a643c6f1721ee7": {
      "model_module": "@jupyter-widgets/base",
      "model_module_version": "1.2.0",
      "model_name": "LayoutModel",
      "state": {}
     },
     "d9c0e82112d44f1782e9fd41ae233f6a": {
      "model_module": "@jupyter-widgets/controls",
      "model_module_version": "1.5.0",
      "model_name": "IntProgressModel",
      "state": {
       "bar_style": "success",
       "description": "Epoch 6/20: 100%",
       "layout": "IPY_MODEL_13e3e34cb47947ffbbf515a9d5f3839a",
       "max": 13,
       "style": "IPY_MODEL_373235c11567476aa45631a5ac27b7d0",
       "value": 13
      }
     },
     "dbec04fe547d423d8e1c40be24e76930": {
      "model_module": "@jupyter-widgets/controls",
      "model_module_version": "1.5.0",
      "model_name": "HTMLModel",
      "state": {
       "layout": "IPY_MODEL_84f0a754c3e04a18a07ae86bdf7b66ff",
       "style": "IPY_MODEL_bbcc24eda2254f87bf215fcfae99fdd3",
       "value": " 13/13 [11:21&lt;00:00, 52.42s/it, Avg loss=0.22, Avg acc score=0.92, Avg f1 score=0.92, Avg eval loss=0.42, Avg eval acc=0.85, Avg eval f1=0.85]"
      }
     },
     "dcc3d0245864443bb950660e36ba1cd4": {
      "model_module": "@jupyter-widgets/controls",
      "model_module_version": "1.5.0",
      "model_name": "HBoxModel",
      "state": {
       "children": [
        "IPY_MODEL_6089e56bcef9492fbf936223ae317a3a",
        "IPY_MODEL_b6ba83cfc1724e4da03dbb739de8ac4e"
       ],
       "layout": "IPY_MODEL_44a394bc4e8249df8d0616f6c1dbc000"
      }
     },
     "dd17accfdca848049df6b5a47a299c2c": {
      "model_module": "@jupyter-widgets/controls",
      "model_module_version": "1.5.0",
      "model_name": "HTMLModel",
      "state": {
       "layout": "IPY_MODEL_b2ec4c6419284fbf86521a25b0d0c79f",
       "style": "IPY_MODEL_58f18c21afdb4945b941916f49422023",
       "value": " 13/13 [03:43&lt;00:00, 17.22s/it, Avg loss=1.04, Avg acc score=0.53, Avg f1 score=0.25, Avg eval loss=0.96, Avg eval acc=0.66, Avg eval f1=0.35]"
      }
     },
     "e3451754d618486eb1aa53842a54397a": {
      "model_module": "@jupyter-widgets/controls",
      "model_module_version": "1.5.0",
      "model_name": "HBoxModel",
      "state": {
       "children": [
        "IPY_MODEL_fc9d833c02d04fd58b36e48bb27f0afa",
        "IPY_MODEL_aaabfabc57294e1bb006da04797c738c"
       ],
       "layout": "IPY_MODEL_bf883636d5e14f899995e6a2fadaea1d"
      }
     },
     "e4a3a436bf154fbb8c9b33f602e6f8f9": {
      "model_module": "@jupyter-widgets/base",
      "model_module_version": "1.2.0",
      "model_name": "LayoutModel",
      "state": {}
     },
     "e51ec159aaf54548a9af086e39a82325": {
      "model_module": "@jupyter-widgets/base",
      "model_module_version": "1.2.0",
      "model_name": "LayoutModel",
      "state": {}
     },
     "e569499b2c1341d3a4101937eb21077f": {
      "model_module": "@jupyter-widgets/controls",
      "model_module_version": "1.5.0",
      "model_name": "ProgressStyleModel",
      "state": {
       "description_width": "initial"
      }
     },
     "e74fa3ce728f42da920129a8314c6943": {
      "model_module": "@jupyter-widgets/controls",
      "model_module_version": "1.5.0",
      "model_name": "IntProgressModel",
      "state": {
       "bar_style": "success",
       "description": "Epoch 18/20: 100%",
       "layout": "IPY_MODEL_2414e5dd4d6046afba51593d27032a42",
       "max": 13,
       "style": "IPY_MODEL_b559bd32d3a84dc59c7cd368d2519049",
       "value": 13
      }
     },
     "e7c62b862a1d49eb8f78b9ed8f4c4e70": {
      "model_module": "@jupyter-widgets/controls",
      "model_module_version": "1.5.0",
      "model_name": "HTMLModel",
      "state": {
       "layout": "IPY_MODEL_406dbe355f9d4752ad0e198cd700ce50",
       "style": "IPY_MODEL_d73cfe585557498e80c19982384cb10d",
       "value": " 13/13 [03:15&lt;00:00, 15.04s/it, Avg loss=0.82, Avg acc score=0.65, Avg f1 score=0.37, Avg eval loss=0.57, Avg eval acc=0.82, Avg eval f1=0.57]"
      }
     },
     "e8d440de9094484f8ab3c7e7948cd558": {
      "model_module": "@jupyter-widgets/base",
      "model_module_version": "1.2.0",
      "model_name": "LayoutModel",
      "state": {}
     },
     "e8e16cd86d244eff8ae9cbf544a29e19": {
      "model_module": "@jupyter-widgets/base",
      "model_module_version": "1.2.0",
      "model_name": "LayoutModel",
      "state": {}
     },
     "ea9160e7e3414e0b95875e86cbde83f5": {
      "model_module": "@jupyter-widgets/controls",
      "model_module_version": "1.5.0",
      "model_name": "HBoxModel",
      "state": {
       "children": [
        "IPY_MODEL_08a850b74b5e405898626db634c59b53",
        "IPY_MODEL_573ba5df97de4607a5efb367b6364e41"
       ],
       "layout": "IPY_MODEL_e8e16cd86d244eff8ae9cbf544a29e19"
      }
     },
     "eb8b69989a1a45e8b201975fc52f0413": {
      "model_module": "@jupyter-widgets/controls",
      "model_module_version": "1.5.0",
      "model_name": "ProgressStyleModel",
      "state": {
       "description_width": "initial"
      }
     },
     "eb95f9b7657b4e3dbf2c6f5b36a0ddf0": {
      "model_module": "@jupyter-widgets/controls",
      "model_module_version": "1.5.0",
      "model_name": "IntProgressModel",
      "state": {
       "bar_style": "success",
       "description": "Epoch 2/20: 100%",
       "layout": "IPY_MODEL_95973f1da16248afb52519c1b6e94946",
       "max": 13,
       "style": "IPY_MODEL_fa686cfcec51473e84a51d7cb7375223",
       "value": 13
      }
     },
     "ed34e721edb747568975ccf59faef5b6": {
      "model_module": "@jupyter-widgets/controls",
      "model_module_version": "1.5.0",
      "model_name": "ProgressStyleModel",
      "state": {
       "description_width": "initial"
      }
     },
     "ed54418e8ac0442eb22b2f4b2fea656b": {
      "model_module": "@jupyter-widgets/controls",
      "model_module_version": "1.5.0",
      "model_name": "HBoxModel",
      "state": {
       "children": [
        "IPY_MODEL_8399277953934896abcdce894472ee54",
        "IPY_MODEL_7c597edbde91422d80f962dc7abdb483"
       ],
       "layout": "IPY_MODEL_6e93fd263c504015ae97c5d9ba40dcae"
      }
     },
     "ef1118463b8f404eb3ef0a0d16e66c61": {
      "model_module": "@jupyter-widgets/base",
      "model_module_version": "1.2.0",
      "model_name": "LayoutModel",
      "state": {}
     },
     "ef11b258c3c8418d89e8ebdf03ba898b": {
      "model_module": "@jupyter-widgets/base",
      "model_module_version": "1.2.0",
      "model_name": "LayoutModel",
      "state": {}
     },
     "eff93a4c165f48738669651aab31f729": {
      "model_module": "@jupyter-widgets/controls",
      "model_module_version": "1.5.0",
      "model_name": "IntProgressModel",
      "state": {
       "bar_style": "success",
       "description": "Epoch 3/20: 100%",
       "layout": "IPY_MODEL_cbb862058d1d4d76bd0e1404a424433c",
       "max": 13,
       "style": "IPY_MODEL_372b1402428d4efd9146c48a94d8f909",
       "value": 13
      }
     },
     "f409d908d1ad40549a41cf0aa52c63a2": {
      "model_module": "@jupyter-widgets/base",
      "model_module_version": "1.2.0",
      "model_name": "LayoutModel",
      "state": {}
     },
     "f5ce388556ca4bcb963722a97e307b47": {
      "model_module": "@jupyter-widgets/controls",
      "model_module_version": "1.5.0",
      "model_name": "DescriptionStyleModel",
      "state": {
       "description_width": ""
      }
     },
     "f61a10e0bf8240fd958931b2e1465751": {
      "model_module": "@jupyter-widgets/base",
      "model_module_version": "1.2.0",
      "model_name": "LayoutModel",
      "state": {}
     },
     "f8ea56bfc0044de9b29efccdd3243cd3": {
      "model_module": "@jupyter-widgets/controls",
      "model_module_version": "1.5.0",
      "model_name": "ProgressStyleModel",
      "state": {
       "description_width": "initial"
      }
     },
     "f95ac9939d014a72ac328cade323e713": {
      "model_module": "@jupyter-widgets/base",
      "model_module_version": "1.2.0",
      "model_name": "LayoutModel",
      "state": {}
     },
     "f9b26fda528445fcbf597e4af176e8bb": {
      "model_module": "@jupyter-widgets/controls",
      "model_module_version": "1.5.0",
      "model_name": "HBoxModel",
      "state": {
       "children": [
        "IPY_MODEL_26f72c050b4441d98b6ea22bf6bc9e2a",
        "IPY_MODEL_8aa717d7b6fc40d28778497245a654ac"
       ],
       "layout": "IPY_MODEL_0d28e0aad5d54877bd4456f04dfed602"
      }
     },
     "f9e2216776064b6284d979e6e4aa7ca3": {
      "model_module": "@jupyter-widgets/controls",
      "model_module_version": "1.5.0",
      "model_name": "IntProgressModel",
      "state": {
       "bar_style": "success",
       "description": "Epoch 1/20: 100%",
       "layout": "IPY_MODEL_95ed5a0903214a4ca53ed4156f874762",
       "max": 13,
       "style": "IPY_MODEL_3ac349914bae4bcb9d8ca608496c3b03",
       "value": 13
      }
     },
     "fa686cfcec51473e84a51d7cb7375223": {
      "model_module": "@jupyter-widgets/controls",
      "model_module_version": "1.5.0",
      "model_name": "ProgressStyleModel",
      "state": {
       "description_width": "initial"
      }
     },
     "fa6f94feab4e4eba84303bf7e09c3fbb": {
      "model_module": "@jupyter-widgets/controls",
      "model_module_version": "1.5.0",
      "model_name": "HBoxModel",
      "state": {
       "children": [
        "IPY_MODEL_44b10b4991fa4a2694ba6b756cd4fc98",
        "IPY_MODEL_a1a49049f3a54966b25589ba3f1ab9b0"
       ],
       "layout": "IPY_MODEL_fefb6b6c7e474faab107d9a57b400729"
      }
     },
     "fad99243e10d46a48326f22ef1ee7c8b": {
      "model_module": "@jupyter-widgets/base",
      "model_module_version": "1.2.0",
      "model_name": "LayoutModel",
      "state": {}
     },
     "fbf08176928d4da39caae6df99c06266": {
      "model_module": "@jupyter-widgets/controls",
      "model_module_version": "1.5.0",
      "model_name": "ProgressStyleModel",
      "state": {
       "description_width": "initial"
      }
     },
     "fc9d833c02d04fd58b36e48bb27f0afa": {
      "model_module": "@jupyter-widgets/controls",
      "model_module_version": "1.5.0",
      "model_name": "IntProgressModel",
      "state": {
       "bar_style": "success",
       "description": "Epoch 18/20: 100%",
       "layout": "IPY_MODEL_c35b65397d384b809c6eb14679c0f936",
       "max": 13,
       "style": "IPY_MODEL_e569499b2c1341d3a4101937eb21077f",
       "value": 13
      }
     },
     "fe56e14270154c28bc0cbcbb2d2585df": {
      "model_module": "@jupyter-widgets/base",
      "model_module_version": "1.2.0",
      "model_name": "LayoutModel",
      "state": {}
     },
     "fefb6b6c7e474faab107d9a57b400729": {
      "model_module": "@jupyter-widgets/base",
      "model_module_version": "1.2.0",
      "model_name": "LayoutModel",
      "state": {}
     }
    },
    "version_major": 2,
    "version_minor": 0
   }
  }
 },
 "nbformat": 4,
 "nbformat_minor": 5
}
